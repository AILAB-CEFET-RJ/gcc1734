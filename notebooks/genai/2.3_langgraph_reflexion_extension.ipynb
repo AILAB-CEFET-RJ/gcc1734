{
 "cells": [
  {
   "cell_type": "markdown",
   "metadata": {},
   "source": [
    "# LangGraph with Reflexion: Self-Correcting Agents\n",
    "\n",
    "This notebook illustrates the concept of langgraph with reflexion: self-correcting agents using LLMs."
   ]
  },
  {
   "cell_type": "markdown",
   "metadata": {},
   "source": [
    "# LangGraph with Reflexion: Self-Correcting Agents\n",
    "\n",
    "This notebook demonstrates how to extend a LangGraph with self-reflection and retry capabilities, inspired by the Reflexion agent architecture."
   ]
  },
  {
   "cell_type": "code",
   "execution_count": 1,
   "metadata": {},
   "outputs": [],
   "source": [
    "# Install necessary libraries (if not already installed)\n",
    "# !pip install langgraph langchain openai\n"
   ]
  },
  {
   "cell_type": "code",
   "execution_count": 2,
   "metadata": {},
   "outputs": [
    {
     "ename": "ModuleNotFoundError",
     "evalue": "No module named 'langgraph'",
     "output_type": "error",
     "traceback": [
      "\u001b[31m---------------------------------------------------------------------------\u001b[39m",
      "\u001b[31mModuleNotFoundError\u001b[39m                       Traceback (most recent call last)",
      "\u001b[36mCell\u001b[39m\u001b[36m \u001b[39m\u001b[32mIn[2]\u001b[39m\u001b[32m, line 1\u001b[39m\n\u001b[32m----> \u001b[39m\u001b[32m1\u001b[39m \u001b[38;5;28;01mfrom\u001b[39;00m\u001b[38;5;250m \u001b[39m\u001b[34;01mlanggraph\u001b[39;00m\u001b[34;01m.\u001b[39;00m\u001b[34;01mgraph\u001b[39;00m\u001b[38;5;250m \u001b[39m\u001b[38;5;28;01mimport\u001b[39;00m StateGraph, END\n\u001b[32m      2\u001b[39m \u001b[38;5;28;01mfrom\u001b[39;00m\u001b[38;5;250m \u001b[39m\u001b[34;01mlangchain\u001b[39;00m\u001b[34;01m.\u001b[39;00m\u001b[34;01mchat_models\u001b[39;00m\u001b[38;5;250m \u001b[39m\u001b[38;5;28;01mimport\u001b[39;00m ChatOpenAI\n\u001b[32m      4\u001b[39m \u001b[38;5;66;03m# Create LLM instance\u001b[39;00m\n",
      "\u001b[31mModuleNotFoundError\u001b[39m: No module named 'langgraph'"
     ]
    }
   ],
   "source": [
    "from langgraph.graph import StateGraph, END\n",
    "from langchain.chat_models import ChatOpenAI\n",
    "\n",
    "# Create LLM instance\n",
    "llm = ChatOpenAI(model=\"gpt-3.5-turbo\", temperature=0)"
   ]
  },
  {
   "cell_type": "markdown",
   "metadata": {},
   "source": [
    "## Define nodes for planning, execution, and reflection\n",
    "- The `planner` creates a task.\n",
    "- The `executor` attempts to solve it.\n",
    "- The `reflector` decides whether to retry or stop."
   ]
  },
  {
   "cell_type": "code",
   "execution_count": null,
   "metadata": {},
   "outputs": [],
   "source": [
    "initial_state = {\n",
    "    \"goal\": \"Translate 'apple' to Spanish and check if it is a fruit\",\n",
    "    \"attempts\": 0,\n",
    "    \"max_attempts\": 2\n",
    "}"
   ]
  },
  {
   "cell_type": "code",
   "execution_count": null,
   "metadata": {},
   "outputs": [],
   "source": [
    "# Planner: creates task steps\n",
    "def planner(state):\n",
    "    return {\n",
    "        **state,\n",
    "        \"task\": f\"{state['goal']}\"\n",
    "    }"
   ]
  },
  {
   "cell_type": "code",
   "execution_count": null,
   "metadata": {},
   "outputs": [],
   "source": [
    "# Executor: solves the task\n",
    "def executor(state):\n",
    "    response = llm.predict(state['task'])\n",
    "    return {\n",
    "        **state,\n",
    "        \"response\": response\n",
    "    }"
   ]
  },
  {
   "cell_type": "code",
   "execution_count": null,
   "metadata": {},
   "outputs": [],
   "source": [
    "# Reflector: evaluates and decides whether to retry\n",
    "def reflector(state):\n",
    "    review_prompt = f\"Was this response correct? '{state['response']}'\"\n",
    "    review = llm.predict(review_prompt)\n",
    "    if \"no\" in review.lower() and state[\"attempts\"] < state[\"max_attempts\"]:\n",
    "        print(\"Reflector: retrying...\")\n",
    "        return {\n",
    "            **state,\n",
    "            \"attempts\": state[\"attempts\"] + 1,\n",
    "            \"retry\": True\n",
    "        }\n",
    "    else:\n",
    "        print(\"Reflector: done.\")\n",
    "        return {\n",
    "            **state,\n",
    "            \"retry\": False\n",
    "        }"
   ]
  },
  {
   "cell_type": "markdown",
   "metadata": {},
   "source": [
    "## Build the LangGraph with a loop from reflection back to execution"
   ]
  },
  {
   "cell_type": "code",
   "execution_count": null,
   "metadata": {},
   "outputs": [],
   "source": [
    "# Build graph\n",
    "workflow = StateGraph()\n",
    "workflow.add_node(\"planner\", planner)\n",
    "workflow.add_node(\"executor\", executor)\n",
    "workflow.add_node(\"reflector\", reflector)\n",
    "\n",
    "workflow.set_entry_point(\"planner\")\n",
    "workflow.add_edge(\"planner\", \"executor\")\n",
    "workflow.add_edge(\"executor\", \"reflector\")\n",
    "workflow.add_conditional_edges(\"reflector\", {\n",
    "    \"retry\": \"executor\",\n",
    "    \"default\": END\n",
    "})\n",
    "\n",
    "app = workflow.compile()"
   ]
  },
  {
   "cell_type": "markdown",
   "metadata": {},
   "source": [
    "## Run the self-correcting agent"
   ]
  },
  {
   "cell_type": "code",
   "execution_count": null,
   "metadata": {},
   "outputs": [],
   "source": [
    "app.invoke(initial_state)"
   ]
  }
 ],
 "metadata": {
  "kernelspec": {
   "display_name": "gcc1734",
   "language": "python",
   "name": "python3"
  },
  "language_info": {
   "codemirror_mode": {
    "name": "ipython",
    "version": 3
   },
   "file_extension": ".py",
   "mimetype": "text/x-python",
   "name": "python",
   "nbconvert_exporter": "python",
   "pygments_lexer": "ipython3",
   "version": "3.13.2"
  }
 },
 "nbformat": 4,
 "nbformat_minor": 5
}
