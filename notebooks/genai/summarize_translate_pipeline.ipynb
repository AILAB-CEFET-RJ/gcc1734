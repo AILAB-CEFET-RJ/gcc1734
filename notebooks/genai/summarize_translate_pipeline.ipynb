{
 "cells": [
  {
   "cell_type": "markdown",
   "id": "613a88da",
   "metadata": {},
   "source": [
    "# Summarize and Translate Wikipedia Content with LangChain\n",
    "\n",
    "This notebook demonstrates how to build a reusable LangChain pipeline that:\n",
    "1. Summarizes an English text\n",
    "2. Translates the summary to Portuguese\n",
    "using LangChain's Runnable interface and prompt composition."
   ]
  },
  {
   "cell_type": "code",
   "execution_count": 4,
   "id": "976442ce",
   "metadata": {},
   "outputs": [],
   "source": [
    "%run get_llm.py"
   ]
  },
  {
   "cell_type": "code",
   "execution_count": 5,
   "id": "9a43c516",
   "metadata": {},
   "outputs": [],
   "source": [
    "# Define summary and translation prompts\n",
    "from langchain_core.prompts import PromptTemplate\n",
    "from langchain_core.runnables import RunnableSequence\n",
    "\n",
    "summary_prompt = PromptTemplate.from_template(\"\"\"\n",
    "Summarize the following text in a concise paragraph:\n",
    "{text}\n",
    "\"\"\")\n",
    "\n",
    "translate_prompt = PromptTemplate.from_template(\"\"\"\n",
    "Translate the following English paragraph to Portuguese:\n",
    "{text}\n",
    "\"\"\")"
   ]
  },
  {
   "cell_type": "code",
   "execution_count": 6,
   "id": "8a0d5b93",
   "metadata": {},
   "outputs": [
    {
     "name": "stderr",
     "output_type": "stream",
     "text": [
      "/home/ebezerra/ailab/gcc1734/notebooks/genai/get_llm.py:10: LangChainDeprecationWarning: The class `ChatOllama` was deprecated in LangChain 0.3.1 and will be removed in 1.0.0. An updated version of the class exists in the :class:`~langchain-ollama package and should be used instead. To use it run `pip install -U :class:`~langchain-ollama` and import as `from :class:`~langchain_ollama import ChatOllama``.\n",
      "  return ChatOllama(\n"
     ]
    }
   ],
   "source": [
    "# Compose the chain: article -> summary -> translation\n",
    "llm = get_llm()\n",
    "summary_chain = summary_prompt | llm\n",
    "translate_chain = translate_prompt | llm\n",
    "\n",
    "# Compose everything in a RunnableSequence\n",
    "pipeline = RunnableSequence(\n",
    "    lambda x: {\"text\": x[\"article\"]},\n",
    "    summary_chain,\n",
    "    lambda x: {\"text\": x},\n",
    "    translate_chain\n",
    ")"
   ]
  },
  {
   "cell_type": "code",
   "execution_count": null,
   "id": "d2a4ac8f",
   "metadata": {},
   "outputs": [],
   "source": [
    "# Sample Wikipedia article content (manually inserted or scraped elsewhere)\n",
    "sample_article = (\n",
    "    \"\"\"\n",
    "Marie Curie was a physicist and chemist who conducted pioneering research on radioactivity. \n",
    "She was the first woman to win a Nobel Prize and remains the only person to win Nobel Prizes \n",
    "in two different scientific fields (Physics and Chemistry). \n",
    "Her discoveries include the elements polonium and radium.\n",
    "\"\"\"\n",
    ")\n",
    "\n",
    "# Run the full pipeline\n",
    "output = pipeline.invoke({\"article\": sample_article})\n",
    "print(\"\\n--- Translated Summary (Portuguese) ---\\n\")\n",
    "print(output)"
   ]
  }
 ],
 "metadata": {
  "kernelspec": {
   "display_name": "gcc1734",
   "language": "python",
   "name": "python3"
  },
  "language_info": {
   "codemirror_mode": {
    "name": "ipython",
    "version": 3
   },
   "file_extension": ".py",
   "mimetype": "text/x-python",
   "name": "python",
   "nbconvert_exporter": "python",
   "pygments_lexer": "ipython3",
   "version": "3.13.2"
  }
 },
 "nbformat": 4,
 "nbformat_minor": 5
}
