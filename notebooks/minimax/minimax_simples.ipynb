{
 "cells": [
  {
   "cell_type": "markdown",
   "id": "82a033af",
   "metadata": {},
   "source": [
    "# Minimax simples"
   ]
  },
  {
   "cell_type": "code",
   "execution_count": 5,
   "id": "77a6aa2a",
   "metadata": {},
   "outputs": [],
   "source": [
    "from tic_tac_toe import TicTacToe \n",
    "from minimax import minimax, best_move"
   ]
  },
  {
   "cell_type": "code",
   "execution_count": 9,
   "id": "70e8d0e3",
   "metadata": {},
   "outputs": [
    {
     "data": {
      "text/plain": [
       "1"
      ]
     },
     "execution_count": 9,
     "metadata": {},
     "output_type": "execute_result"
    }
   ],
   "source": [
    "# --- Test Execution ---\n",
    "game = TicTacToe()\n",
    "\n",
    "# Create a partially played board to simulate a mid-game state\n",
    "initial_moves = [0, 4, 1, 5]  # X at 0, O at 4, X at 1, O at 5\n",
    "for move in initial_moves:\n",
    "    game.make_move(move)\n",
    "\n",
    "# Run algorithm\n",
    "minimax(game.copy(), True)"
   ]
  },
  {
   "cell_type": "code",
   "execution_count": 10,
   "id": "548ed376",
   "metadata": {},
   "outputs": [
    {
     "data": {
      "text/plain": [
       "2"
      ]
     },
     "execution_count": 10,
     "metadata": {},
     "output_type": "execute_result"
    }
   ],
   "source": [
    "best_move(game)"
   ]
  },
  {
   "cell_type": "code",
   "execution_count": 1,
   "id": "43f727dd",
   "metadata": {},
   "outputs": [
    {
     "ename": "NameError",
     "evalue": "name 'TicTacToe' is not defined",
     "output_type": "error",
     "traceback": [
      "\u001b[0;31m---------------------------------------------------------------------------\u001b[0m",
      "\u001b[0;31mNameError\u001b[0m                                 Traceback (most recent call last)",
      "Cell \u001b[0;32mIn[1], line 17\u001b[0m\n\u001b[1;32m     14\u001b[0m     \u001b[38;5;28;01mreturn\u001b[39;00m states, final_result\n\u001b[1;32m     16\u001b[0m \u001b[38;5;66;03m# Executa a simulação e retorna o histórico da partida\u001b[39;00m\n\u001b[0;32m---> 17\u001b[0m states, result \u001b[38;5;241m=\u001b[39m \u001b[43msimulate_game\u001b[49m\u001b[43m(\u001b[49m\u001b[43m)\u001b[49m\n\u001b[1;32m     18\u001b[0m \u001b[38;5;28;01mimport\u001b[39;00m\u001b[38;5;250m \u001b[39m\u001b[38;5;21;01mpandas\u001b[39;00m\u001b[38;5;250m \u001b[39m\u001b[38;5;28;01mas\u001b[39;00m\u001b[38;5;250m \u001b[39m\u001b[38;5;21;01mpd\u001b[39;00m\n\u001b[1;32m     19\u001b[0m df \u001b[38;5;241m=\u001b[39m pd\u001b[38;5;241m.\u001b[39mDataFrame(states, columns\u001b[38;5;241m=\u001b[39m[\u001b[38;5;124m\"\u001b[39m\u001b[38;5;124mTabuleiro\u001b[39m\u001b[38;5;124m\"\u001b[39m, \u001b[38;5;124m\"\u001b[39m\u001b[38;5;124mJogador\u001b[39m\u001b[38;5;124m\"\u001b[39m, \u001b[38;5;124m\"\u001b[39m\u001b[38;5;124mAção\u001b[39m\u001b[38;5;124m\"\u001b[39m])\n",
      "Cell \u001b[0;32mIn[1], line 5\u001b[0m, in \u001b[0;36msimulate_game\u001b[0;34m()\u001b[0m\n\u001b[1;32m      4\u001b[0m \u001b[38;5;28;01mdef\u001b[39;00m\u001b[38;5;250m \u001b[39m\u001b[38;5;21msimulate_game\u001b[39m():\n\u001b[0;32m----> 5\u001b[0m     game \u001b[38;5;241m=\u001b[39m \u001b[43mTicTacToe\u001b[49m()\n\u001b[1;32m      6\u001b[0m     states \u001b[38;5;241m=\u001b[39m []\n\u001b[1;32m      8\u001b[0m     \u001b[38;5;28;01mwhile\u001b[39;00m \u001b[38;5;129;01mnot\u001b[39;00m game\u001b[38;5;241m.\u001b[39mgame_over():\n",
      "\u001b[0;31mNameError\u001b[0m: name 'TicTacToe' is not defined"
     ]
    }
   ],
   "source": [
    "# Programa para ilustrar o uso da função best_move com o algoritmo Minimax\n",
    "\n",
    "# Simulação de uma partida onde ambos os jogadores usam a política ótima\n",
    "def simulate_game():\n",
    "    game = TicTacToe()\n",
    "    states = []\n",
    "\n",
    "    while not game.game_over():\n",
    "        move = best_move(game)\n",
    "        states.append((game.board[:], game.current, move))\n",
    "        game.make_move(move)\n",
    "\n",
    "    final_result = game.winner() or 'Empate'\n",
    "    return states, final_result\n",
    "\n",
    "# Executa a simulação e retorna o histórico da partida\n",
    "states, result = simulate_game()\n",
    "import pandas as pd\n",
    "df = pd.DataFrame(states, columns=[\"Tabuleiro\", \"Jogador\", \"Ação\"])\n",
    "df[\"Resultado final\"] = result\n",
    "df.head(10)"
   ]
  },
  {
   "cell_type": "code",
   "execution_count": 5,
   "id": "79c9ff04",
   "metadata": {},
   "outputs": [
    {
     "name": "stdout",
     "output_type": "stream",
     "text": [
      "\n",
      "Jogada 1 - Jogador: X, Ação: 0\n",
      "[' ', ' ', ' ']\n",
      "[' ', ' ', ' ']\n",
      "[' ', ' ', ' ']\n",
      "\n",
      "Jogada 2 - Jogador: O, Ação: 4\n",
      "['X', ' ', ' ']\n",
      "[' ', ' ', ' ']\n",
      "[' ', ' ', ' ']\n",
      "\n",
      "Jogada 3 - Jogador: X, Ação: 1\n",
      "['X', ' ', ' ']\n",
      "[' ', 'O', ' ']\n",
      "[' ', ' ', ' ']\n",
      "\n",
      "Jogada 4 - Jogador: O, Ação: 2\n",
      "['X', 'X', ' ']\n",
      "[' ', 'O', ' ']\n",
      "[' ', ' ', ' ']\n",
      "\n",
      "Jogada 5 - Jogador: X, Ação: 6\n",
      "['X', 'X', 'O']\n",
      "[' ', 'O', ' ']\n",
      "[' ', ' ', ' ']\n",
      "\n",
      "Jogada 6 - Jogador: O, Ação: 3\n",
      "['X', 'X', 'O']\n",
      "[' ', 'O', ' ']\n",
      "['X', ' ', ' ']\n",
      "\n",
      "Jogada 7 - Jogador: X, Ação: 5\n",
      "['X', 'X', 'O']\n",
      "['O', 'O', ' ']\n",
      "['X', ' ', ' ']\n",
      "\n",
      "Jogada 8 - Jogador: O, Ação: 7\n",
      "['X', 'X', 'O']\n",
      "['O', 'O', 'X']\n",
      "['X', ' ', ' ']\n",
      "\n",
      "Jogada 9 - Jogador: X, Ação: 8\n",
      "['X', 'X', 'O']\n",
      "['O', 'O', 'X']\n",
      "['X', 'O', ' ']\n",
      "\n",
      "Resultado final: Empate\n"
     ]
    }
   ],
   "source": [
    "for i, (tab, jogador, acao) in enumerate(states):\n",
    "    print(f\"\\nJogada {i+1} - Jogador: {jogador}, Ação: {acao}\")\n",
    "    print(tab[0:3])\n",
    "    print(tab[3:6])\n",
    "    print(tab[6:9])\n",
    "\n",
    "print(f\"\\nResultado final: {result}\")\n"
   ]
  }
 ],
 "metadata": {
  "kernelspec": {
   "display_name": "gcc1734",
   "language": "python",
   "name": "python3"
  },
  "language_info": {
   "codemirror_mode": {
    "name": "ipython",
    "version": 3
   },
   "file_extension": ".py",
   "mimetype": "text/x-python",
   "name": "python",
   "nbconvert_exporter": "python",
   "pygments_lexer": "ipython3",
   "version": "3.11.11"
  }
 },
 "nbformat": 4,
 "nbformat_minor": 5
}
