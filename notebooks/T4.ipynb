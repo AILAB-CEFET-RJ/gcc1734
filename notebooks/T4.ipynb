{
 "cells": [
  {
   "cell_type": "markdown",
   "id": "f3e83a3d",
   "metadata": {},
   "source": [
    "# 1. Detecção de Propaganda Irregular"
   ]
  },
  {
   "cell_type": "markdown",
   "id": "78bedb84",
   "metadata": {},
   "source": [
    "# 2. Reconhecimento de Entidades Nomeadas"
   ]
  },
  {
   "cell_type": "code",
   "execution_count": 1,
   "id": "a21089f8",
   "metadata": {},
   "outputs": [],
   "source": [
    "tokens = [\"Angela\", \"Merkel\", \"visited\", \"Berlin\", \".\"]\n",
    "tags = [\"B-PER\", \"I-PER\", \"O\", \"B-LOC\", \"O\"]"
   ]
  },
  {
   "cell_type": "code",
   "execution_count": 2,
   "id": "8c3bf046",
   "metadata": {},
   "outputs": [
    {
     "data": {
      "text/html": [
       "<span class=\"tex2jax_ignore\"><div class=\"entities\" style=\"line-height: 2.5; direction: ltr\">\n",
       "<mark class=\"entity\" style=\"background: #ddd; padding: 0.45em 0.6em; margin: 0 0.25em; line-height: 1; border-radius: 0.35em;\">\n",
       "    Angela Merkel\n",
       "    <span style=\"font-size: 0.8em; font-weight: bold; line-height: 1; border-radius: 0.35em; vertical-align: middle; margin-left: 0.5rem\">PER</span>\n",
       "</mark>\n",
       " visited \n",
       "<mark class=\"entity\" style=\"background: #ff9561; padding: 0.45em 0.6em; margin: 0 0.25em; line-height: 1; border-radius: 0.35em;\">\n",
       "    Berlin\n",
       "    <span style=\"font-size: 0.8em; font-weight: bold; line-height: 1; border-radius: 0.35em; vertical-align: middle; margin-left: 0.5rem\">LOC</span>\n",
       "</mark>\n",
       " . </div></span>"
      ],
      "text/plain": [
       "<IPython.core.display.HTML object>"
      ]
     },
     "metadata": {},
     "output_type": "display_data"
    }
   ],
   "source": [
    "import spacy\n",
    "from spacy.tokens import Doc, Span\n",
    "from spacy import displacy\n",
    "\n",
    "# Carregar modelo spaCy em branco\n",
    "nlp = spacy.blank(\"en\")\n",
    "\n",
    "# Criar objeto Doc\n",
    "doc = Doc(nlp.vocab, words=tokens)\n",
    "\n",
    "# Identificar spans com base nas tags BIO\n",
    "spans = []\n",
    "i = 0\n",
    "while i < len(tags):\n",
    "    tag = tags[i]\n",
    "    if tag.startswith(\"B-\"):\n",
    "        label = tag[2:]\n",
    "        start = i\n",
    "        i += 1\n",
    "        while i < len(tags) and tags[i] == f\"I-{label}\":\n",
    "            i += 1\n",
    "        end = i\n",
    "        spans.append(Span(doc, start, end, label=label))\n",
    "    else:\n",
    "        i += 1\n",
    "\n",
    "# Atribuir as entidades ao Doc\n",
    "doc.ents = spans\n",
    "\n",
    "# Visualizar\n",
    "displacy.render(doc, style=\"ent\", jupyter=True)"
   ]
  }
 ],
 "metadata": {
  "kernelspec": {
   "display_name": "gcc1734_py310",
   "language": "python",
   "name": "python3"
  },
  "language_info": {
   "codemirror_mode": {
    "name": "ipython",
    "version": 3
   },
   "file_extension": ".py",
   "mimetype": "text/x-python",
   "name": "python",
   "nbconvert_exporter": "python",
   "pygments_lexer": "ipython3",
   "version": "3.10.18"
  }
 },
 "nbformat": 4,
 "nbformat_minor": 5
}
