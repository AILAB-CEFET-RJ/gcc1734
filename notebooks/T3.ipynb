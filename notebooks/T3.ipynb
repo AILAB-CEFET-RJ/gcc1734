{
 "cells": [
  {
   "cell_type": "markdown",
   "id": "f3e83a3d",
   "metadata": {},
   "source": [
    "## 1. Predição de preços de diamantes (2 pts)"
   ]
  },
  {
   "cell_type": "markdown",
   "id": "78bedb84",
   "metadata": {},
   "source": [
    "## 2. Redes Neurais MLP com PyTorch (2 pts)"
   ]
  },
  {
   "cell_type": "markdown",
   "id": "db17bd71",
   "metadata": {},
   "source": [
    "### 2.1 Parte A – Classificação"
   ]
  },
  {
   "cell_type": "markdown",
   "id": "f33b23e2",
   "metadata": {},
   "source": [
    "### 2.2 Parte B – Regressão"
   ]
  },
  {
   "cell_type": "markdown",
   "id": "1b0ac593",
   "metadata": {},
   "source": [
    "## 3. Diagnóstico de qualidade (2 pts)"
   ]
  },
  {
   "cell_type": "markdown",
   "id": "154e3167",
   "metadata": {},
   "source": [
    "## 4. Conjuntos desbalanceados"
   ]
  },
  {
   "cell_type": "markdown",
   "id": "d267d0ce",
   "metadata": {},
   "source": [
    "### 4.1 Classificação (2 pts)"
   ]
  },
  {
   "cell_type": "markdown",
   "id": "6fa569c2",
   "metadata": {},
   "source": [
    "### 4.2 Regressão (2 pts)"
   ]
  }
 ],
 "metadata": {
  "language_info": {
   "name": "python"
  }
 },
 "nbformat": 4,
 "nbformat_minor": 5
}
