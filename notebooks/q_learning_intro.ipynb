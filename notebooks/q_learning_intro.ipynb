{
 "cells": [
  {
   "cell_type": "markdown",
   "id": "8da17408",
   "metadata": {},
   "source": [
    "# Simple Q-learning example\n",
    "\n",
    "Environment setup:\n",
    "- States: 0 (left), 1 (middle), 2 (right), 3 (goal)\n",
    "- Actions: 0 (left), 1 (right)\n",
    "- Rewards: 0 for all states except state 3 (goal), which gives a reward of 1\n",
    "- Transition: moving left or right"
   ]
  },
  {
   "cell_type": "code",
   "execution_count": 2,
   "id": "9807c425",
   "metadata": {},
   "outputs": [
    {
     "name": "stdout",
     "output_type": "stream",
     "text": [
      "Initial Q-values:\n",
      "[[0. 0.]\n",
      " [0. 0.]\n",
      " [0. 0.]\n",
      " [0. 0.]]\n",
      "Q-values after training:\n",
      "[[0.72588583 0.81      ]\n",
      " [0.72777222 0.9       ]\n",
      " [0.78176577 1.        ]\n",
      " [0.         0.        ]]\n"
     ]
    }
   ],
   "source": [
    "import numpy as np\n",
    "\n",
    "# Define the environment -- simple grid world with 4 states and 2 actions\n",
    "states = [0, 1, 2, 3]  # simple grid world\n",
    "actions = [0, 1]  # 0 = left, 1 = right\n",
    "\n",
    "# Q-values are initialized to zero\n",
    "Q = np.zeros((len(states), len(actions)))\n",
    "\n",
    "print(\"Initial Q-values:\")\n",
    "print(Q)\n",
    "\n",
    "rewards = [0, 0, 0, 1]  # reward at state 3\n",
    "\n",
    "# Define the learning parameters\n",
    "# alpha = learning rate, gamma = discount factor, epsilon = exploration rate\n",
    "# These parameters are typically tuned based on the specific problem and environment\n",
    "# For this example, we will use arbitrary values\n",
    "alpha = 0.1\n",
    "gamma = 0.9\n",
    "epsilon = 0.1\n",
    "\n",
    "def choose_action(state):\n",
    "    if np.random.rand() < epsilon:\n",
    "        return np.random.choice(actions)\n",
    "    return np.argmax(Q[state])\n",
    "\n",
    "for episode in range(1000):\n",
    "    state = 0\n",
    "    while state != 3:\n",
    "        action = choose_action(state)\n",
    "        next_state = state + 1 if action == 1 else max(0, state - 1)\n",
    "        reward = rewards[next_state]\n",
    "        Q[state, action] += alpha * (reward + gamma * np.max(Q[next_state]) - Q[state, action])\n",
    "        state = next_state\n",
    "\n",
    "print(\"Q-values after training:\")\n",
    "print(Q)"
   ]
  }
 ],
 "metadata": {
  "kernelspec": {
   "display_name": "gcc1734",
   "language": "python",
   "name": "python3"
  },
  "language_info": {
   "codemirror_mode": {
    "name": "ipython",
    "version": 3
   },
   "file_extension": ".py",
   "mimetype": "text/x-python",
   "name": "python",
   "nbconvert_exporter": "python",
   "pygments_lexer": "ipython3",
   "version": "3.10.9"
  }
 },
 "nbformat": 4,
 "nbformat_minor": 5
}
