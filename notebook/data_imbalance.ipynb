{
 "cells": [
  {
   "cell_type": "markdown",
   "metadata": {},
   "source": [
    "# Credits\n",
    "\n",
    "This notebook is adapted from another one produced by Damini Dasgupta. See her presentation at https://www.youtube.com/watch?v=tm7PoOnQ5HU&t=2612s."
   ]
  },
  {
   "cell_type": "markdown",
   "metadata": {},
   "source": [
    "# Importing Necessary Packages"
   ]
  },
  {
   "cell_type": "code",
   "execution_count": 1,
   "metadata": {},
   "outputs": [],
   "source": [
    "#pip install xgboost"
   ]
  },
  {
   "cell_type": "code",
   "execution_count": 2,
   "metadata": {},
   "outputs": [],
   "source": [
    "import numpy as np #python library for working with arrays\n",
    "import pandas as pd # for working with datasets\n",
    "\n",
    "#Graphs\n",
    "import matplotlib.pyplot as plt #visualization\n",
    "from matplotlib import pyplot #visualization \n",
    "%matplotlib inline \n",
    "#static images of your plot embedded in the workbook\n",
    "\n",
    "#For splitting the train and test data\n",
    "from sklearn.model_selection import train_test_split\n",
    "\n",
    "#For Sampling\n",
    "from sklearn.utils import resample\n",
    "\n",
    "#XGBoost Algorithm\n",
    "import xgboost as xgb\n",
    "\n",
    "#Evaluation\n",
    "from sklearn import metrics\n",
    "from sklearn.metrics import confusion_matrix\n",
    "from sklearn.metrics import precision_score, recall_score, f1_score, accuracy_score\n",
    "\n",
    "import warnings\n",
    "warnings.filterwarnings(\"ignore\")"
   ]
  },
  {
   "cell_type": "code",
   "execution_count": 3,
   "metadata": {},
   "outputs": [],
   "source": [
    "pd.options.display.max_colwidth = 150 #to extend the maximum width of the output display"
   ]
  },
  {
   "cell_type": "markdown",
   "metadata": {},
   "source": [
    "# Reading the Dataset"
   ]
  },
  {
   "cell_type": "code",
   "execution_count": 4,
   "metadata": {},
   "outputs": [],
   "source": [
    "data = pd.read_csv('../data/aug_train.csv')"
   ]
  },
  {
   "cell_type": "code",
   "execution_count": 5,
   "metadata": {},
   "outputs": [
    {
     "data": {
      "text/html": [
       "<div>\n",
       "<style scoped>\n",
       "    .dataframe tbody tr th:only-of-type {\n",
       "        vertical-align: middle;\n",
       "    }\n",
       "\n",
       "    .dataframe tbody tr th {\n",
       "        vertical-align: top;\n",
       "    }\n",
       "\n",
       "    .dataframe thead th {\n",
       "        text-align: right;\n",
       "    }\n",
       "</style>\n",
       "<table border=\"1\" class=\"dataframe\">\n",
       "  <thead>\n",
       "    <tr style=\"text-align: right;\">\n",
       "      <th></th>\n",
       "      <th>id</th>\n",
       "      <th>Gender</th>\n",
       "      <th>Age</th>\n",
       "      <th>Driving_License</th>\n",
       "      <th>Region_Code</th>\n",
       "      <th>Previously_Insured</th>\n",
       "      <th>Vehicle_Age</th>\n",
       "      <th>Vehicle_Damage</th>\n",
       "      <th>Annual_Premium</th>\n",
       "      <th>Policy_Sales_Channel</th>\n",
       "      <th>Vintage</th>\n",
       "      <th>Response</th>\n",
       "    </tr>\n",
       "  </thead>\n",
       "  <tbody>\n",
       "    <tr>\n",
       "      <th>0</th>\n",
       "      <td>167647</td>\n",
       "      <td>Male</td>\n",
       "      <td>22</td>\n",
       "      <td>1</td>\n",
       "      <td>7.0</td>\n",
       "      <td>1</td>\n",
       "      <td>&lt; 1 Year</td>\n",
       "      <td>No</td>\n",
       "      <td>2630.0</td>\n",
       "      <td>152.0</td>\n",
       "      <td>16</td>\n",
       "      <td>0</td>\n",
       "    </tr>\n",
       "    <tr>\n",
       "      <th>1</th>\n",
       "      <td>17163</td>\n",
       "      <td>Male</td>\n",
       "      <td>42</td>\n",
       "      <td>1</td>\n",
       "      <td>28.0</td>\n",
       "      <td>0</td>\n",
       "      <td>1-2 Year</td>\n",
       "      <td>Yes</td>\n",
       "      <td>43327.0</td>\n",
       "      <td>26.0</td>\n",
       "      <td>135</td>\n",
       "      <td>0</td>\n",
       "    </tr>\n",
       "    <tr>\n",
       "      <th>2</th>\n",
       "      <td>32023</td>\n",
       "      <td>Female</td>\n",
       "      <td>66</td>\n",
       "      <td>1</td>\n",
       "      <td>33.0</td>\n",
       "      <td>0</td>\n",
       "      <td>1-2 Year</td>\n",
       "      <td>Yes</td>\n",
       "      <td>35841.0</td>\n",
       "      <td>124.0</td>\n",
       "      <td>253</td>\n",
       "      <td>0</td>\n",
       "    </tr>\n",
       "    <tr>\n",
       "      <th>3</th>\n",
       "      <td>87447</td>\n",
       "      <td>Female</td>\n",
       "      <td>22</td>\n",
       "      <td>1</td>\n",
       "      <td>33.0</td>\n",
       "      <td>0</td>\n",
       "      <td>&lt; 1 Year</td>\n",
       "      <td>No</td>\n",
       "      <td>27645.0</td>\n",
       "      <td>152.0</td>\n",
       "      <td>69</td>\n",
       "      <td>0</td>\n",
       "    </tr>\n",
       "    <tr>\n",
       "      <th>4</th>\n",
       "      <td>501933</td>\n",
       "      <td>Male</td>\n",
       "      <td>28</td>\n",
       "      <td>1</td>\n",
       "      <td>46.0</td>\n",
       "      <td>1</td>\n",
       "      <td>&lt; 1 Year</td>\n",
       "      <td>No</td>\n",
       "      <td>29023.0</td>\n",
       "      <td>152.0</td>\n",
       "      <td>211</td>\n",
       "      <td>0</td>\n",
       "    </tr>\n",
       "    <tr>\n",
       "      <th>5</th>\n",
       "      <td>295775</td>\n",
       "      <td>Female</td>\n",
       "      <td>25</td>\n",
       "      <td>1</td>\n",
       "      <td>25.0</td>\n",
       "      <td>1</td>\n",
       "      <td>&lt; 1 Year</td>\n",
       "      <td>No</td>\n",
       "      <td>27954.0</td>\n",
       "      <td>152.0</td>\n",
       "      <td>23</td>\n",
       "      <td>0</td>\n",
       "    </tr>\n",
       "    <tr>\n",
       "      <th>6</th>\n",
       "      <td>71711</td>\n",
       "      <td>Male</td>\n",
       "      <td>51</td>\n",
       "      <td>1</td>\n",
       "      <td>8.0</td>\n",
       "      <td>0</td>\n",
       "      <td>1-2 Year</td>\n",
       "      <td>Yes</td>\n",
       "      <td>2630.0</td>\n",
       "      <td>26.0</td>\n",
       "      <td>209</td>\n",
       "      <td>0</td>\n",
       "    </tr>\n",
       "    <tr>\n",
       "      <th>7</th>\n",
       "      <td>331781</td>\n",
       "      <td>Male</td>\n",
       "      <td>38</td>\n",
       "      <td>1</td>\n",
       "      <td>28.0</td>\n",
       "      <td>1</td>\n",
       "      <td>1-2 Year</td>\n",
       "      <td>No</td>\n",
       "      <td>2630.0</td>\n",
       "      <td>26.0</td>\n",
       "      <td>51</td>\n",
       "      <td>0</td>\n",
       "    </tr>\n",
       "    <tr>\n",
       "      <th>8</th>\n",
       "      <td>290704</td>\n",
       "      <td>Female</td>\n",
       "      <td>45</td>\n",
       "      <td>1</td>\n",
       "      <td>28.0</td>\n",
       "      <td>0</td>\n",
       "      <td>1-2 Year</td>\n",
       "      <td>Yes</td>\n",
       "      <td>55873.0</td>\n",
       "      <td>124.0</td>\n",
       "      <td>262</td>\n",
       "      <td>0</td>\n",
       "    </tr>\n",
       "    <tr>\n",
       "      <th>9</th>\n",
       "      <td>344792</td>\n",
       "      <td>Male</td>\n",
       "      <td>42</td>\n",
       "      <td>1</td>\n",
       "      <td>28.0</td>\n",
       "      <td>0</td>\n",
       "      <td>1-2 Year</td>\n",
       "      <td>Yes</td>\n",
       "      <td>27801.0</td>\n",
       "      <td>122.0</td>\n",
       "      <td>217</td>\n",
       "      <td>1</td>\n",
       "    </tr>\n",
       "  </tbody>\n",
       "</table>\n",
       "</div>"
      ],
      "text/plain": [
       "       id  Gender  Age  Driving_License  Region_Code  Previously_Insured  \\\n",
       "0  167647    Male   22                1          7.0                   1   \n",
       "1   17163    Male   42                1         28.0                   0   \n",
       "2   32023  Female   66                1         33.0                   0   \n",
       "3   87447  Female   22                1         33.0                   0   \n",
       "4  501933    Male   28                1         46.0                   1   \n",
       "5  295775  Female   25                1         25.0                   1   \n",
       "6   71711    Male   51                1          8.0                   0   \n",
       "7  331781    Male   38                1         28.0                   1   \n",
       "8  290704  Female   45                1         28.0                   0   \n",
       "9  344792    Male   42                1         28.0                   0   \n",
       "\n",
       "  Vehicle_Age Vehicle_Damage  Annual_Premium  Policy_Sales_Channel  Vintage  \\\n",
       "0    < 1 Year             No          2630.0                 152.0       16   \n",
       "1    1-2 Year            Yes         43327.0                  26.0      135   \n",
       "2    1-2 Year            Yes         35841.0                 124.0      253   \n",
       "3    < 1 Year             No         27645.0                 152.0       69   \n",
       "4    < 1 Year             No         29023.0                 152.0      211   \n",
       "5    < 1 Year             No         27954.0                 152.0       23   \n",
       "6    1-2 Year            Yes          2630.0                  26.0      209   \n",
       "7    1-2 Year             No          2630.0                  26.0       51   \n",
       "8    1-2 Year            Yes         55873.0                 124.0      262   \n",
       "9    1-2 Year            Yes         27801.0                 122.0      217   \n",
       "\n",
       "   Response  \n",
       "0         0  \n",
       "1         0  \n",
       "2         0  \n",
       "3         0  \n",
       "4         0  \n",
       "5         0  \n",
       "6         0  \n",
       "7         0  \n",
       "8         0  \n",
       "9         1  "
      ]
     },
     "execution_count": 5,
     "metadata": {},
     "output_type": "execute_result"
    }
   ],
   "source": [
    "data.head(10)"
   ]
  },
  {
   "cell_type": "markdown",
   "metadata": {},
   "source": [
    "# Basic Exploratory Data Analysis"
   ]
  },
  {
   "cell_type": "code",
   "execution_count": 6,
   "metadata": {},
   "outputs": [
    {
     "data": {
      "text/html": [
       "<div>\n",
       "<style scoped>\n",
       "    .dataframe tbody tr th:only-of-type {\n",
       "        vertical-align: middle;\n",
       "    }\n",
       "\n",
       "    .dataframe tbody tr th {\n",
       "        vertical-align: top;\n",
       "    }\n",
       "\n",
       "    .dataframe thead th {\n",
       "        text-align: right;\n",
       "    }\n",
       "</style>\n",
       "<table border=\"1\" class=\"dataframe\">\n",
       "  <thead>\n",
       "    <tr style=\"text-align: right;\">\n",
       "      <th></th>\n",
       "      <th>id</th>\n",
       "      <th>Age</th>\n",
       "      <th>Driving_License</th>\n",
       "      <th>Region_Code</th>\n",
       "      <th>Previously_Insured</th>\n",
       "      <th>Annual_Premium</th>\n",
       "      <th>Policy_Sales_Channel</th>\n",
       "      <th>Vintage</th>\n",
       "      <th>Response</th>\n",
       "    </tr>\n",
       "  </thead>\n",
       "  <tbody>\n",
       "    <tr>\n",
       "      <th>count</th>\n",
       "      <td>382154.000000</td>\n",
       "      <td>382154.000000</td>\n",
       "      <td>382154.000000</td>\n",
       "      <td>382154.000000</td>\n",
       "      <td>382154.000000</td>\n",
       "      <td>382154.000000</td>\n",
       "      <td>382154.000000</td>\n",
       "      <td>382154.000000</td>\n",
       "      <td>382154.000000</td>\n",
       "    </tr>\n",
       "    <tr>\n",
       "      <th>mean</th>\n",
       "      <td>234392.953477</td>\n",
       "      <td>38.545691</td>\n",
       "      <td>0.998108</td>\n",
       "      <td>26.406867</td>\n",
       "      <td>0.489182</td>\n",
       "      <td>30711.271362</td>\n",
       "      <td>111.939812</td>\n",
       "      <td>154.189429</td>\n",
       "      <td>0.163811</td>\n",
       "    </tr>\n",
       "    <tr>\n",
       "      <th>std</th>\n",
       "      <td>139527.487326</td>\n",
       "      <td>15.226897</td>\n",
       "      <td>0.043455</td>\n",
       "      <td>13.181241</td>\n",
       "      <td>0.499884</td>\n",
       "      <td>17061.595532</td>\n",
       "      <td>54.286511</td>\n",
       "      <td>83.735107</td>\n",
       "      <td>0.370104</td>\n",
       "    </tr>\n",
       "    <tr>\n",
       "      <th>min</th>\n",
       "      <td>1.000000</td>\n",
       "      <td>20.000000</td>\n",
       "      <td>0.000000</td>\n",
       "      <td>0.000000</td>\n",
       "      <td>0.000000</td>\n",
       "      <td>2630.000000</td>\n",
       "      <td>1.000000</td>\n",
       "      <td>10.000000</td>\n",
       "      <td>0.000000</td>\n",
       "    </tr>\n",
       "    <tr>\n",
       "      <th>25%</th>\n",
       "      <td>115006.250000</td>\n",
       "      <td>25.000000</td>\n",
       "      <td>1.000000</td>\n",
       "      <td>15.000000</td>\n",
       "      <td>0.000000</td>\n",
       "      <td>24546.000000</td>\n",
       "      <td>26.000000</td>\n",
       "      <td>81.000000</td>\n",
       "      <td>0.000000</td>\n",
       "    </tr>\n",
       "    <tr>\n",
       "      <th>50%</th>\n",
       "      <td>230461.500000</td>\n",
       "      <td>36.000000</td>\n",
       "      <td>1.000000</td>\n",
       "      <td>28.000000</td>\n",
       "      <td>0.000000</td>\n",
       "      <td>31692.000000</td>\n",
       "      <td>145.000000</td>\n",
       "      <td>154.000000</td>\n",
       "      <td>0.000000</td>\n",
       "    </tr>\n",
       "    <tr>\n",
       "      <th>75%</th>\n",
       "      <td>345434.750000</td>\n",
       "      <td>49.000000</td>\n",
       "      <td>1.000000</td>\n",
       "      <td>35.000000</td>\n",
       "      <td>1.000000</td>\n",
       "      <td>39447.750000</td>\n",
       "      <td>152.000000</td>\n",
       "      <td>227.000000</td>\n",
       "      <td>0.000000</td>\n",
       "    </tr>\n",
       "    <tr>\n",
       "      <th>max</th>\n",
       "      <td>508145.000000</td>\n",
       "      <td>85.000000</td>\n",
       "      <td>1.000000</td>\n",
       "      <td>52.000000</td>\n",
       "      <td>1.000000</td>\n",
       "      <td>540165.000000</td>\n",
       "      <td>163.000000</td>\n",
       "      <td>299.000000</td>\n",
       "      <td>1.000000</td>\n",
       "    </tr>\n",
       "  </tbody>\n",
       "</table>\n",
       "</div>"
      ],
      "text/plain": [
       "                  id            Age  Driving_License    Region_Code  \\\n",
       "count  382154.000000  382154.000000    382154.000000  382154.000000   \n",
       "mean   234392.953477      38.545691         0.998108      26.406867   \n",
       "std    139527.487326      15.226897         0.043455      13.181241   \n",
       "min         1.000000      20.000000         0.000000       0.000000   \n",
       "25%    115006.250000      25.000000         1.000000      15.000000   \n",
       "50%    230461.500000      36.000000         1.000000      28.000000   \n",
       "75%    345434.750000      49.000000         1.000000      35.000000   \n",
       "max    508145.000000      85.000000         1.000000      52.000000   \n",
       "\n",
       "       Previously_Insured  Annual_Premium  Policy_Sales_Channel  \\\n",
       "count       382154.000000   382154.000000         382154.000000   \n",
       "mean             0.489182    30711.271362            111.939812   \n",
       "std              0.499884    17061.595532             54.286511   \n",
       "min              0.000000     2630.000000              1.000000   \n",
       "25%              0.000000    24546.000000             26.000000   \n",
       "50%              0.000000    31692.000000            145.000000   \n",
       "75%              1.000000    39447.750000            152.000000   \n",
       "max              1.000000   540165.000000            163.000000   \n",
       "\n",
       "             Vintage       Response  \n",
       "count  382154.000000  382154.000000  \n",
       "mean      154.189429       0.163811  \n",
       "std        83.735107       0.370104  \n",
       "min        10.000000       0.000000  \n",
       "25%        81.000000       0.000000  \n",
       "50%       154.000000       0.000000  \n",
       "75%       227.000000       0.000000  \n",
       "max       299.000000       1.000000  "
      ]
     },
     "execution_count": 6,
     "metadata": {},
     "output_type": "execute_result"
    }
   ],
   "source": [
    "data.describe()"
   ]
  },
  {
   "cell_type": "code",
   "execution_count": 7,
   "metadata": {},
   "outputs": [
    {
     "name": "stdout",
     "output_type": "stream",
     "text": [
      "<class 'pandas.core.frame.DataFrame'>\n",
      "RangeIndex: 382154 entries, 0 to 382153\n",
      "Data columns (total 12 columns):\n",
      " #   Column                Non-Null Count   Dtype  \n",
      "---  ------                --------------   -----  \n",
      " 0   id                    382154 non-null  int64  \n",
      " 1   Gender                382154 non-null  object \n",
      " 2   Age                   382154 non-null  int64  \n",
      " 3   Driving_License       382154 non-null  int64  \n",
      " 4   Region_Code           382154 non-null  float64\n",
      " 5   Previously_Insured    382154 non-null  int64  \n",
      " 6   Vehicle_Age           382154 non-null  object \n",
      " 7   Vehicle_Damage        382154 non-null  object \n",
      " 8   Annual_Premium        382154 non-null  float64\n",
      " 9   Policy_Sales_Channel  382154 non-null  float64\n",
      " 10  Vintage               382154 non-null  int64  \n",
      " 11  Response              382154 non-null  int64  \n",
      "dtypes: float64(3), int64(6), object(3)\n",
      "memory usage: 35.0+ MB\n"
     ]
    }
   ],
   "source": [
    "data.info()"
   ]
  },
  {
   "cell_type": "code",
   "execution_count": 8,
   "metadata": {},
   "outputs": [
    {
     "data": {
      "text/plain": [
       "0"
      ]
     },
     "execution_count": 8,
     "metadata": {},
     "output_type": "execute_result"
    }
   ],
   "source": [
    "data.isnull().sum().sum() #checking for null values"
   ]
  },
  {
   "cell_type": "code",
   "execution_count": 9,
   "metadata": {},
   "outputs": [
    {
     "data": {
      "text/plain": [
       "id                        int64\n",
       "Gender                   object\n",
       "Age                       int64\n",
       "Driving_License           int64\n",
       "Region_Code             float64\n",
       "Previously_Insured        int64\n",
       "Vehicle_Age              object\n",
       "Vehicle_Damage           object\n",
       "Annual_Premium          float64\n",
       "Policy_Sales_Channel    float64\n",
       "Vintage                   int64\n",
       "Response                  int64\n",
       "dtype: object"
      ]
     },
     "execution_count": 9,
     "metadata": {},
     "output_type": "execute_result"
    }
   ],
   "source": [
    "data.dtypes #checking the data types of the various columns"
   ]
  },
  {
   "cell_type": "code",
   "execution_count": 10,
   "metadata": {},
   "outputs": [
    {
     "data": {
      "text/html": [
       "<div>\n",
       "<style scoped>\n",
       "    .dataframe tbody tr th:only-of-type {\n",
       "        vertical-align: middle;\n",
       "    }\n",
       "\n",
       "    .dataframe tbody tr th {\n",
       "        vertical-align: top;\n",
       "    }\n",
       "\n",
       "    .dataframe thead th {\n",
       "        text-align: right;\n",
       "    }\n",
       "</style>\n",
       "<table border=\"1\" class=\"dataframe\">\n",
       "  <thead>\n",
       "    <tr style=\"text-align: right;\">\n",
       "      <th></th>\n",
       "      <th>id</th>\n",
       "      <th>Age</th>\n",
       "      <th>Driving_License</th>\n",
       "      <th>Region_Code</th>\n",
       "      <th>Previously_Insured</th>\n",
       "      <th>Annual_Premium</th>\n",
       "      <th>Policy_Sales_Channel</th>\n",
       "      <th>Vintage</th>\n",
       "      <th>Response</th>\n",
       "    </tr>\n",
       "  </thead>\n",
       "  <tbody>\n",
       "    <tr>\n",
       "      <th>count</th>\n",
       "      <td>382154.000000</td>\n",
       "      <td>382154.000000</td>\n",
       "      <td>382154.000000</td>\n",
       "      <td>382154.000000</td>\n",
       "      <td>382154.000000</td>\n",
       "      <td>382154.000000</td>\n",
       "      <td>382154.000000</td>\n",
       "      <td>382154.000000</td>\n",
       "      <td>382154.000000</td>\n",
       "    </tr>\n",
       "    <tr>\n",
       "      <th>mean</th>\n",
       "      <td>234392.953477</td>\n",
       "      <td>38.545691</td>\n",
       "      <td>0.998108</td>\n",
       "      <td>26.406867</td>\n",
       "      <td>0.489182</td>\n",
       "      <td>30711.271362</td>\n",
       "      <td>111.939812</td>\n",
       "      <td>154.189429</td>\n",
       "      <td>0.163811</td>\n",
       "    </tr>\n",
       "    <tr>\n",
       "      <th>std</th>\n",
       "      <td>139527.487326</td>\n",
       "      <td>15.226897</td>\n",
       "      <td>0.043455</td>\n",
       "      <td>13.181241</td>\n",
       "      <td>0.499884</td>\n",
       "      <td>17061.595532</td>\n",
       "      <td>54.286511</td>\n",
       "      <td>83.735107</td>\n",
       "      <td>0.370104</td>\n",
       "    </tr>\n",
       "    <tr>\n",
       "      <th>min</th>\n",
       "      <td>1.000000</td>\n",
       "      <td>20.000000</td>\n",
       "      <td>0.000000</td>\n",
       "      <td>0.000000</td>\n",
       "      <td>0.000000</td>\n",
       "      <td>2630.000000</td>\n",
       "      <td>1.000000</td>\n",
       "      <td>10.000000</td>\n",
       "      <td>0.000000</td>\n",
       "    </tr>\n",
       "    <tr>\n",
       "      <th>25%</th>\n",
       "      <td>115006.250000</td>\n",
       "      <td>25.000000</td>\n",
       "      <td>1.000000</td>\n",
       "      <td>15.000000</td>\n",
       "      <td>0.000000</td>\n",
       "      <td>24546.000000</td>\n",
       "      <td>26.000000</td>\n",
       "      <td>81.000000</td>\n",
       "      <td>0.000000</td>\n",
       "    </tr>\n",
       "    <tr>\n",
       "      <th>50%</th>\n",
       "      <td>230461.500000</td>\n",
       "      <td>36.000000</td>\n",
       "      <td>1.000000</td>\n",
       "      <td>28.000000</td>\n",
       "      <td>0.000000</td>\n",
       "      <td>31692.000000</td>\n",
       "      <td>145.000000</td>\n",
       "      <td>154.000000</td>\n",
       "      <td>0.000000</td>\n",
       "    </tr>\n",
       "    <tr>\n",
       "      <th>75%</th>\n",
       "      <td>345434.750000</td>\n",
       "      <td>49.000000</td>\n",
       "      <td>1.000000</td>\n",
       "      <td>35.000000</td>\n",
       "      <td>1.000000</td>\n",
       "      <td>39447.750000</td>\n",
       "      <td>152.000000</td>\n",
       "      <td>227.000000</td>\n",
       "      <td>0.000000</td>\n",
       "    </tr>\n",
       "    <tr>\n",
       "      <th>max</th>\n",
       "      <td>508145.000000</td>\n",
       "      <td>85.000000</td>\n",
       "      <td>1.000000</td>\n",
       "      <td>52.000000</td>\n",
       "      <td>1.000000</td>\n",
       "      <td>540165.000000</td>\n",
       "      <td>163.000000</td>\n",
       "      <td>299.000000</td>\n",
       "      <td>1.000000</td>\n",
       "    </tr>\n",
       "  </tbody>\n",
       "</table>\n",
       "</div>"
      ],
      "text/plain": [
       "                  id            Age  Driving_License    Region_Code  \\\n",
       "count  382154.000000  382154.000000    382154.000000  382154.000000   \n",
       "mean   234392.953477      38.545691         0.998108      26.406867   \n",
       "std    139527.487326      15.226897         0.043455      13.181241   \n",
       "min         1.000000      20.000000         0.000000       0.000000   \n",
       "25%    115006.250000      25.000000         1.000000      15.000000   \n",
       "50%    230461.500000      36.000000         1.000000      28.000000   \n",
       "75%    345434.750000      49.000000         1.000000      35.000000   \n",
       "max    508145.000000      85.000000         1.000000      52.000000   \n",
       "\n",
       "       Previously_Insured  Annual_Premium  Policy_Sales_Channel  \\\n",
       "count       382154.000000   382154.000000         382154.000000   \n",
       "mean             0.489182    30711.271362            111.939812   \n",
       "std              0.499884    17061.595532             54.286511   \n",
       "min              0.000000     2630.000000              1.000000   \n",
       "25%              0.000000    24546.000000             26.000000   \n",
       "50%              0.000000    31692.000000            145.000000   \n",
       "75%              1.000000    39447.750000            152.000000   \n",
       "max              1.000000   540165.000000            163.000000   \n",
       "\n",
       "             Vintage       Response  \n",
       "count  382154.000000  382154.000000  \n",
       "mean      154.189429       0.163811  \n",
       "std        83.735107       0.370104  \n",
       "min        10.000000       0.000000  \n",
       "25%        81.000000       0.000000  \n",
       "50%       154.000000       0.000000  \n",
       "75%       227.000000       0.000000  \n",
       "max       299.000000       1.000000  "
      ]
     },
     "execution_count": 10,
     "metadata": {},
     "output_type": "execute_result"
    }
   ],
   "source": [
    "data.describe()"
   ]
  },
  {
   "cell_type": "code",
   "execution_count": 11,
   "metadata": {},
   "outputs": [
    {
     "data": {
      "text/plain": [
       "array(['Male', 'Female'], dtype=object)"
      ]
     },
     "execution_count": 11,
     "metadata": {},
     "output_type": "execute_result"
    }
   ],
   "source": [
    "data.Gender.unique()"
   ]
  },
  {
   "cell_type": "code",
   "execution_count": 12,
   "metadata": {},
   "outputs": [
    {
     "data": {
      "text/plain": [
       "array(['< 1 Year', '1-2 Year', '> 2 Years'], dtype=object)"
      ]
     },
     "execution_count": 12,
     "metadata": {},
     "output_type": "execute_result"
    }
   ],
   "source": [
    "data.Vehicle_Age.unique()"
   ]
  },
  {
   "cell_type": "code",
   "execution_count": 13,
   "metadata": {},
   "outputs": [
    {
     "data": {
      "text/plain": [
       "array(['No', 'Yes'], dtype=object)"
      ]
     },
     "execution_count": 13,
     "metadata": {},
     "output_type": "execute_result"
    }
   ],
   "source": [
    "data.Vehicle_Damage.unique()"
   ]
  },
  {
   "cell_type": "code",
   "execution_count": 14,
   "metadata": {},
   "outputs": [
    {
     "data": {
      "image/png": "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",
      "text/plain": [
       "<Figure size 640x480 with 1 Axes>"
      ]
     },
     "metadata": {},
     "output_type": "display_data"
    }
   ],
   "source": [
    "class_division = [ data[data['Response'] == 1 ].shape[0], data[data['Response'] == 0 ].shape[0] ]\n",
    "my_labels = ['Minority Class', 'Majority Class']\n",
    "\n",
    "plt.pie(class_division, labels = my_labels)\n",
    "plt.show()"
   ]
  },
  {
   "cell_type": "code",
   "execution_count": 15,
   "metadata": {},
   "outputs": [
    {
     "name": "stdout",
     "output_type": "stream",
     "text": [
      "Proportion of Minority Class: 16.38%\n"
     ]
    }
   ],
   "source": [
    "print(\"Proportion of Minority Class: \" + str(round(data[data['Response'] == 1 ].shape[0]/data.shape[0] * 100, 2)) + \"%\")"
   ]
  },
  {
   "cell_type": "markdown",
   "metadata": {},
   "source": [
    "# Basic Data Preprocessing"
   ]
  },
  {
   "cell_type": "code",
   "execution_count": 16,
   "metadata": {},
   "outputs": [],
   "source": [
    "data = pd.get_dummies(data, ['Gender', 'Vehicle_Age', 'Vehicle_Damage'], drop_first=True) #one-hot-encoding for Categorical Columns"
   ]
  },
  {
   "cell_type": "code",
   "execution_count": 17,
   "metadata": {},
   "outputs": [
    {
     "data": {
      "text/html": [
       "<div>\n",
       "<style scoped>\n",
       "    .dataframe tbody tr th:only-of-type {\n",
       "        vertical-align: middle;\n",
       "    }\n",
       "\n",
       "    .dataframe tbody tr th {\n",
       "        vertical-align: top;\n",
       "    }\n",
       "\n",
       "    .dataframe thead th {\n",
       "        text-align: right;\n",
       "    }\n",
       "</style>\n",
       "<table border=\"1\" class=\"dataframe\">\n",
       "  <thead>\n",
       "    <tr style=\"text-align: right;\">\n",
       "      <th></th>\n",
       "      <th>id</th>\n",
       "      <th>Age</th>\n",
       "      <th>Driving_License</th>\n",
       "      <th>Region_Code</th>\n",
       "      <th>Previously_Insured</th>\n",
       "      <th>Annual_Premium</th>\n",
       "      <th>Policy_Sales_Channel</th>\n",
       "      <th>Vintage</th>\n",
       "      <th>Response</th>\n",
       "      <th>Gender_Male</th>\n",
       "      <th>Vehicle_Age_&lt; 1 Year</th>\n",
       "      <th>Vehicle_Age_&gt; 2 Years</th>\n",
       "      <th>Vehicle_Damage_Yes</th>\n",
       "    </tr>\n",
       "  </thead>\n",
       "  <tbody>\n",
       "    <tr>\n",
       "      <th>0</th>\n",
       "      <td>167647</td>\n",
       "      <td>22</td>\n",
       "      <td>1</td>\n",
       "      <td>7.0</td>\n",
       "      <td>1</td>\n",
       "      <td>2630.0</td>\n",
       "      <td>152.0</td>\n",
       "      <td>16</td>\n",
       "      <td>0</td>\n",
       "      <td>True</td>\n",
       "      <td>True</td>\n",
       "      <td>False</td>\n",
       "      <td>False</td>\n",
       "    </tr>\n",
       "    <tr>\n",
       "      <th>1</th>\n",
       "      <td>17163</td>\n",
       "      <td>42</td>\n",
       "      <td>1</td>\n",
       "      <td>28.0</td>\n",
       "      <td>0</td>\n",
       "      <td>43327.0</td>\n",
       "      <td>26.0</td>\n",
       "      <td>135</td>\n",
       "      <td>0</td>\n",
       "      <td>True</td>\n",
       "      <td>False</td>\n",
       "      <td>False</td>\n",
       "      <td>True</td>\n",
       "    </tr>\n",
       "    <tr>\n",
       "      <th>2</th>\n",
       "      <td>32023</td>\n",
       "      <td>66</td>\n",
       "      <td>1</td>\n",
       "      <td>33.0</td>\n",
       "      <td>0</td>\n",
       "      <td>35841.0</td>\n",
       "      <td>124.0</td>\n",
       "      <td>253</td>\n",
       "      <td>0</td>\n",
       "      <td>False</td>\n",
       "      <td>False</td>\n",
       "      <td>False</td>\n",
       "      <td>True</td>\n",
       "    </tr>\n",
       "    <tr>\n",
       "      <th>3</th>\n",
       "      <td>87447</td>\n",
       "      <td>22</td>\n",
       "      <td>1</td>\n",
       "      <td>33.0</td>\n",
       "      <td>0</td>\n",
       "      <td>27645.0</td>\n",
       "      <td>152.0</td>\n",
       "      <td>69</td>\n",
       "      <td>0</td>\n",
       "      <td>False</td>\n",
       "      <td>True</td>\n",
       "      <td>False</td>\n",
       "      <td>False</td>\n",
       "    </tr>\n",
       "    <tr>\n",
       "      <th>4</th>\n",
       "      <td>501933</td>\n",
       "      <td>28</td>\n",
       "      <td>1</td>\n",
       "      <td>46.0</td>\n",
       "      <td>1</td>\n",
       "      <td>29023.0</td>\n",
       "      <td>152.0</td>\n",
       "      <td>211</td>\n",
       "      <td>0</td>\n",
       "      <td>True</td>\n",
       "      <td>True</td>\n",
       "      <td>False</td>\n",
       "      <td>False</td>\n",
       "    </tr>\n",
       "  </tbody>\n",
       "</table>\n",
       "</div>"
      ],
      "text/plain": [
       "       id  Age  Driving_License  Region_Code  Previously_Insured  \\\n",
       "0  167647   22                1          7.0                   1   \n",
       "1   17163   42                1         28.0                   0   \n",
       "2   32023   66                1         33.0                   0   \n",
       "3   87447   22                1         33.0                   0   \n",
       "4  501933   28                1         46.0                   1   \n",
       "\n",
       "   Annual_Premium  Policy_Sales_Channel  Vintage  Response  Gender_Male  \\\n",
       "0          2630.0                 152.0       16         0         True   \n",
       "1         43327.0                  26.0      135         0         True   \n",
       "2         35841.0                 124.0      253         0        False   \n",
       "3         27645.0                 152.0       69         0        False   \n",
       "4         29023.0                 152.0      211         0         True   \n",
       "\n",
       "   Vehicle_Age_< 1 Year  Vehicle_Age_> 2 Years  Vehicle_Damage_Yes  \n",
       "0                  True                  False               False  \n",
       "1                 False                  False                True  \n",
       "2                 False                  False                True  \n",
       "3                  True                  False               False  \n",
       "4                  True                  False               False  "
      ]
     },
     "execution_count": 17,
     "metadata": {},
     "output_type": "execute_result"
    }
   ],
   "source": [
    "data.head()"
   ]
  },
  {
   "cell_type": "markdown",
   "metadata": {},
   "source": [
    "# Train/val/test split\n",
    "\n",
    "The code below splits the original data set into train, validation and test datasets. Note that here, we have used `stratify = y`, so that the class imbalances are properly replicated after splitting. The data is split in a 70-30 ratio of dev:test. After that, we again use the 70-30 ratio in train:val."
   ]
  },
  {
   "cell_type": "code",
   "execution_count": 18,
   "metadata": {},
   "outputs": [],
   "source": [
    "from sklearn.model_selection import train_test_split #splitting the data into train and test\n",
    "\n",
    "X = data.drop(columns= ['id', 'Response']) #Columns to be excluded from training set\n",
    "y = data['Response'] #defining the Response as y\n",
    "\n",
    "X.columns = ['Age', 'Driving_License', 'Region_Code', 'Previously_Insured',\n",
    "       'Annual_Premium', 'Policy_Sales_Channel', 'Vintage',\n",
    "       'Gender_Male', 'Vehicle_Age_lessthan_1_Year',\n",
    "       'Vehicle_Age_greaterthan_2_Years', 'Vehicle_Damage_Yes']\n",
    "\n",
    "X_train, X_test, y_train, y_test = train_test_split(X, y, test_size=0.3, random_state=42, stratify=y)\n",
    "X_train, X_val, y_train, y_val = train_test_split(X_train, y_train, test_size=0.3, random_state=42, stratify=y_train)"
   ]
  },
  {
   "cell_type": "code",
   "execution_count": 19,
   "metadata": {},
   "outputs": [
    {
     "name": "stdout",
     "output_type": "stream",
     "text": [
      "Proportion of Minority Class in train set: 16.38%\n",
      "Proportion of Minority Class in train set: 16.38%\n",
      "Proportion of Minority Class in val set: 16.38%\n",
      "Proportion of Minority Class in test set: 16.38%\n"
     ]
    }
   ],
   "source": [
    "print(\"Proportion of Minority Class in train set: \" + str(round(y.sum()/len(y) * 100, 2)) + \"%\")\n",
    "print(\"Proportion of Minority Class in train set: \" + str(round(y_train.sum()/len(y_train) * 100, 2)) + \"%\")\n",
    "print(\"Proportion of Minority Class in val set: \" + str(round(y_val.sum()/len(y_val) * 100, 2)) + \"%\")\n",
    "print(\"Proportion of Minority Class in test set: \" + str(round(y_test.sum()/len(y_test) * 100, 2)) + \"%\")"
   ]
  },
  {
   "cell_type": "markdown",
   "metadata": {},
   "source": [
    "# Building a Basic XGBoost Model"
   ]
  },
  {
   "cell_type": "code",
<<<<<<< HEAD
   "execution_count": 89,
=======
   "execution_count": 20,
>>>>>>> 1fb3322bb70f40d58c1afff17edd7b3996750721
   "metadata": {},
   "outputs": [
    {
     "data": {
      "text/html": [
       "<style>#sk-container-id-3 {color: black;background-color: white;}#sk-container-id-3 pre{padding: 0;}#sk-container-id-3 div.sk-toggleable {background-color: white;}#sk-container-id-3 label.sk-toggleable__label {cursor: pointer;display: block;width: 100%;margin-bottom: 0;padding: 0.3em;box-sizing: border-box;text-align: center;}#sk-container-id-3 label.sk-toggleable__label-arrow:before {content: \"▸\";float: left;margin-right: 0.25em;color: #696969;}#sk-container-id-3 label.sk-toggleable__label-arrow:hover:before {color: black;}#sk-container-id-3 div.sk-estimator:hover label.sk-toggleable__label-arrow:before {color: black;}#sk-container-id-3 div.sk-toggleable__content {max-height: 0;max-width: 0;overflow: hidden;text-align: left;background-color: #f0f8ff;}#sk-container-id-3 div.sk-toggleable__content pre {margin: 0.2em;color: black;border-radius: 0.25em;background-color: #f0f8ff;}#sk-container-id-3 input.sk-toggleable__control:checked~div.sk-toggleable__content {max-height: 200px;max-width: 100%;overflow: auto;}#sk-container-id-3 input.sk-toggleable__control:checked~label.sk-toggleable__label-arrow:before {content: \"▾\";}#sk-container-id-3 div.sk-estimator input.sk-toggleable__control:checked~label.sk-toggleable__label {background-color: #d4ebff;}#sk-container-id-3 div.sk-label input.sk-toggleable__control:checked~label.sk-toggleable__label {background-color: #d4ebff;}#sk-container-id-3 input.sk-hidden--visually {border: 0;clip: rect(1px 1px 1px 1px);clip: rect(1px, 1px, 1px, 1px);height: 1px;margin: -1px;overflow: hidden;padding: 0;position: absolute;width: 1px;}#sk-container-id-3 div.sk-estimator {font-family: monospace;background-color: #f0f8ff;border: 1px dotted black;border-radius: 0.25em;box-sizing: border-box;margin-bottom: 0.5em;}#sk-container-id-3 div.sk-estimator:hover {background-color: #d4ebff;}#sk-container-id-3 div.sk-parallel-item::after {content: \"\";width: 100%;border-bottom: 1px solid gray;flex-grow: 1;}#sk-container-id-3 div.sk-label:hover label.sk-toggleable__label {background-color: #d4ebff;}#sk-container-id-3 div.sk-serial::before {content: \"\";position: absolute;border-left: 1px solid gray;box-sizing: border-box;top: 0;bottom: 0;left: 50%;z-index: 0;}#sk-container-id-3 div.sk-serial {display: flex;flex-direction: column;align-items: center;background-color: white;padding-right: 0.2em;padding-left: 0.2em;position: relative;}#sk-container-id-3 div.sk-item {position: relative;z-index: 1;}#sk-container-id-3 div.sk-parallel {display: flex;align-items: stretch;justify-content: center;background-color: white;position: relative;}#sk-container-id-3 div.sk-item::before, #sk-container-id-3 div.sk-parallel-item::before {content: \"\";position: absolute;border-left: 1px solid gray;box-sizing: border-box;top: 0;bottom: 0;left: 50%;z-index: -1;}#sk-container-id-3 div.sk-parallel-item {display: flex;flex-direction: column;z-index: 1;position: relative;background-color: white;}#sk-container-id-3 div.sk-parallel-item:first-child::after {align-self: flex-end;width: 50%;}#sk-container-id-3 div.sk-parallel-item:last-child::after {align-self: flex-start;width: 50%;}#sk-container-id-3 div.sk-parallel-item:only-child::after {width: 0;}#sk-container-id-3 div.sk-dashed-wrapped {border: 1px dashed gray;margin: 0 0.4em 0.5em 0.4em;box-sizing: border-box;padding-bottom: 0.4em;background-color: white;}#sk-container-id-3 div.sk-label label {font-family: monospace;font-weight: bold;display: inline-block;line-height: 1.2em;}#sk-container-id-3 div.sk-label-container {text-align: center;}#sk-container-id-3 div.sk-container {/* jupyter's `normalize.less` sets `[hidden] { display: none; }` but bootstrap.min.css set `[hidden] { display: none !important; }` so we also need the `!important` here to be able to override the default hidden behavior on the sphinx rendered scikit-learn.org. See: https://github.com/scikit-learn/scikit-learn/issues/21755 */display: inline-block !important;position: relative;}#sk-container-id-3 div.sk-text-repr-fallback {display: none;}</style><div id=\"sk-container-id-3\" class=\"sk-top-container\"><div class=\"sk-text-repr-fallback\"><pre>XGBClassifier(base_score=None, booster=None, callbacks=None,\n",
       "              colsample_bylevel=None, colsample_bynode=None,\n",
       "              colsample_bytree=None, device=None, early_stopping_rounds=None,\n",
       "              enable_categorical=False, eval_metric=None, feature_types=None,\n",
       "              gamma=None, grow_policy=None, importance_type=None,\n",
       "              interaction_constraints=None, learning_rate=None, max_bin=None,\n",
       "              max_cat_threshold=None, max_cat_to_onehot=None,\n",
       "              max_delta_step=None, max_depth=None, max_leaves=None,\n",
       "              min_child_weight=None, missing=nan, monotone_constraints=None,\n",
       "              multi_strategy=None, n_estimators=None, n_jobs=None,\n",
       "              num_parallel_tree=None, random_state=None, ...)</pre><b>In a Jupyter environment, please rerun this cell to show the HTML representation or trust the notebook. <br />On GitHub, the HTML representation is unable to render, please try loading this page with nbviewer.org.</b></div><div class=\"sk-container\" hidden><div class=\"sk-item\"><div class=\"sk-estimator sk-toggleable\"><input class=\"sk-toggleable__control sk-hidden--visually\" id=\"sk-estimator-id-3\" type=\"checkbox\" checked><label for=\"sk-estimator-id-3\" class=\"sk-toggleable__label sk-toggleable__label-arrow\">XGBClassifier</label><div class=\"sk-toggleable__content\"><pre>XGBClassifier(base_score=None, booster=None, callbacks=None,\n",
       "              colsample_bylevel=None, colsample_bynode=None,\n",
       "              colsample_bytree=None, device=None, early_stopping_rounds=None,\n",
       "              enable_categorical=False, eval_metric=None, feature_types=None,\n",
       "              gamma=None, grow_policy=None, importance_type=None,\n",
       "              interaction_constraints=None, learning_rate=None, max_bin=None,\n",
       "              max_cat_threshold=None, max_cat_to_onehot=None,\n",
       "              max_delta_step=None, max_depth=None, max_leaves=None,\n",
       "              min_child_weight=None, missing=nan, monotone_constraints=None,\n",
       "              multi_strategy=None, n_estimators=None, n_jobs=None,\n",
       "              num_parallel_tree=None, random_state=None, ...)</pre></div></div></div></div></div>"
      ],
      "text/plain": [
       "XGBClassifier(base_score=None, booster=None, callbacks=None,\n",
       "              colsample_bylevel=None, colsample_bynode=None,\n",
       "              colsample_bytree=None, device=None, early_stopping_rounds=None,\n",
       "              enable_categorical=False, eval_metric=None, feature_types=None,\n",
       "              gamma=None, grow_policy=None, importance_type=None,\n",
       "              interaction_constraints=None, learning_rate=None, max_bin=None,\n",
       "              max_cat_threshold=None, max_cat_to_onehot=None,\n",
       "              max_delta_step=None, max_depth=None, max_leaves=None,\n",
       "              min_child_weight=None, missing=nan, monotone_constraints=None,\n",
       "              multi_strategy=None, n_estimators=None, n_jobs=None,\n",
       "              num_parallel_tree=None, random_state=None, ...)"
      ]
     },
<<<<<<< HEAD
     "execution_count": 89,
=======
     "execution_count": 20,
>>>>>>> 1fb3322bb70f40d58c1afff17edd7b3996750721
     "metadata": {},
     "output_type": "execute_result"
    }
   ],
   "source": [
    "xgb_classifier = xgb.XGBClassifier()\n",
    "xgb_classifier.fit(X_train,y_train)"
   ]
  },
  {
   "cell_type": "code",
<<<<<<< HEAD
   "execution_count": 59,
=======
   "execution_count": 21,
>>>>>>> 1fb3322bb70f40d58c1afff17edd7b3996750721
   "metadata": {},
   "outputs": [],
   "source": [
    "test = xgb_classifier.predict(X_test)"
   ]
  },
  {
   "cell_type": "code",
<<<<<<< HEAD
   "execution_count": 60,
=======
   "execution_count": 22,
>>>>>>> 1fb3322bb70f40d58c1afff17edd7b3996750721
   "metadata": {},
   "outputs": [
    {
     "data": {
      "text/plain": [
       "array([0, 1, 0, ..., 0, 0, 0])"
      ]
     },
<<<<<<< HEAD
     "execution_count": 60,
=======
     "execution_count": 22,
>>>>>>> 1fb3322bb70f40d58c1afff17edd7b3996750721
     "metadata": {},
     "output_type": "execute_result"
    }
   ],
   "source": [
    "test"
   ]
  },
  {
   "cell_type": "code",
<<<<<<< HEAD
   "execution_count": 61,
=======
   "execution_count": 25,
   "metadata": {},
   "outputs": [
    {
     "data": {
      "text/plain": [
       "array([0, 1, 0, ..., 0, 0, 0])"
      ]
     },
     "execution_count": 25,
     "metadata": {},
     "output_type": "execute_result"
    }
   ],
   "source": [
    "y_test.values"
   ]
  },
  {
   "cell_type": "code",
   "execution_count": null,
>>>>>>> 1fb3322bb70f40d58c1afff17edd7b3996750721
   "metadata": {},
   "outputs": [
    {
     "name": "stdout",
     "output_type": "stream",
     "text": [
      "Accuracy of Test Set: 83.84 %\n"
     ]
    }
   ],
   "source": [
    "print(\"Accuracy of Test Set:\", round(accuracy_score(y_test,test) * 100, 2 ), \"%\")"
   ]
  },
  {
   "cell_type": "code",
<<<<<<< HEAD
   "execution_count": 62,
=======
   "execution_count": null,
>>>>>>> 1fb3322bb70f40d58c1afff17edd7b3996750721
   "metadata": {},
   "outputs": [
    {
     "data": {
      "image/png": "iVBORw0KGgoAAAANSUhEUgAAAbsAAAHdCAYAAACExNdZAAAAOXRFWHRTb2Z0d2FyZQBNYXRwbG90bGliIHZlcnNpb24zLjcuMSwgaHR0cHM6Ly9tYXRwbG90bGliLm9yZy/bCgiHAAAACXBIWXMAAA9hAAAPYQGoP6dpAAA6yElEQVR4nO3dd3QUVR/G8WeTkF5ICISWgEiX3pv0LgiiIEoJRbCCCliwYgEVkQ4iiiBIFaUjRSSE3hSwIE1KkCIlBQLp8/7By+qaBJIQCFy+n3NydGfunfnNhuTZO3NnYrMsyxIAAAZzyukCAAC42Qg7AIDxCDsAgPEIOwCA8Qg7AIDxCDsAgPEIOwCA8Qg7AIDxCDsAgPEIO9xysbGxGjlypBo1aqSgoCC5urrK399ftWvX1ltvvaVjx47lWG07d+5U8+bNlTt3btlsNtlsNh05cuSm7zcsLEw2m009evS46fvKrKJFi9rfi9mzZ6fbbtu2bfZ2NpvtFlaYviFDhshms2natGk5XQpyGGGHW2rTpk0qXry4Bg4cqG3btqlcuXJ65JFHVKdOHR06dEjvvfeeSpYsqR9++OGW13bhwgU9+OCD+uGHH1SlShV1795doaGh8vb2vuW13K5mzpyZ7rqvv/46W/c1bdo02Ww2DRkyJFu3i7uTS04XgLvHrl271KRJE8XFxemVV17Rm2++KS8vL/v6lJQULVy4UC+//LKOHz9+y+vbvn27Tpw4oW7dumn69Om3dN81atTQ3r175efnd0v3mxmVK1fWypUrdfbsWQUGBjqsS0pK0ty5c1W2bFkdOnRI8fHxOVSlo+eee06dO3dWgQIFcroU5DBGdrglLMtSt27dFBcXpyFDhujDDz90CDpJcnJyUocOHbRz505Vq1btltd4NWCLFSt2y/ft6emp0qVL39a/lLt06WIPtf9atWqV/v77b3Xt2jUHKktfYGCgSpcufVt/iMAtYgG3wPLlyy1JVuHCha3ExMRM94+NjbXeffdd67777rPc3d0tX19f6/7777dmz56dZvsiRYpYV/95f/7551b58uUtd3d3KygoyOrbt68VGRlpb3v48GFLUppfoaGhlmVZ1ttvv21JsqZOnXrd/f3bxo0brXbt2lkhISGWq6urFRQUZFWvXt165ZVXrAsXLtjbrV271mF//5aYmGiNHTvWqlKliuXl5WV5eXlZ1atXtyZOnGglJSWlat+gQQNLknX48GFrwYIFVs2aNS1PT0/L39/f6ty5sxUREZHOu5y2q8e2f/9+y8fHx6pVq1aqNo899phls9mso0ePWm5ubmm+F0uXLrV69uxplS5d2vLx8bE8PT2tChUqWEOHDrXi4uLSPIa0vq5+D/79np08edLq3bu3VahQIcvZ2dkaNWqUZVlpf9+WLVtmSbKKFStmxcTEOOw3JSXFat68uSXJGjZsWKbeJ9zeOI2JW2LZsmWSpI4dO8rFJXP/7C5cuKBGjRpp586dyps3r9q0aaPY2Fj9+OOPWr9+vTZv3qwxY8ak2ffll1/WmDFj1LBhQxUvXlwbN27U5MmTtXfvXq1bt042m03e3t4KDQ3VwYMHtXHjRlWsWFGVKlWSJNWrVy/Lx7xkyRK1b99elmWpRo0aqlOnjqKionTgwAF99NFHeuqpp657PTA5OVnt2rXT8uXL5evrq2bNmsmyLP3444965plntHr1as2fP19OTqlP0kycOFEjR47U/fffr9atW2vr1q2aM2eOdu7cqd27d8vDwyNTx+Ph4aEOHTroq6++0qFDh3TvvfdKki5evKhFixapXr16CgkJSbd/7969dfnyZZUrV04VKlRQdHS0tm3bptdff11r1qzRqlWr5OzsLElq2bKlkpKSUn0/JKl48eIO2z1z5oyqV6+upKQk1atXT3FxcfL09Ey3jtatW+vZZ5/VhAkT1L9/f02dOtW+bsyYMVq1apXq16+vV155JVPvD25zOZ22uDvUrVvXkmTNmDEj032fe+45S5LVqFEjh0/ie/futfLly2dJspYsWeLQ5+poJH/+/NYff/xhX37mzBmrePHiliRrzZo1Dn2mTp1qSbLefvvtVDVkZWRXv359S5I1f/78VO23bdvmcCzpjexGjBhhSbLuu+8+69SpU/blJ06csEqVKmVJssaNG+fQ5+qoyNPT09q0aZN9eWxsrFWnTh1LkjVlypQ0j+NaxxYREWGtXr3akmS988479vXTp0+3JFmfffaZZVlWuiO7hQsXWpcuXXJYFhMTY7Vp08aSZH311VcO6671/bCsf94zSdZDDz1kXb58OVWb9L5vly5dssqUKWNJsr755hvLsixrz549lpubm+Xn52cdOXLkuu8L7ixcs8Mtce7cOUlS3rx5M9UvNjZWU6ZMkZOTkyZOnCgfHx/7utKlS+uNN96QpHRHdu+9955KlSplfx0YGKinnnpKkhQeHp6pWjLrzJkzkqSmTZumWle9enWHY0nP2LFjJUkjR45UUFCQfXmBAgX08ccfS0r/2F988UXVrl3b/trT01MDBgyQlPVjb9y4sQoUKOAwK/Prr7+Wm5ubOnbseM2+7dq1SzWa9PHx0ahRoyRJixYtylJNbm5uGjdunNzd3TPcx8PDQzNnzpSrq6uefPJJHTp0SF26dFF8fLwmTJigIkWKZKkW3L4IO9zWdu7cqcuXL6tKlSoqXbp0qvXdunWTJG3cuFEpKSmp1jdv3jzVspIlS0qSTp48mc3VOqpataqkKzVu3749zfqu5dixYzp27Jjy5s2b5nG0adNGuXPn1sGDB3Xq1KlU62/GsTs5Oemxxx7T/v37tX37dp06dUpr1qxR69at5e/vf93+Bw4c0JgxY9SvXz/16tVLPXr00HvvvWdflxVVqlRRoUKFMt2vcuXKev/993X+/HlVqVJFv/zyix577DF16dIlS3Xg9sY1O9wSefLkkfTPaCejTpw4IenKjc1pyZ07t/z8/BQdHa3IyEj7fq4qXLhwqj5XR1Q3e3r8sGHD9Msvv2jJkiVasmSJ/P39Va9ePT344IPq2rXrdUciV489vVGGzWZTkSJFFBUVpb/++kv58+d3WH+zjr1r164aOXKkZs6cqSJFiig5Ofm6szAty9KgQYM0atQoWZaVZpsLFy5kqZ5rXSe8noEDB2ru3LnauXOnChQooIkTJ2Z5W7i9MbLDLXF1gsFPP/2U7du+1tM60pq4cTOkNWoLDg7Wjh07tHLlSvXr10/BwcFasmSJ+vTpowoVKthP7d6InDj2ypUrq0yZMpozZ46mT5+u3Llz64EHHrhmn7lz52rkyJEqXLiw5s+fr7/++ksJCQmyLMsevOmF4PVk5vTlf/3+++/69ddfJV051X4rnpaDnEHY4Za4+svwm2++UVJSUob7FSxYUJJ09OjRNNdHR0crKipKHh4eGTqNllWurq6Srsw8/K/k5OQ0TyNKkouLi5o3b66xY8dq9+7dOnLkiBo3bmyfkXkt1zv2f6/Lymm8G9G1a1edPn1au3btUseOHeXm5nbN9gsWLJAkffrpp3r44YdVsGBB5cqVS5L0559/3vR60xIfH2+/Tte1a1clJCSoS5cuiouLy5F6cHMRdrglWrZsqfvuu0/Hjx/X0KFDr9k2JiZGv/32m6Qr1708PDy0c+fONK/pXH1EVd26dW/qKO7qzd779+9PtW7t2rVKTEzM0HaKFClin9J+dUSRnpCQEIWEhOjMmTNas2ZNqvXLli1TZGSkihcvnuoU5s32+OOPKzAwUHny5FH37t2v2z4yMlJS2qdW582bl2afqx8wMvPhKDMGDx6sPXv2qHPnzpoxY4a6d++u33//XS+99NJN2R9yFmGHW8Jms+nrr7+Wu7u7hgwZosGDBys2NtahjWVZWrx4sapVq6bt27dLkry8vNSrVy+lpKTo2Wefdeizf/9+vf/++5Kk/v3739T669evL+lKuP77VNfhw4fT3feoUaPSHPEtX75c0pXTnNfTr18/SdKAAQMcrneeOnXK/kv5+eefz9hBZKOiRYvqzJkzOnv2bIbuRbw6MWby5MkOpyvXr19vn1X6X1dHtvv27cuGih2tWbNGo0ePVnBwsD799FNJ0rhx41S0aFGNHz9eK1asyPZ9Iofl5H0PuPts2LDBCgoKst8H1qRJE+vxxx+3HnjgAftyd3d364cffrD3iYmJsapWrWpJsvLly2d17NjRat26teXu7m5Jsvr3759qP+k90cSy0r+n7Xr3dXXv3t2SZPn5+Vlt27a1mjRpYnl5eVkdO3ZMc39+fn6Wk5OTVblyZatTp05Wx44drZIlS1qSrICAAGv//v3XrSkpKclq1aqVfb8PPfSQ1b59e8vHx8eSZLVv395KTk526PPvJ6j819WnxTRo0CDNY0zLv++zy4i07rPbt2+f5eXlZUmyypYta3Xu3Nm6//77LZvNZg0aNMiSZBUpUsShz+XLl+33UTZo0MDq2bOn1bt3b2vjxo2WZV37qTNXpXWf3fnz561ChQpZTk5O1tq1ax3ar1+/3nJycrLy589vnTlzJkPHizsDIzvcUnXr1tXBgwc1YsQIVa9eXXv27NG8efO0ceNGFS1aVG+//bYOHDigJk2a2Pv4+Pho3bp1eueddxQYGKjFixdr/fr1qlatmmbNmpXufWbZ7fPPP9err74qX19frVy5UkeOHNHgwYPT/bM348aNU+fOnXXp0iV9//33WrFihVxcXDRgwADt2bNHJUqUuO4+nZ2dtXjxYo0ZM0bFihXTypUrtWrVKpUqVUoTJkxI9+kpt5uSJUtqx44datu2rc6ePavFixfr4sWL+uyzz9Id2bm7u2vZsmVq1qyZdu3apWnTpmnKlClpnkrOjKeeekp//fWXBg4cqIYNGzqsq1evnl555RWdOnVKTzzxxA3tB7cXm2VlcQoUAAB3iNv/IyEAADeIsAMAGI+wAwAYj7ADABiPsAMAGI+wAwAYj7ADABiPsAMAGI+wQ5ZNmDBBRYsWlbu7u2rWrKlt27bldEnALREeHq62bduqYMGCstlsWrhwYU6XhOsg7JAlc+fO1YABA/T222/rp59+UsWKFdWiRQv9/fffOV0acNPFxsaqYsWKmjBhQk6XggzicWHIkpo1a6p69eoaP368pCt/vDQ4OFj9+vXTq6++msPVAbeOzWbTggUL1L59+5wuBdfAyA6ZlpCQoJ07d6pp06b2ZU5OTmratKk2b96cg5UBQNoIO2Ta2bNnlZycrKCgIIflQUFB6f7FbgDISYQdAMB4hB0yLTAwUM7Ozjp9+rTD8tOnTyt//vw5VBUApI+wQ6a5urqqatWqWrNmjX1ZSkqK1qxZo9q1a+dgZQCQNpecLgB3pgEDBig0NFTVqlVTjRo1NHr0aMXGxqpnz545XRpw0128eFEHDx60vz58+LB27dqlgIAAhYSE5GBlSA+3HiDLxo8fr48//linTp1SpUqVNHbsWNWsWTOnywJuurCwMDVq1CjV8tDQUE2bNu3WF4TrIuwAAMbjmh0AwHiEHQDAeIQdAMB4hB0AwHiEHQDAeIQdAMB4hB0AwHiEHbIsPj5eQ4YMUXx8fE6XAuQIfgbuHNxUjiyLiYmRn5+foqOj5evrm9PlALccPwN3DkZ2AADjEXYAAOPd0X/1ICUlRSdOnJCPj49sNltOl3PXiYmJcfgvcLfhZyBnWZalCxcuqGDBgnJyuvbY7Y6+Znf8+HEFBwfndBkAgBwUERGhwoULX7PNHT2y8/HxkSSFzZ0mb0/PHK4GuPVK1E39Z2aAu0VMzAUFFy1mz4JruaPD7uqpS29PT3l7EXa4+zADEFCGLmMxQQUAYDzCDgBgPMIOAGA8wg4AYDzCDgBgPMIOAGA8wg4AYDzCDgBgPMIOAGA8wg4AYDzCDgBgPMIOAGA8wg4AYDzCDgBgPMIOAGA8wg4AYDzCDgBgPMIOAGA8wg4AYDzCDgBgPMIOAGA8wg4AYDzCDgBgPMIOAGA8wg4AYDzCDgBgPMIOAGA8wg4AYDzCDgBgPMIOAGA8wg4AYDzCDgBgPMIOAGA8wg4AYDzCDgBgPMIOAGA8wg4AYDzCDgBgPMIOAGA8wg4AYDzCDgBgPMIOAGA8wg4AYDzCDgBgPMIOAGA8wg4AYDzCDgBgPMIOAGA8wg4AYDzCDgBgPMIOAGA8wg4AYDzCDgBgPMIOAGA8wg4AYDzCDgBgPMIOAGA8wg4AYDzCDgBgPMIOAGA8wg4AYDzCDgBgPMIOAGA8wg4AYDzCDgBgPMIOAGA8wg4AYDzCDgBgPMIOAGA8wg4AYDzCDgBgPMIOAGA8wg4AYDzCDgBgPMIOAGA8wg4AYDzCDgBgPMIOAGA8wg4AYDzCDgBgPMIOAGA8wg4AYDzCDgBgPMIOAGA8wg4AYDyXnC4A2Stsy3ZN/3axDh09pqiYC8qbx1/3lSiuHh3bq/J9ZRzaJiQk6pvlK7Vw5RpFnDythIQE5c8XqDpVK6tnx4dUKH8+h/aNH+ulE6f/vub++/fsome6PZZq+dG/TuiL2fO16afdOnPuvDw9PFSkUAG1aFBXvTp1uKHjAK5l2lfT1bN3n2u2cXJyUnLCZYdlmzZt1vvDPtCWrdt0+fJllShRXL16hKrfc8/K2dk51TZOnz6t94d9oKXLluvEiZPy9fVVvbp19Obrr6lKlcpp7nft2jB9/MlIbd22XRcvXlRwcGE90qGDXn/tVfn4+GT9oJGKzbIsK6eLyKqYmBj5+flpx5J58vbyzOlyctyIyVP1xZxvldvXV03r1ZK/r6+OnjihtZu2KSk5WR+9OkAPNmskSUpKTlb3Fwfrp19/V7GQwqpdpZJcc+XSL/sOaMeeX+Xj5aXZ4z5W8aIh9u1/NX+RYi5eTLVfS9LkmfOUlJysbz4dpfKlSjisXxW+SYOGfiwXFxc1rFVdhQsE6WLsJR2OOK64+ATNHvdxlo/jbleqfrOcLuG2t2vXbi1ctDjNdes3bNCPa8P0QOtWWrp4oX35osWL9XDHznJ3d9ejnToqwN9fS5Yt0759+/XIwx30zdzZDts5cuSI6tzfUCdPnlSN6tVVr24dnTl7Vt8tWKiEhAQtWfidWrRo7tBn0meT9cxz/eXi4qIOD7VX4UKFtPOnnxW2bp3Kly+n9WE/ys/PL9vfD5PExMTILyCvoqOj5evre822hJ0hzpyPVINOoQrw89WiL8Yrj39u+7otP+9Rj4GvqXCBIP0wc4okaUXYBr3w7oeqXaWipgx/T05O/5zRHjttpiZOn60OLZtq2MsvXHff67fvVJ9X3lbZ4vfqu8ljHNbtP3xEjzz1oooXCdFnHw5R3gB/h/WJSUnK5fLPCYbMHsfdjrC7MbXr1teWrVu1aMF8Pdi2raQrv1eKlyqr6OhobQwPU7VqVSVJcXFxaty0hTZv2aLZM2eo86Od7Ntp99DDWrxkqfr3e1ajR34im80mSdq/f7+q1awjb29vHfjjN3l5eUmSTp48qWIlSispKUkbw8NUo0Z1+7Y++HC4XnvjTfV77hmNHT3qVr0Vd6TMhB3X7Axx4vTfSklJUYUypRwCQpJqVa4gL08PnY+KsS+LOHlKktSgZnWHoJOkJnVqSpLOR0VnaN/zlq6UJHVq2zLVulFfTFdiUpI+fn1QqqCT5BB0WTkOIKt++eVXbdm6VYUKFdIDrVvbl8//9judOXNGnR/tZA86SXJ3d9f77w6RJH06abJ9eVxcnL5fsVJOTk56/9137EEnSSVLllSvnqE6efKkvv1ugX359ytWKi4uTu3bPegQdJL08ksDFRAQoC+nfqVLly5l81HfvW6LsJswYYKKFi0qd3d31axZU9u2bcvpku44RQoVVK5cLvrlj/2KjHYMqe27f1XspcuqU6WifdnV05Ph23YqJSXFoX3Ylu2SpDpVK113v2fPRyps8zZ5enioTZMGDusuxl7Suq07VPree3RvkWDt2btPU79ZoClzvtXazduUkJh4w8cBZNXkL76QJPXu2cPhGtyPa8MkSS3/c9pRkurXv1+enp7atHmz4uPjJUnnz59XYmKiAgMD07zOVuyeeyRJa35ca1926tRph3X/5uzsrCJFQhQbG6utW/ldmF1yfILK3LlzNWDAAE2aNEk1a9bU6NGj1aJFC+3bt0/58uW7/gYgScrt66NBfXrqw0+/0AM9n1GTurWU29dHESdO6cdNW1WnamW9M+A5e/uGtaqr2f11tHr9Jj3Y+znVrlpRuVxy6bf9B/XTr7+r60Nt9Xj7Ntfd77crVisxKUntWzSRt6fjqeRf9x9USkqKCgXl0wvvfKgV6zY4rC+YL6/GDBms8qVLZvk4gKy4fPmyvp45W87Oznqid0+Hdfv275cklSxRIlU/FxcX3XNPUf322+/6888/VaZMGfn7+8vZ2Vlnz57VxYsX5e3t7dDnz8OHr2x33377ssDAPJKkw0eOpNpHSkqKjh49Zq+lUaOGWTxK/FuOj+xGjhypPn36qGfPnipbtqwmTZokT09Pffnllzld2h0n9JF2GvfOa0pOTtY3y1bq89nztWLdBhXIF6iHWjZxOC1os9k0dshgPdv9MR2OOK4Z3y3Rl/O+09Zde1Stwn1q06SBXNKYcfZvlmVp/rJVkqRObVKfwjwfFSVJWrt5mzb/vFsjXn9JWxfN0ZpZX6r3ox104u8z6jt4SKoRXGaOA8iKed/MV1RUlFq2aK7g4GCHddH///fo55f2NSA/3yuTRqL+f5rfw8NDjRo2UEpKit56+x2HtgcPHtSXU7+SJEVGRdqXt2jeTC4uLlq4aLF27Njp0GfEJyN1/vz5K30io7J4hPivHA27hIQE7dy5U02bNrUvc3JyUtOmTbV58+ZU7ePj4xUTE+PwhX98MWe+nh/ygdq3aKLVX3+hn5fP17eTRqtwgfx6aegIffzZPx8g4hMS9OK7H2nqNwv15vNPa/38GdqxZJ4mfzBEJ07/rW4vvKo1G7dcc3+bdu5SxMlTKlvi3lQzMCUpJeXK3KfklBS91f8ptWnSQH4+3iqUP59eerKXmt1fR5HRMZq3bGWWjwPIismfX5ng9GSfJ7Jle6NHfiI/Pz+NGjNWtevW16CXXlFoz96qVLWG7r23mCQ5XBsvUqSI3n7zDSUmJqpu/YZ6vGt3vfTyq2rSrIVefe0NVahQPlUf3JgcfSfPnj2r5ORkBQUFOSwPCgrSqVOnUrX/4IMP5OfnZ//67yeyu9nWXXs0YvI0Na5TU4Of6aPggvnl4e6u+0oW1/h3X1dQYB5N/WahIk5ceV8nz/pGK9Zt0Au9u6lz21bKG+Avby9P1a9ZTWOGDFZiUpKGjp98zX3OW7pCUtqjOkny9b4y88xms6lJ3Vqp1jerV1uS9Mvef07vZPY4gMz67bfftWnzZhUuXFitW7dKtf7qdP/o6LQ/TEfHXBnR5c79z20B991XVju3bVb3bl119NgxjR0/QevC1+vF5/tr3P9nVObL63hZ5o3XB2v+vDmqWaOGlixdpgmfTtKlS5e1dNEC3V+v7pU++fLe+AFD0m1wGjMzBg8erOjoaPtXRERETpd02wjbfGVSSY1KFVKt83B3V4XSJZWSkqLfDx660v7/k1BqptG+9L3F5OfjrROn/1ZkOj/w5yKj9OOmrWlOTLnqnuDCkiQ3V1e5u7mlWu/rc+XaRlxCQpaPA8is9CamXFWq5JVryPsPHEi1LikpSYcPH5GLi4uKFSvmsO7ee+/VV1On6ETEESVcvqgjh/brvXeH2LdT/V8zO696uMNDCg9bowtR53TpQpQ2bwxX69attGfPr//vU+2GjhX/yNGwCwwMlLOzs06fPu2w/PTp08qfP3+q9m5ubvL19XX4whVXZzb+9/rXVef/v/zqVH97+zRuL0hISFTspStPk8iVK+05TN+t+EGJSUl6oHH9VBNTrgoumF/BBfIrLj5ex/46mWr9gcNHJUmF8/8zss/scQCZERcXpxlfz5Kzs7N69+qRZpvGjRpKklasXJVqXXj4el26dEl1ateWWxof4NIy4+tZkqTHH+ucofaHDh3Sxk2bVL58OZUrd1+G+uD6cjTsXF1dVbVqVa1Zs8a+LCUlRWvWrFHt2rVzsLI7T7UKV34o5i1dodNnzjqsC9+6Qz/9uldurq72R21VK3+l/Wez5ikhwfEWgHFfzVRScrLKlyqRZpBZlqX5y69cZ3u0berTQP/W5f8zOkd8PlVJycn25afOnNVX8xdKklo3rp/l4wAy45v53yoyMlKtWrZI9zLIIw93UGBgoObMnecweSQuLk5vvDVEkvT0U30d+sTHx9tvRbjKsiwNHfahwtat06OdOqZ6ZFhacw7OnTunLt16KCUlRR8NG5qVQ0Q6cvzj8YABAxQaGqpq1aqpRo0aGj16tGJjY9WzZ8/rd4Zdi/p1VadqJW3auUutez6tpvVqK2+Avw4djVDYlu2yLEsD+4TK//8zzJ7q0unKLMmfdqtVj6d0f/UqcnNz1c+/7tWeP/bL3c1Nrz3XN819bfl5t47+dVJlS9yrciWLX7Ourh3aav32nVoVvkkP9emnWlUqKvbSZa3ZuEXRFy6qR8f2qlGxfJaPA8iMqxNT+j7RO902vr6++vyziXqk02Nq2KSZOj/aSQH+/lq8dKn9cWGPduro0OfAgYO6v2FjNWvaREWLFFFiYqLWrF2rX375VfXq1tXkSRNT7efd94ZqxapVql2rlvLlzau/TpzQ4iVLFRUVpU8+/kitWqV9LRxZc1s8Lmz8+PH6+OOPderUKVWqVEljx45VzZo1r9uPx4U5SkxK0qyFy7R8bbgOHj2muLh4+fn6qHzpkur2UFvVq17Fof35qGh9Pnu+1m3druMnT8uyLOUN8FfNyhXV57GHVSwk7U++L777kb4PW68hLz6rztcZ2UlXTk3O+HaxFq7+Ucf+OilnZ2eVvvcePd7ugTSv92X2OO5mPC4s4/bu3auy5SupcOHCOnJof5rX6/5t48ZNGvrBh9q8Zavi4uJUvPi96tUjVP37PZeq75kzZ/TCgEHavGWLTp48pVy5cqlsmTLq1vVxPdm3j1zSOO2+bNlyfTJqjH797TdFRUUpICBA99erq4EvvqBata7/+w88GxO4axB2uJvxbEwAAP6FsAMAGI+wAwAYj7ADABiPsAMAGI+wAwAYj7ADABiPsAMAGI+wAwAYj7ADABiPsAMAGI+wAwAYj7ADABiPsAMAGI+wAwAYj7ADABiPsAMAGI+wAwAYj7ADABiPsAMAGI+wAwAYj7ADABiPsAMAGI+wAwAYj7ADABiPsAMAGI+wAwAYj7ADABiPsAMAGI+wAwAYj7ADABiPsAMAGI+wAwAYj7ADABiPsAMAGI+wAwAYj7ADABiPsAMAGI+wAwAYj7ADABiPsAMAGI+wAwAYj7ADABiPsAMAGI+wAwAYj7ADABiPsAMAGI+wAwAYj7ADABiPsAMAGI+wAwAYj7ADABiPsAMAGI+wAwAYj7ADABiPsAMAGI+wAwAYj7ADABiPsAMAGI+wAwAYj7ADABiPsAMAGI+wAwAYj7ADABiPsAMAGI+wAwAYL1vCLioqKjs2AwDATZHpsPvoo480d+5c++tOnTopT548KlSokHbv3p2txQEAkB0yHXaTJk1ScHCwJGn16tVavXq1vv/+e7Vq1UovvfRSthcIAMCNcslsh1OnTtnDbunSperUqZOaN2+uokWLqmbNmtleIAAANyrTIzt/f39FRERIklasWKGmTZtKkizLUnJycvZWBwBANsj0yK5Dhw56/PHHVaJECZ07d06tWrWSJP38888qXrx4thcIAMCNynTYjRo1SkWLFlVERISGDx8ub29vSdLJkyf1zDPPZHuBAADcKJtlWVZOF5FVMTEx8vPz044l8+Tt5ZnT5QC3XKn6zXK6BCDHxMTEyC8gr6Kjo+Xr63vNthka2S1evDjDO3/wwQcz3BYAgFshQ2HXvn37DG3MZrMxSQUAcNvJUNilpKTc7DoAALhpeDYmAMB4mZ6NKUmxsbFat26djh07poSEBId1/fv3z5bCAADILpkOu59//lmtW7fWpUuXFBsbq4CAAJ09e1aenp7Kly8fYQcAuO1k+jTmiy++qLZt2yoyMlIeHh7asmWLjh49qqpVq2rEiBE3o0YAAG5IpsNu165dGjhwoJycnOTs7Kz4+HgFBwdr+PDheu21125GjQAA3JBMh12uXLnk5HSlW758+XTs2DFJkp+fn/2ZmQAA3E4yfc2ucuXK2r59u0qUKKEGDRrorbfe0tmzZzVjxgyVK1fuZtQIAMANyfTIbtiwYSpQoIAkaejQofL399fTTz+tM2fOaPLkydleIAAANyrTI7tq1arZ/z9fvnxasWJFthYEAEB246ZyAIDxMj2yu+eee2Sz2dJd/+eff95QQQAAZLdMh90LL7zg8DoxMVE///yzVqxYoZdeeim76gIAINtkOuyef/75NJdPmDBBO3bsuOGCsqJ4rfuv+7eMAAB3r2y7ZteqVSt9++232bU5AACyTbaF3fz58xUQEJBdmwMAINtk6abyf09QsSxLp06d0pkzZzRx4sRsLQ4AgOyQ6bBr166dQ9g5OTkpb968atiwoUqXLp2txQEAkB0yHXZDhgy5CWUAAHDzZPqanbOzs/7+++9Uy8+dOydnZ+dsKQoAgOyU6bCzLCvN5fHx8XJ1db3hggAAyG4ZPo05duxYSZLNZtMXX3whb29v+7rk5GSFh4dzzQ4AcFvKcNiNGjVK0pWR3aRJkxxOWbq6uqpo0aKaNGlS9lcIAMANynDYHT58WJLUqFEjfffdd/L3979pRQEAkJ0yPRtz7dq1N6MOAABumkxPUHn44Yf10UcfpVo+fPhwdezYMVuKAgAgO2U67MLDw9W6detUy1u1aqXw8PBsKQoAgOyU6bC7ePFimrcY5MqVSzExMdlSFAAA2SnTYVe+fHnNnTs31fI5c+aobNmy2VIUAADZKdMTVN5880116NBBhw4dUuPGjSVJa9as0axZszR//vxsLxAAgBuV6bBr27atFi5cqGHDhmn+/Pny8PBQxYoV9eOPP/InfgAAtyWbld7zvzIoJiZGs2fP1pQpU7Rz504lJydnV20Z2refn5+izpzkL5XjrmRzzvTnVcAYMTEx8gvIq+jo6OtmQJb/eGt4eLhCQ0NVsGBBffLJJ2rcuLG2bNmS1c0BAHDTZOpj4alTpzRt2jRNmTJFMTEx6tSpk+Lj47Vw4UImpwAAblsZHtm1bdtWpUqV0p49ezR69GidOHFC48aNu5m1AQCQLTI8svv+++/Vv39/Pf300ypRosTNrAkAgGyV4ZHdhg0bdOHCBVWtWlU1a9bU+PHjdfbs2ZtZGwAA2SLDYVerVi19/vnnOnnypJ588knNmTNHBQsWVEpKilavXq0LFy7czDoBAMiyG7r1YN++fZoyZYpmzJihqKgoNWvWTIsXL87O+q6JWw9wt+PWA9zNbsmtB5JUqlQpDR8+XMePH9fs2bNvZFMAANw0N3xTeU5iZIe7HSM73M1u2cgOAIA7AWEHADAeYQcAMB5hBwAwHmEHADAeYQcAMB5hBwAwHmEHADAeYQcAMB5hBwAwHmEHADAeYQcAMB5hBwAwHmEHADAeYQcAMB5hBwAwHmEHADAeYQcAMB5hBwAwHmEHADAeYQcAMB5hBwAwHmEHADAeYQcAMB5hBwAwHmEHADAeYQcAMB5hBwAwHmEHADAeYQcAMB5hBwAwHmEHADAeYQcAMB5hBwAwHmEHADAeYQcAMB5hBwAwHmEHADAeYQcAMB5hBwAwHmEHADAeYQcAMB5hBwAwHmEHADAeYQcAMB5hBwAwHmEHADAeYQcAMB5hBwAwHmEHADAeYQcAMB5hBwAwHmEHADAeYQcAMB5hBwAwHmEHADAeYQcAMB5hBwAwHmEHADAeYQcAMB5hZ5D53y1QvxcGqn7jZvILzC8nNy9169ErzbaJiYkaM26CevV5UpWr15Kbd245uXnpiy+nZXh/8fHxKl+5mpzcvBRcrESq9bGxsZo5e466dO+hMuUry9s/r3zzBKl67Xr6ZNQYJSQkpLndhIQEDR8xUpWq1ZRX7kD5BebX/Y2aat78bzNcG3DVtK+my+bids0vZ1cPe/uIiAg981w/1axdT/kLhcjN00cFg4vq/gaNNXXaV0pMTMz0PiZ9NjlVn23btmvwa2+o1QNtlb9QiGwubipcpNhNfS/uZi45XQCyz9APPtLuPb/I29tbhQsV0h/79qXbNjY2Vi8OelmSFBSUT/nzByki4nim9vfam2/r6LGIdNev37BR3Xr0VkBAgBo1qK92D7ZRZGSUlixbppdefU0LFi3WDyuWyd3d3d4nISFBLdu0U9i6cBUtUkQ9undTSkqKvl+5Up27dNevv/2ud99+M1N14u5WqWJFvf3mG2muW79hg35cG6ZWLVvYlx069KdmzpqjmjWqq327tgrwD9C58+f0/YpV6vVEX834epZWrVgmF5fUvz7bPdhWlSpWTLW8WtWqqZbNmjNHY8aOV65cuVS2bBmdPn36Bo4S10PYGWTkxx+pcKFCKl78Xq0LX6/GzVul29bT01PLFn2nShUrqECBAhry3lC9+/6wDO8rbF24Ro8drwljR+uZfs+n2SZ//iDNmDZFHR/uIFdXV/vyEReGqVGzltq0eYsmfPqZBr74T/8Jn36msHXhql2rplYtXyIvLy9J0sWLF9WoWUsN/eAjPdjmAVWrWiXDteLuVqlSRVWqlDqAJKl23fqSpL59etuX1alTW5FnT8vJyfHEV2Jiopq3fEBrw8L03YKF6tTxkVTba9/uQfUI7Z6hunp0767Qbt10331l5erqKpuLW0YPCVnAaUyDNGrYQCVKFJfNZrtuW1dXV7Vq2UIFChTI9H5iYmLUs8+TatKooZ7q+0S67SpVrKguj3V2CDpJ8vHx0YAX+kuS1oWvd1i3cPESSdJrr7xsDzpJ8vb21uuvviLLsjQxjVNCQGb98suv2rJ1qwoVKqQHWre2L3d1dU0VdJKUK1cutW/XVpJ04MDBG95/pUoVVblypVQ/H7g5cjTswsPD1bZtWxUsWFA2m00LFy7MyXKQQc8PGKTIyCh98dmnWd5Grly5JCnVqaBTp66cyil2T9FUfYoVu7Lsx7VhWd4vcNXkL76QJPXu2UPOzs7XbZ+cnKzl36+QJFUoXy7NNrt279boMWP14Ucfa8bXM3X8eOYuDeDmydHTmLGxsapYsaJ69eqlDh065GQpyKAFixbrqxkz9fmkiQoJCc7ydqZOmy5JatG8mcPywMA8OnDwoA4fOaIyZUo7rPvzzyOSpGPHInT58mV5eHgIyIrLly/r65mz5ezsrCd690yzzdmzZzV+wqeyLEtnzp7R6h/W6ODBQ3r8sc5q27ZNmn3GjB3v8Prq9keP/MTh2jRuvRwNu1atWqlVq/SvK+H2cvr0aT35TD+1atFcvXuGZnk74ydO0opVq1WpYgX16uF4faN1q5bavGWrhn30sRo1bGAPtNjYWH0w/GN7u6ioKMIOWTbvm/mKiorSA61bKTg47Q9tZ8+e1TvvvW9/bbPZNGjAixo29L1Ube8pWlTjxoxS82ZNVbhwYUVHR2vDxk0a/Pob+mzyF4qJuaBZX0+/aceD67ujJqjEx8crPj7e/jomJiYHq7n79H36OSUlJenzSROzvI3vFi7Si4NeVv78QZo/Z5b9dOZVzz/3jOZ/+502bd6icpWqqVXLFrIsS8tXrJBNNvn5+Sk6OjrNaypARk3+fIok6ck+6V9zLl26tKykeCUnJ+uvv/7SgoWL9NaQd7Vh4yYtW7JQAQEB9rYNGtRXgwb17a89PT3V8ZGHVatmDVWsUl2z58zVKy8NUsWKFW7eQeGa7qjfGB988IH8/PzsX+l9IkP2m/71TC1ZtlyjPxmuggUzP6lFkhYuWqLHuoYqX768WrtqhYoVuydVG29vb61f+4NefXmQXFxc9MWXUzVv/reqX6+u1q/9QcnJyXJxcXH4RQNkxm+//a5NmzercOHCat36+meWnJ2dFRISouf799Nnn07Qlq1b9daQdzK0r+DgYLVu1VKSFL5+/XVa42a6o8Ju8ODBio6Otn9FRKR/jxey108/75Ik9ejdV05uXg5fkvTXXyfsr6OiolL1/+bb79Tp8a4KCsqnsNUrVapUyXT35e3trWHvvaN9v+1W3IVInTlxTF99+YXi4+N18eJFVaxQPtWIEMiozE5M+ber9+OFrQvPcJ+8gYGSpNjYS5naF7LXHXUa083NTW5u3IuSE2rXqqmLsbFprvty6lfy9PRU50c7SlKq79HM2XPUo3dfFSpUUD+u/D7NEV1GTJ85S5L02KOdstQfiIuL04yvZ8nZ2Vm9e/XIdP+//johKfUs4mvZum27JGX53z2yxx0Vdsg5j3Z8RI+mcROtdCXs/P1z64s0ruV9NeNr9e77tIqEhOjHVd+rSJGQ6+4rJiZGvr6+DstW/7BGw0eM1L3FiunJf90ADGTGN/O/VWRkpNo80DrdyyA//fSzKlaskGrUd/HiRT3/4gBJ0gP/mVi3Y8dOVavm+JSUlJQUfTR8hDZv2aLAwEC1bNE8G48EmZWjYXfx4kUdPPjPzZmHDx/Wrl27FBAQoJCQ6/9ShKOFi5Zo0ZIrN2VfvV9t85Zt6vlEX0lSnjx5NOKjD+ztP/x4hPbt2y9J2rV7jyRp2vQZ2rhpkySpbp06eiILn36vWhu2Tr37Pq2UlBQ1bFhfU6fPSNUmt5+fXuj/nMOyMhUqq0K5cipVqqTc3d3188+79MOPa5U/f5AWfjvX4WZzIDOuTkzp+0T6H5jefX+oNm7arDq1aykkJFieHp6KOH5c369YqaioKNWpXVuDX33ZoU/1WnVUrtx9qlihggoVLKjomGht3LRZv/76mzw9PTVz+rRUH+D++OMPfTh8hMOyyMhI9ej1z6SZEcM/VOD/T4Pixtgsy7JyaudhYWFq1KhRquWhoaGaNm3adfvHxMTIz89PUWdOpvqHdDe63iO/ihQJ0eH9e+2vGzVrmeoJJv8W2q2Lpn5x/aeVOLl5qVChgor484DD8mnTZ6hXn6eu2fe/NUnSS6++ppWrVuvosQglJiaqSEiI2j3YRi8PfJGJKf9hc+bkTEbt3btXZctXUuHChXXk0P50r9ctW7Zcs+fO07bt23X69N+6dOmS/P39VaF8OXXq+Ih69eyR6jTmSy+/qm3bd+jAwYM6f/68nJycFBISrKZNGmvAC8+rWLHUD3gOC1unRk2vPdo7fHCfihYtmuVjNl1MTIz8AvIqOjr6uhmQo2F3owg73O0IO9zNMhN2d9RsTAAAsoKwAwAYj7ADABiPsAMAGI+wAwAYj7ADABiPsAMAGI+wAwAYj7ADABiPsAMAGI+wAwAYj7ADABiPsAMAGI+wAwAYj7ADABiPsAMAGI+wAwAYj7ADABiPsAMAGI+wAwAYj7ADABiPsAMAGI+wAwAYj7ADABiPsAMAGI+wAwAYj7ADABiPsAMAGI+wAwAYj7ADABiPsAMAGI+wAwAYj7ADABiPsAMAGI+wAwAYj7ADABiPsAMAGI+wAwAYj7ADABiPsAMAGI+wAwAYj7ADABiPsAMAGI+wAwAYj7ADABiPsAMAGI+wAwAYj7ADABiPsAMAGI+wAwAYj7ADABiPsAMAGI+wAwAYj7ADABiPsAMAGI+wAwAYj7ADABiPsAMAGI+wAwAYj7ADABiPsAMAGI+wAwAYj7ADABiPsAMAGI+wAwAYj7ADABiPsAMAGI+wAwAYj7ADABiPsAMAGI+wAwAYj7ADABiPsAMAGI+wAwAYj7ADABiPsAMAGI+wAwAYj7ADABiPsAMAGI+wAwAYj7ADABiPsAMAGI+wAwAYj7ADABiPsAMAGI+wAwAYj7ADABiPsAMAGI+wAwAYzyWnC7gRlmVJkmIuXMjhSoCcYXO+o3+EgRsSE3Pld//VLLiWO/on5cL/Qy6kWMkcrgQAkFMuXLggPz+/a7axWRmJxNtUSkqKTpw4IR8fH9lstpwu564TExOj4OBgRUREyNfXN6fLAW45fgZylmVZunDhggoWLCgnp2tflbujR3ZOTk4qXLhwTpdx1/P19eUHHXc1fgZyzvVGdFcxQQUAYDzCDgBgPMIOWebm5qa3335bbm5uOV0KkCP4Gbhz3NETVAAAyAhGdgAA4xF2AADjEXYAAOMRdsBtqEePHmrfvr39dcOGDfXCCy/c0DazYxvAnYqwAzKhR48estlsstlscnV1VfHixfXuu+8qKSnppu73u+++03vvvZehtmFhYbLZbIqKisryNgDT3NFPUAFyQsuWLTV16lTFx8dr+fLlevbZZ5UrVy4NHjzYoV1CQoJcXV2zZZ8BAQG3xTaAOxUjOyCT3NzclD9/fhUpUkRPP/20mjZtqsWLF9tPPQ4dOlQFCxZUqVKlJEkRERHq1KmTcufOrYCAALVr105Hjhyxby85OVkDBgxQ7ty5lSdPHr388supnuL+31OQ8fHxeuWVVxQcHCw3NzcVL15cU6ZM0ZEjR9SoUSNJkr+/v2w2m3r06JHmNiIjI9W9e3f5+/vL09NTrVq10oEDB+zrp02bpty5c2vlypUqU6aMvL291bJlS508edLeJiwsTDVq1JCXl5dy586tunXr6ujRo9n0TgPZh7ADbpCHh4cSEhIkSWvWrNG+ffu0evVqLV26VImJiWrRooV8fHy0fv16bdy40R4aV/t88sknmjZtmr788ktt2LBB58+f14IFC665z+7du2v27NkaO3as9u7dq88++0ze3t4KDg7Wt99+K0nat2+fTp48qTFjxqS5jR49emjHjh1avHixNm/eLMuy1Lp1ayUmJtrbXLp0SSNGjNCMGTMUHh6uY8eOadCgQZKkpKQktW/fXg0aNNCePXu0efNm9e3bl4ey4/ZkAciw0NBQq127dpZlWVZKSoq1evVqy83NzRo0aJAVGhpqBQUFWfHx8fb2M2bMsEqVKmWlpKTYl8XHx1seHh7WypUrLcuyrAIFCljDhw+3r09MTLQKFy5s349lWVaDBg2s559/3rIsy9q3b58lyVq9enWaNa5du9aSZEVGRjos//c29u/fb0myNm7caF9/9uxZy8PDw5o3b55lWZY1depUS5J18OBBe5sJEyZYQUFBlmVZ1rlz5yxJVlhYWAbeOSBnMbIDMmnp0qXy9vaWu7u7WrVqpUcffVRDhgyRJJUvX97hOt3u3bt18OBB+fj4yNvbW97e3goICFBcXJwOHTqk6OhonTx5UjVr1rT3cXFxUbVq1dLd/65du+Ts7KwGDRpk+Rj27t0rFxcXh/3myZNHpUqV0t69e+3LPD09de+999pfFyhQQH///bekK9cAe/TooRYtWqht27YaM2aMwylO4HbCBBUgkxo1aqRPP/1Urq6uKliwoFxc/vkx8vLycmh78eJFVa1aVTNnzky1nbx582Zp/x4eHlnqlxW5cuVyeG2z2RyuJ06dOlX9+/fXihUrNHfuXL3xxhtavXq1atWqdctqBDKCkR2QSV5eXipevLhCQkIcgi4tVapU0YEDB5QvXz4VL17c4cvPz09+fn4qUKCAtm7dau+TlJSknTt3prvN8uXLKyUlRevWrUtz/dWRZXJycrrbKFOmjJKSkhz2e+7cOe3bt09ly5a95jH9V+XKlTV48GBt2rRJ5cqV06xZszLVH7gVCDvgJurSpYsCAwPVrl07rV+/XocPH1ZYWJj69++v48ePS5Kef/55ffjhh1q4cKH++OMPPfPMM6nukfu3okWLKjQ0VL169dLChQvt25w3b54kqUiRIrLZbFq6dKnOnDmjixcvptpGiRIl1K5dO/Xp00cbNmzQ7t271bVrVxUqVEjt2rXL0LEdPnxYgwcP1ubNm3X06FGtWrVKBw4cUJkyZTL/RgE3GWEH3ESenp4KDw9XSEiIOnTooDJlyqh3796Ki4uz/2XrgQMHqlu3bgoNDVXt2rXl4+Ojhx566Jrb/fTTT/XII4/omWeeUenSpdWnTx/FxsZKkgoVKqR33nlHr776qoKCgvTcc8+luY2pU6eqatWqatOmjWrXri3LsrR8+fJUpy6vdWx//PGHHn74YZUsWVJ9+/bVs88+qyeffDIT7xBwa/AnfgAAxmNkBwAwHmEHADAeYQcAMB5hBwAwHmEHADAeYQcAMB5hBwAwHmEHADAeYQcAMB5hBwAwHmEHADAeYQcAMN7/AG1u6P/OdYjpAAAAAElFTkSuQmCC",
      "text/plain": [
       "<Figure size 500x500 with 1 Axes>"
      ]
     },
     "metadata": {},
     "output_type": "display_data"
    }
   ],
   "source": [
    "conf_matrix = confusion_matrix(y_true=y_test, y_pred=test)\n",
    "\n",
    "fig, ax = plt.subplots(figsize=(5, 5))\n",
    "ax.matshow(conf_matrix, cmap=plt.cm.Oranges, alpha=0.3)\n",
    "for i in range(conf_matrix.shape[0]):\n",
    "    for j in range(conf_matrix.shape[1]):\n",
    "        ax.text(x=j, y=i,s=conf_matrix[i, j], va='center', ha='center', size='x-large')\n",
    " \n",
    "plt.xlabel('Predictions', fontsize=10)\n",
    "plt.ylabel('Actuals', fontsize=10)\n",
    "plt.title('Confusion Matrix', fontsize=15)\n",
    "plt.show()"
   ]
  },
  {
   "cell_type": "code",
<<<<<<< HEAD
   "execution_count": 63,
=======
   "execution_count": null,
>>>>>>> 1fb3322bb70f40d58c1afff17edd7b3996750721
   "metadata": {},
   "outputs": [
    {
     "data": {
      "text/html": [
       "<div>\n",
       "<style scoped>\n",
       "    .dataframe tbody tr th:only-of-type {\n",
       "        vertical-align: middle;\n",
       "    }\n",
       "\n",
       "    .dataframe tbody tr th {\n",
       "        vertical-align: top;\n",
       "    }\n",
       "\n",
       "    .dataframe thead th {\n",
       "        text-align: right;\n",
       "    }\n",
       "</style>\n",
       "<table border=\"1\" class=\"dataframe\">\n",
       "  <thead>\n",
       "    <tr style=\"text-align: right;\">\n",
       "      <th></th>\n",
       "      <th>Original Dataset</th>\n",
       "      <th>Comments</th>\n",
       "    </tr>\n",
       "  </thead>\n",
       "  <tbody>\n",
       "    <tr>\n",
       "      <th>Precision</th>\n",
       "      <td>0.5087</td>\n",
       "      <td>Only 54% of the customers targetted are actually interested in renewing their insurance</td>\n",
       "    </tr>\n",
       "    <tr>\n",
       "      <th>Recall</th>\n",
       "      <td>0.3914</td>\n",
       "      <td>Only 41% of the potentially interested customers are being identified</td>\n",
       "    </tr>\n",
       "    <tr>\n",
       "      <th>F1_score</th>\n",
       "      <td>0.4424</td>\n",
       "      <td></td>\n",
       "    </tr>\n",
       "  </tbody>\n",
       "</table>\n",
       "</div>"
      ],
      "text/plain": [
       "           Original Dataset   \n",
       "Precision            0.5087  \\\n",
       "Recall               0.3914   \n",
       "F1_score             0.4424   \n",
       "\n",
       "                                                                                          Comments  \n",
       "Precision  Only 54% of the customers targetted are actually interested in renewing their insurance  \n",
       "Recall                       Only 41% of the potentially interested customers are being identified  \n",
       "F1_score                                                                                            "
      ]
     },
     "execution_count": 63,
     "metadata": {},
     "output_type": "execute_result"
    }
   ],
   "source": [
    "precision_original =  round(precision_score(y_test, test), 4)\n",
    "recall_original = round(recall_score(y_test, test), 4)\n",
    "F1_score_original =  round(f1_score(y_test, test), 4)\n",
    "metrics_original = [precision_original, recall_original, F1_score_original]\n",
    "\n",
    "original = pd.DataFrame(metrics_original)\n",
    "original.index = ['Precision', 'Recall', 'F1_score']\n",
    "original.columns = ['Original Dataset']\n",
    "original['Comments'] = ['Only 54% of the customers targetted are actually interested in renewing their insurance',\n",
    "                       'Only 41% of the potentially interested customers are being identified',\n",
    "                       '']\n",
    "original"
   ]
  },
  {
   "cell_type": "markdown",
   "metadata": {},
   "source": [
    "# Changing the threshold"
   ]
  },
  {
   "cell_type": "code",
<<<<<<< HEAD
   "execution_count": 64,
=======
   "execution_count": null,
>>>>>>> 1fb3322bb70f40d58c1afff17edd7b3996750721
   "metadata": {},
   "outputs": [
    {
     "data": {
      "text/html": [
       "<div>\n",
       "<style scoped>\n",
       "    .dataframe tbody tr th:only-of-type {\n",
       "        vertical-align: middle;\n",
       "    }\n",
       "\n",
       "    .dataframe tbody tr th {\n",
       "        vertical-align: top;\n",
       "    }\n",
       "\n",
       "    .dataframe thead th {\n",
       "        text-align: right;\n",
       "    }\n",
       "</style>\n",
       "<table border=\"1\" class=\"dataframe\">\n",
       "  <thead>\n",
       "    <tr style=\"text-align: right;\">\n",
       "      <th>Metrics</th>\n",
       "      <th>Precision</th>\n",
       "      <th>Recall</th>\n",
       "      <th>F1_score</th>\n",
       "    </tr>\n",
       "  </thead>\n",
       "  <tbody>\n",
       "    <tr>\n",
       "      <th>Original</th>\n",
       "      <td>0.5087</td>\n",
       "      <td>0.3914</td>\n",
       "      <td>0.4424</td>\n",
       "    </tr>\n",
       "    <tr>\n",
       "      <th>Threshold: 0.05</th>\n",
       "      <td>0.3557</td>\n",
       "      <td>0.9766</td>\n",
       "      <td>0.5215</td>\n",
       "    </tr>\n",
       "    <tr>\n",
       "      <th>Threshold: 0.1</th>\n",
       "      <td>0.3843</td>\n",
       "      <td>0.9464</td>\n",
       "      <td>0.5466</td>\n",
       "    </tr>\n",
       "    <tr>\n",
       "      <th>Threshold: 0.15</th>\n",
       "      <td>0.409</td>\n",
       "      <td>0.9092</td>\n",
       "      <td>0.5642</td>\n",
       "    </tr>\n",
       "    <tr>\n",
       "      <th>Threshold: 0.2</th>\n",
       "      <td>0.4301</td>\n",
       "      <td>0.8655</td>\n",
       "      <td>0.5747</td>\n",
       "    </tr>\n",
       "    <tr>\n",
       "      <th>Threshold: 0.25</th>\n",
       "      <td>0.4507</td>\n",
       "      <td>0.8175</td>\n",
       "      <td>0.581</td>\n",
       "    </tr>\n",
       "    <tr>\n",
       "      <th>Threshold: 0.3</th>\n",
       "      <td>0.466</td>\n",
       "      <td>0.757</td>\n",
       "      <td>0.5769</td>\n",
       "    </tr>\n",
       "    <tr>\n",
       "      <th>Threshold: 0.35</th>\n",
       "      <td>0.4801</td>\n",
       "      <td>0.6873</td>\n",
       "      <td>0.5653</td>\n",
       "    </tr>\n",
       "    <tr>\n",
       "      <th>Threshold: 0.4</th>\n",
       "      <td>0.4928</td>\n",
       "      <td>0.6055</td>\n",
       "      <td>0.5434</td>\n",
       "    </tr>\n",
       "    <tr>\n",
       "      <th>Threshold: 0.45</th>\n",
       "      <td>0.5027</td>\n",
       "      <td>0.512</td>\n",
       "      <td>0.5073</td>\n",
       "    </tr>\n",
       "    <tr>\n",
       "      <th>Threshold: 0.5</th>\n",
       "      <td>0.5116</td>\n",
       "      <td>0.411</td>\n",
       "      <td>0.4558</td>\n",
       "    </tr>\n",
       "    <tr>\n",
       "      <th>Threshold: 0.55</th>\n",
       "      <td>0.5145</td>\n",
       "      <td>0.3136</td>\n",
       "      <td>0.3897</td>\n",
       "    </tr>\n",
       "    <tr>\n",
       "      <th>Threshold: 0.6</th>\n",
       "      <td>0.5178</td>\n",
       "      <td>0.2233</td>\n",
       "      <td>0.312</td>\n",
       "    </tr>\n",
       "    <tr>\n",
       "      <th>Threshold: 0.65</th>\n",
       "      <td>0.5243</td>\n",
       "      <td>0.148</td>\n",
       "      <td>0.2308</td>\n",
       "    </tr>\n",
       "    <tr>\n",
       "      <th>Threshold: 0.7</th>\n",
       "      <td>0.5356</td>\n",
       "      <td>0.0903</td>\n",
       "      <td>0.1545</td>\n",
       "    </tr>\n",
       "    <tr>\n",
       "      <th>Threshold: 0.75</th>\n",
       "      <td>0.5207</td>\n",
       "      <td>0.0487</td>\n",
       "      <td>0.089</td>\n",
       "    </tr>\n",
       "  </tbody>\n",
       "</table>\n",
       "</div>"
      ],
      "text/plain": [
       "Metrics         Precision  Recall F1_score\n",
       "Original           0.5087  0.3914   0.4424\n",
       "Threshold: 0.05    0.3557  0.9766   0.5215\n",
       "Threshold: 0.1     0.3843  0.9464   0.5466\n",
       "Threshold: 0.15     0.409  0.9092   0.5642\n",
       "Threshold: 0.2     0.4301  0.8655   0.5747\n",
       "Threshold: 0.25    0.4507  0.8175    0.581\n",
       "Threshold: 0.3      0.466   0.757   0.5769\n",
       "Threshold: 0.35    0.4801  0.6873   0.5653\n",
       "Threshold: 0.4     0.4928  0.6055   0.5434\n",
       "Threshold: 0.45    0.5027   0.512   0.5073\n",
       "Threshold: 0.5     0.5116   0.411   0.4558\n",
       "Threshold: 0.55    0.5145  0.3136   0.3897\n",
       "Threshold: 0.6     0.5178  0.2233    0.312\n",
       "Threshold: 0.65    0.5243   0.148   0.2308\n",
       "Threshold: 0.7     0.5356  0.0903   0.1545\n",
       "Threshold: 0.75    0.5207  0.0487    0.089"
      ]
     },
     "execution_count": 64,
     "metadata": {},
     "output_type": "execute_result"
    }
   ],
   "source": [
    "cols = ['Metrics', 'Original']\n",
    "adj_threshold = pd.DataFrame()\n",
    "adj_threshold['Original'] = metrics_original\n",
    "thresholds = [ j/20 for j in range(1,16)]\n",
    "\n",
    "for i in thresholds:\n",
    "    y_pred_new_threshold = (xgb_classifier.predict_proba(X_val)[:,1]>=i).astype(int) #calculating the threshold with respect to class 1\n",
    "\n",
    "    precision_adj_threshold =  round(precision_score(y_val, y_pred_new_threshold, average='binary'), 4)\n",
    "    recall_adj_threshold = round(recall_score(y_val, y_pred_new_threshold, average='binary'), 4)\n",
    "    F1_score_adj_threshold =  round((f1_score(y_val, y_pred_new_threshold, average='binary')), 4)\n",
    "    metrics_adj_threshold = [precision_adj_threshold, recall_adj_threshold, F1_score_adj_threshold]\n",
    "    name = 'Threshold: ' + str(i) \n",
    "    adj_threshold[name] = metrics_adj_threshold\n",
    "    cols.append(name)\n",
    "\n",
    "\n",
    "adj_threshold.index = ['Precision', 'Recall', 'F1_score']\n",
    "adj_threshold = adj_threshold.reset_index()\n",
    "adj_threshold.columns = cols\n",
    "adj_threshold.transpose()\n",
    "\n",
    "adj_threshold1 = adj_threshold.transpose().iloc[1:, :]\n",
    "adj_threshold1.columns = adj_threshold.iloc[:,0]\n",
    "adj_threshold1"
   ]
  },
  {
   "cell_type": "code",
<<<<<<< HEAD
   "execution_count": 65,
=======
   "execution_count": null,
>>>>>>> 1fb3322bb70f40d58c1afff17edd7b3996750721
   "metadata": {},
   "outputs": [
    {
     "data": {
      "text/plain": [
       "<matplotlib.legend.Legend at 0x7fb323c82f20>"
      ]
     },
     "execution_count": 65,
     "metadata": {},
     "output_type": "execute_result"
    },
    {
     "data": {
      "image/png": "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",
      "text/plain": [
       "<Figure size 1500x500 with 1 Axes>"
      ]
     },
     "metadata": {},
     "output_type": "display_data"
    }
   ],
   "source": [
    "adj_threshold.plot(x='Metrics',\n",
    "        kind='bar',\n",
    "        stacked=False,\n",
    "        title='Metrics across Varying Thresholds',\n",
    "        figsize=(15, 5),\n",
    "        cmap = 'twilight').legend(loc='center left',bbox_to_anchor=(1.0, 0.5))"
   ]
  },
  {
   "cell_type": "markdown",
   "metadata": {},
   "source": [
    "## New Classifier with Optimal Threshold"
   ]
  },
  {
   "cell_type": "code",
<<<<<<< HEAD
   "execution_count": 66,
=======
   "execution_count": null,
>>>>>>> 1fb3322bb70f40d58c1afff17edd7b3996750721
   "metadata": {},
   "outputs": [
    {
     "data": {
      "image/png": "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",
      "text/plain": [
       "<Figure size 500x500 with 1 Axes>"
      ]
     },
     "metadata": {},
     "output_type": "display_data"
    }
   ],
   "source": [
    "y_pred_new_threshold = (xgb_classifier.predict_proba(X_test)[:,1]>=0.3).astype(int)\n",
    "\n",
    "conf_matrix = confusion_matrix(y_true=y_test, y_pred=y_pred_new_threshold)\n",
    "\n",
    "fig, ax = plt.subplots(figsize=(5, 5))\n",
    "ax.matshow(conf_matrix, cmap=plt.cm.Oranges, alpha=0.3)\n",
    "for i in range(conf_matrix.shape[0]):\n",
    "    for j in range(conf_matrix.shape[1]):\n",
    "        ax.text(x=j, y=i,s=conf_matrix[i, j], va='center', ha='center', size='x-large')\n",
    " \n",
    "plt.xlabel('Predictions', fontsize=10)\n",
    "plt.ylabel('Actuals', fontsize=10)\n",
    "plt.title('Confusion Matrix', fontsize=15)\n",
    "plt.show()"
   ]
  },
  {
   "cell_type": "code",
<<<<<<< HEAD
   "execution_count": 67,
=======
   "execution_count": null,
>>>>>>> 1fb3322bb70f40d58c1afff17edd7b3996750721
   "metadata": {},
   "outputs": [
    {
     "data": {
      "text/html": [
       "<div>\n",
       "<style scoped>\n",
       "    .dataframe tbody tr th:only-of-type {\n",
       "        vertical-align: middle;\n",
       "    }\n",
       "\n",
       "    .dataframe tbody tr th {\n",
       "        vertical-align: top;\n",
       "    }\n",
       "\n",
       "    .dataframe thead th {\n",
       "        text-align: right;\n",
       "    }\n",
       "</style>\n",
       "<table border=\"1\" class=\"dataframe\">\n",
       "  <thead>\n",
       "    <tr style=\"text-align: right;\">\n",
       "      <th></th>\n",
       "      <th>Original Dataset</th>\n",
       "      <th>Threshold Changed Dataset</th>\n",
       "    </tr>\n",
       "  </thead>\n",
       "  <tbody>\n",
       "    <tr>\n",
       "      <th>Precision</th>\n",
       "      <td>0.5087</td>\n",
       "      <td>0.4668</td>\n",
       "    </tr>\n",
       "    <tr>\n",
       "      <th>Recall</th>\n",
       "      <td>0.3914</td>\n",
       "      <td>0.7543</td>\n",
       "    </tr>\n",
       "    <tr>\n",
       "      <th>F1_score</th>\n",
       "      <td>0.4424</td>\n",
       "      <td>0.5767</td>\n",
       "    </tr>\n",
       "  </tbody>\n",
       "</table>\n",
       "</div>"
      ],
      "text/plain": [
       "           Original Dataset  Threshold Changed Dataset\n",
       "Precision            0.5087                     0.4668\n",
       "Recall               0.3914                     0.7543\n",
       "F1_score             0.4424                     0.5767"
      ]
     },
     "execution_count": 67,
     "metadata": {},
     "output_type": "execute_result"
    }
   ],
   "source": [
    "precision_changedthreshold =  round(precision_score(y_test, y_pred_new_threshold), 4)\n",
    "recall_changedthreshold = round(recall_score(y_test, y_pred_new_threshold), 4)\n",
    "F1_changedthreshold =  round(f1_score(y_test, y_pred_new_threshold), 4)\n",
    "metrics_changedthreshold = [precision_changedthreshold, recall_changedthreshold, F1_changedthreshold]\n",
    "\n",
    "changedthreshold = pd.DataFrame(list(zip(metrics_original, metrics_changedthreshold)))\n",
    "changedthreshold.index = ['Precision', 'Recall', 'F1_score']\n",
    "changedthreshold.columns = ['Original Dataset', 'Threshold Changed Dataset']\n",
    "changedthreshold"
   ]
  },
  {
   "cell_type": "markdown",
   "metadata": {},
   "source": [
    "# Oversampling"
   ]
  },
  {
   "cell_type": "code",
<<<<<<< HEAD
   "execution_count": 69,
=======
   "execution_count": null,
>>>>>>> 1fb3322bb70f40d58c1afff17edd7b3996750721
   "metadata": {},
   "outputs": [],
   "source": [
    "#Oversampling\n",
    "train_data=pd.concat([X_train,y_train],axis=1)\n",
    "\n",
    "Response_Zero=train_data[train_data.Response==0]\n",
    "Response_One=train_data[train_data.Response==1]\n",
    "\n",
    "upsampled_One = resample(Response_One,\n",
    "                          replace=True, # sample with replacement\n",
    "                          n_samples=len(Response_Zero), # match number in majority class\n",
    "                          random_state=27) # reproducible results\n",
    "\n",
    "# combine majority and upsampled minority\n",
    "upsampled = pd.concat([Response_Zero, upsampled_One])"
   ]
  },
  {
   "cell_type": "code",
<<<<<<< HEAD
   "execution_count": 70,
=======
   "execution_count": null,
>>>>>>> 1fb3322bb70f40d58c1afff17edd7b3996750721
   "metadata": {},
   "outputs": [
    {
     "data": {
      "text/plain": [
       "Response\n",
       "0    156579\n",
       "1     30675\n",
       "Name: count, dtype: int64"
      ]
     },
     "execution_count": 70,
     "metadata": {},
     "output_type": "execute_result"
    }
   ],
   "source": [
    "#Distribution of data in the train set before over-sampling\n",
    "y_train.value_counts()"
   ]
  },
  {
   "cell_type": "code",
<<<<<<< HEAD
   "execution_count": 71,
=======
   "execution_count": null,
>>>>>>> 1fb3322bb70f40d58c1afff17edd7b3996750721
   "metadata": {},
   "outputs": [
    {
     "data": {
      "text/plain": [
       "Response\n",
       "0    156579\n",
       "1    156579\n",
       "Name: count, dtype: int64"
      ]
     },
     "execution_count": 71,
     "metadata": {},
     "output_type": "execute_result"
    }
   ],
   "source": [
    "#Distribution of data in the train set after over-sampling\n",
    "upsampled['Response'].value_counts()"
   ]
  },
  {
   "cell_type": "code",
<<<<<<< HEAD
   "execution_count": 72,
=======
   "execution_count": null,
>>>>>>> 1fb3322bb70f40d58c1afff17edd7b3996750721
   "metadata": {},
   "outputs": [],
   "source": [
    "#Training the model on up-sampled data\n",
    "X_train_upsampled = upsampled.drop(columns = ['Response'])\n",
    "y_train_upsampled = upsampled['Response']\n",
    "\n",
    "xgb_upsampled = xgb.XGBClassifier()\n",
    "\n",
    "xgb_upsampled.fit(X_train_upsampled,y_train_upsampled)\n",
    "\n",
    "train_upsampled = xgb_upsampled.predict(X_train_upsampled)\n",
    "test_upsampled = xgb_upsampled.predict(X_test)"
   ]
  },
  {
   "cell_type": "code",
<<<<<<< HEAD
   "execution_count": 73,
=======
   "execution_count": null,
>>>>>>> 1fb3322bb70f40d58c1afff17edd7b3996750721
   "metadata": {},
   "outputs": [
    {
     "data": {
      "image/png": "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",
      "text/plain": [
       "<Figure size 500x500 with 1 Axes>"
      ]
     },
     "metadata": {},
     "output_type": "display_data"
    }
   ],
   "source": [
    "#Confusion matrix on the test set\n",
    "conf_matrix = confusion_matrix(y_true=y_test, y_pred=test_upsampled)\n",
    "\n",
    "fig, ax = plt.subplots(figsize=(5, 5))\n",
    "ax.matshow(conf_matrix, cmap=plt.cm.Oranges, alpha=0.3)\n",
    "for i in range(conf_matrix.shape[0]):\n",
    "    for j in range(conf_matrix.shape[1]):\n",
    "        ax.text(x=j, y=i,s=conf_matrix[i, j], va='center', ha='center', size='xx-large')\n",
    " \n",
    "plt.xlabel('Predictions', fontsize=18)\n",
    "plt.ylabel('Actuals', fontsize=18)\n",
    "plt.title('Confusion Matrix', fontsize=18)\n",
    "plt.show()"
   ]
  },
  {
   "cell_type": "code",
<<<<<<< HEAD
   "execution_count": 74,
=======
   "execution_count": null,
>>>>>>> 1fb3322bb70f40d58c1afff17edd7b3996750721
   "metadata": {},
   "outputs": [
    {
     "data": {
      "text/html": [
       "<div>\n",
       "<style scoped>\n",
       "    .dataframe tbody tr th:only-of-type {\n",
       "        vertical-align: middle;\n",
       "    }\n",
       "\n",
       "    .dataframe tbody tr th {\n",
       "        vertical-align: top;\n",
       "    }\n",
       "\n",
       "    .dataframe thead th {\n",
       "        text-align: right;\n",
       "    }\n",
       "</style>\n",
       "<table border=\"1\" class=\"dataframe\">\n",
       "  <thead>\n",
       "    <tr style=\"text-align: right;\">\n",
       "      <th></th>\n",
       "      <th>Original Dataset</th>\n",
       "      <th>Threshold = 0.3</th>\n",
       "      <th>Upsampled Dataset</th>\n",
       "    </tr>\n",
       "  </thead>\n",
       "  <tbody>\n",
       "    <tr>\n",
       "      <th>Precision</th>\n",
       "      <td>0.5087</td>\n",
       "      <td>0.4668</td>\n",
       "      <td>0.4317</td>\n",
       "    </tr>\n",
       "    <tr>\n",
       "      <th>Recall</th>\n",
       "      <td>0.3914</td>\n",
       "      <td>0.7543</td>\n",
       "      <td>0.8989</td>\n",
       "    </tr>\n",
       "    <tr>\n",
       "      <th>F1_score</th>\n",
       "      <td>0.4424</td>\n",
       "      <td>0.5767</td>\n",
       "      <td>0.5833</td>\n",
       "    </tr>\n",
       "  </tbody>\n",
       "</table>\n",
       "</div>"
      ],
      "text/plain": [
       "           Original Dataset  Threshold = 0.3  Upsampled Dataset\n",
       "Precision            0.5087           0.4668             0.4317\n",
       "Recall               0.3914           0.7543             0.8989\n",
       "F1_score             0.4424           0.5767             0.5833"
      ]
     },
     "execution_count": 74,
     "metadata": {},
     "output_type": "execute_result"
    }
   ],
   "source": [
    "#New efficacy metrics\n",
    "precision_upsampled =  round(precision_score(y_test, test_upsampled), 4)\n",
    "recall_upsampled = round(recall_score(y_test, test_upsampled), 4)\n",
    "F1_upsampled =  round(f1_score(y_test, test_upsampled), 4)\n",
    "metrics_upsampled = [precision_upsampled, recall_upsampled, F1_upsampled]\n",
    "\n",
    "upsampled = pd.DataFrame(list(zip(metrics_original, metrics_changedthreshold, metrics_upsampled)))\n",
    "upsampled.index = ['Precision', 'Recall', 'F1_score']\n",
    "upsampled.columns = ['Original Dataset', 'Threshold = 0.3', 'Upsampled Dataset']\n",
    "upsampled"
   ]
  },
  {
   "cell_type": "markdown",
   "metadata": {},
   "source": [
    "# Undersampling"
   ]
  },
  {
   "cell_type": "code",
<<<<<<< HEAD
   "execution_count": 75,
=======
   "execution_count": null,
>>>>>>> 1fb3322bb70f40d58c1afff17edd7b3996750721
   "metadata": {},
   "outputs": [],
   "source": [
    "#down-sampling\n",
    "downsampled_Zero = resample(Response_Zero,\n",
    "                                replace = False, # sample without replacement\n",
    "                                n_samples = len(Response_One), # match minority n\n",
    "                                random_state = 27) # reproducible results\n",
    "\n",
    "#combine minority and downsampled majority\n",
    "downsampled = pd.concat([downsampled_Zero, Response_One])"
   ]
  },
  {
   "cell_type": "code",
<<<<<<< HEAD
   "execution_count": 76,
=======
   "execution_count": null,
>>>>>>> 1fb3322bb70f40d58c1afff17edd7b3996750721
   "metadata": {},
   "outputs": [
    {
     "data": {
      "text/plain": [
       "Response\n",
       "0    156579\n",
       "1     30675\n",
       "Name: count, dtype: int64"
      ]
     },
     "execution_count": 76,
     "metadata": {},
     "output_type": "execute_result"
    }
   ],
   "source": [
    "#Distribution of majority and minority classes \n",
    "y_train.value_counts()"
   ]
  },
  {
   "cell_type": "code",
<<<<<<< HEAD
   "execution_count": 77,
=======
   "execution_count": null,
>>>>>>> 1fb3322bb70f40d58c1afff17edd7b3996750721
   "metadata": {},
   "outputs": [
    {
     "data": {
      "text/plain": [
       "Response\n",
       "0    30675\n",
       "1    30675\n",
       "Name: count, dtype: int64"
      ]
     },
     "execution_count": 77,
     "metadata": {},
     "output_type": "execute_result"
    }
   ],
   "source": [
    "#Distribution of both the classes after down-sampling\n",
    "downsampled['Response'].value_counts()"
   ]
  },
  {
   "cell_type": "code",
<<<<<<< HEAD
   "execution_count": 78,
=======
   "execution_count": null,
>>>>>>> 1fb3322bb70f40d58c1afff17edd7b3996750721
   "metadata": {},
   "outputs": [],
   "source": [
    "#Training the model on down-sampled data and testing on the original test dataset\n",
    "X_train_downsampled = downsampled.drop(columns = ['Response'])\n",
    "y_train_downsampled = downsampled['Response']\n",
    "\n",
    "xgb_downsampled = xgb.XGBClassifier()\n",
    "\n",
    "xgb_downsampled.fit(X_train_downsampled,y_train_downsampled)\n",
    "\n",
    "train_downsampled = xgb_downsampled.predict(X_train_downsampled)\n",
    "test_downsampled = xgb_downsampled.predict(X_test)"
   ]
  },
  {
   "cell_type": "code",
<<<<<<< HEAD
   "execution_count": 79,
=======
   "execution_count": null,
>>>>>>> 1fb3322bb70f40d58c1afff17edd7b3996750721
   "metadata": {},
   "outputs": [
    {
     "data": {
      "image/png": "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",
      "text/plain": [
       "<Figure size 500x500 with 1 Axes>"
      ]
     },
     "metadata": {},
     "output_type": "display_data"
    }
   ],
   "source": [
    "#Confusion metrics of the model built on down-sampled data\n",
    "conf_matrix = confusion_matrix(y_true=y_test, y_pred=test_downsampled)\n",
    "\n",
    "fig, ax = plt.subplots(figsize=(5, 5))\n",
    "ax.matshow(conf_matrix, cmap=plt.cm.Oranges, alpha=0.3)\n",
    "for i in range(conf_matrix.shape[0]):\n",
    "    for j in range(conf_matrix.shape[1]):\n",
    "        ax.text(x=j, y=i,s=conf_matrix[i, j], va='center', ha='center', size='xx-large')\n",
    " \n",
    "plt.xlabel('Predictions', fontsize=18)\n",
    "plt.ylabel('Actuals', fontsize=18)\n",
    "plt.title('Confusion Matrix', fontsize=18)\n",
    "plt.show()"
   ]
  },
  {
   "cell_type": "code",
<<<<<<< HEAD
   "execution_count": 80,
=======
   "execution_count": null,
>>>>>>> 1fb3322bb70f40d58c1afff17edd7b3996750721
   "metadata": {},
   "outputs": [
    {
     "data": {
      "text/html": [
       "<div>\n",
       "<style scoped>\n",
       "    .dataframe tbody tr th:only-of-type {\n",
       "        vertical-align: middle;\n",
       "    }\n",
       "\n",
       "    .dataframe tbody tr th {\n",
       "        vertical-align: top;\n",
       "    }\n",
       "\n",
       "    .dataframe thead th {\n",
       "        text-align: right;\n",
       "    }\n",
       "</style>\n",
       "<table border=\"1\" class=\"dataframe\">\n",
       "  <thead>\n",
       "    <tr style=\"text-align: right;\">\n",
       "      <th></th>\n",
       "      <th>Original Dataset</th>\n",
       "      <th>Threshold = 0.3</th>\n",
       "      <th>Upsampled Dataset</th>\n",
       "      <th>Downsampled Dataset</th>\n",
       "    </tr>\n",
       "  </thead>\n",
       "  <tbody>\n",
       "    <tr>\n",
       "      <th>Precision</th>\n",
       "      <td>0.5087</td>\n",
       "      <td>0.4668</td>\n",
       "      <td>0.4317</td>\n",
       "      <td>0.4224</td>\n",
       "    </tr>\n",
       "    <tr>\n",
       "      <th>Recall</th>\n",
       "      <td>0.3914</td>\n",
       "      <td>0.7543</td>\n",
       "      <td>0.8989</td>\n",
       "      <td>0.9119</td>\n",
       "    </tr>\n",
       "    <tr>\n",
       "      <th>F1_score</th>\n",
       "      <td>0.4424</td>\n",
       "      <td>0.5767</td>\n",
       "      <td>0.5833</td>\n",
       "      <td>0.5774</td>\n",
       "    </tr>\n",
       "  </tbody>\n",
       "</table>\n",
       "</div>"
      ],
      "text/plain": [
       "           Original Dataset  Threshold = 0.3  Upsampled Dataset   \n",
       "Precision            0.5087           0.4668             0.4317  \\\n",
       "Recall               0.3914           0.7543             0.8989   \n",
       "F1_score             0.4424           0.5767             0.5833   \n",
       "\n",
       "           Downsampled Dataset  \n",
       "Precision               0.4224  \n",
       "Recall                  0.9119  \n",
       "F1_score                0.5774  "
      ]
     },
     "execution_count": 80,
     "metadata": {},
     "output_type": "execute_result"
    }
   ],
   "source": [
    "#Final Metrics\n",
    "\n",
    "precision_downsampled =  round(precision_score(y_test, test_downsampled), 4)\n",
    "recall_downsampled = round(recall_score(y_test, test_downsampled), 4)\n",
    "F1_downsampled =  round(f1_score(y_test, test_downsampled), 4)\n",
    "metrics_downsampled = [precision_downsampled, recall_downsampled, F1_downsampled]\n",
    "\n",
    "downsampled = pd.DataFrame(list(zip(metrics_original, metrics_changedthreshold,  metrics_upsampled, metrics_downsampled)))\n",
    "downsampled.index = ['Precision', 'Recall', 'F1_score']\n",
    "downsampled.columns = ['Original Dataset', 'Threshold = 0.3', 'Upsampled Dataset', 'Downsampled Dataset']\n",
    "downsampled"
   ]
  },
  {
   "cell_type": "markdown",
   "metadata": {},
   "source": [
    "# imblearn library\n",
    "\n",
    "The imbalanced-learn library (often abbreviated as imblearn) is a Python library designed to address the challenges posed by imbalanced datasets in machine learning. An imbalanced dataset occurs when the distribution of classes is not uniform, with one class having significantly fewer instances than another. This imbalance can lead to biased model performance, especially in binary classification problems.\n",
    "\n",
    "The imbalanced-learn library provides a variety of techniques for handling class imbalance, including:\n",
    "\n",
    "1. **Oversampling Methods:**. Generating synthetic examples of the minority class to balance class distribution. Examples include SMOTE (Synthetic Minority Over-sampling Technique) and ADASYN (Adaptive Synthetic Sampling).\n",
    "\n",
    "2. **Undersampling Methods:**. Reducing the number of examples from the majority class to balance the distribution. Examples include RandomUnderSampler and TomekLinks.\n",
    "\n",
    "3. **Combination Methods:**. Combining oversampling and undersampling strategies. Examples include SMOTEENN and SMOTETomek.\n",
    "\n",
    "4. **Weighting Methods:**. Assigning different weights to classes during training to give more importance to the minority class. Examples include the inverse class frequency approach and custom weight approach.\n",
    "\n",
    "imbalanced-learn is an extension of the scikit-learn library and can be easily integrated with other machine learning methods available in scikit-learn.\n",
    "\n",
    "To use imbalanced-learn, you can install it using the following command:\n",
    "\n",
    "```bash\n",
    "pip install -U imbalanced-learn\n",
    "```\n",
    "\n",
    "Once installed, you can import its functions and classes into your Python script to implement class balancing techniques on imbalanced datasets."
   ]
  },
  {
   "cell_type": "code",
<<<<<<< HEAD
   "execution_count": 81,
=======
   "execution_count": null,
>>>>>>> 1fb3322bb70f40d58c1afff17edd7b3996750721
   "metadata": {},
   "outputs": [],
   "source": [
    "#pip install -U imbalanced-learn"
   ]
  },
  {
   "cell_type": "code",
<<<<<<< HEAD
   "execution_count": 82,
=======
   "execution_count": null,
>>>>>>> 1fb3322bb70f40d58c1afff17edd7b3996750721
   "metadata": {},
   "outputs": [
    {
     "name": "stdout",
     "output_type": "stream",
     "text": [
      "0.11.0\n"
     ]
    }
   ],
   "source": [
    "# check version number\n",
    "import imblearn\n",
    "print(imblearn.__version__)"
   ]
  },
  {
   "cell_type": "markdown",
   "metadata": {},
   "source": [
    "## SMOTE\n",
    "\n",
    "SMOTE, which stands for Synthetic Minority Over-sampling Technique, is a technique used to address class imbalance in machine learning datasets. It works by generating synthetic examples of the minority class to balance the class distribution. SMOTE helps address the issue of imbalanced datasets by creating new synthetic instances rather than replicating existing ones. This helps prevent overfitting on the minority class and can improve the performance of machine learning models.\n",
    "\n",
    "Steps of the SMOTE technique:\n",
    "\n",
    "1. **Identify Minority Class Instances**. SMOTE focuses on the minority class, which is the class with fewer instances.\n",
    "\n",
    "2. **Select a Minority Instance**. For each instance in the minority class, SMOTE selects a data point.\n",
    "\n",
    "3. **Identify k Nearest Neighbors:**. SMOTE then identifies the k nearest neighbors of the selected instance. The value of k is a parameter specified by the user.\n",
    "\n",
    "4. **Generate Synthetic Examples**. For the selected instance, SMOTE generates synthetic examples by interpolating between the selected instance and its k nearest neighbors. The interpolation is done by taking the difference between feature values of the selected instance and each neighbor and multiplying it by a random number between 0 and 1. The result is added to the selected instance to create a synthetic example.\n",
    "\n",
    "5. **Repeat for Other Instances**. Steps 2-4 are repeated for all instances in the minority class.\n",
    "\n",
    "6. **Incorporate Synthetic Examples.**. The synthetic examples are incorporated into the dataset, increasing the representation of the minority class.\n",
    "\n",
    "\n",
    "Regarding step 4 above, the mathematical formulation is given by the following expression:\n",
    "\n",
    " $$\n",
    " x_{new} = x_i + \\lambda \\times (x_{zi} - x_i)\n",
    " $$\n",
    "\n",
    "In the above expression, $\\lambda$ is a random number in the range $[0,1]$. This interpolation will create a sample on the line between \n",
    "$x_i$ and $x_{zi}$. The following image gives an intuition about how SMOTE does such interpolation to generation synthetic examples.\n",
    "\n",
    "<p align=\"center\">\n",
    "<img src=\"https://imbalanced-learn.org/stable/_images/sphx_glr_plot_illustration_generation_sample_001.png\" alt=\"drawing\" width=\"400\"/>\n",
    "</p>"
   ]
  },
  {
   "cell_type": "code",
<<<<<<< HEAD
   "execution_count": 83,
=======
   "execution_count": null,
>>>>>>> 1fb3322bb70f40d58c1afff17edd7b3996750721
   "metadata": {},
   "outputs": [],
   "source": [
    "from imblearn.over_sampling import SMOTE\n",
    "from imblearn.under_sampling import RandomUnderSampler\n",
    "\n",
    "smote_oversample = SMOTE()\n"
   ]
  },
  {
   "cell_type": "code",
<<<<<<< HEAD
   "execution_count": 84,
=======
   "execution_count": null,
>>>>>>> 1fb3322bb70f40d58c1afff17edd7b3996750721
   "metadata": {},
   "outputs": [],
   "source": [
    "X_train_smote, y_train_smote = smote_oversample.fit_resample(X_train, y_train)"
   ]
  },
  {
   "cell_type": "code",
<<<<<<< HEAD
   "execution_count": 85,
=======
   "execution_count": null,
>>>>>>> 1fb3322bb70f40d58c1afff17edd7b3996750721
   "metadata": {},
   "outputs": [
    {
     "name": "stdout",
     "output_type": "stream",
     "text": [
      "Counter({0: 156579, 1: 156579})\n"
     ]
    }
   ],
   "source": [
    "from collections import Counter\n",
    "\n",
    "# summarize the new class distribution\n",
    "counter = Counter(y_train_smote)\n",
    "print(counter)"
   ]
  },
  {
   "cell_type": "code",
<<<<<<< HEAD
   "execution_count": 86,
=======
   "execution_count": null,
>>>>>>> 1fb3322bb70f40d58c1afff17edd7b3996750721
   "metadata": {},
   "outputs": [],
   "source": [
    "#Training the model on SMOTE p-sampled data and testing on the original test dataset\n",
    "\n",
    "xgb_smote = xgb.XGBClassifier()\n",
    "\n",
    "xgb_smote.fit(X_train_smote, y_train_smote)\n",
    "\n",
    "y_pred_smote = xgb_smote.predict(X_test)"
   ]
  },
  {
   "cell_type": "code",
<<<<<<< HEAD
   "execution_count": 87,
=======
   "execution_count": null,
>>>>>>> 1fb3322bb70f40d58c1afff17edd7b3996750721
   "metadata": {},
   "outputs": [
    {
     "data": {
      "image/png": "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",
      "text/plain": [
       "<Figure size 500x500 with 1 Axes>"
      ]
     },
     "metadata": {},
     "output_type": "display_data"
    }
   ],
   "source": [
    "#Confusion metrics of the model built on down-sampled data\n",
    "conf_matrix = confusion_matrix(y_true=y_test, y_pred=y_pred_smote)\n",
    "\n",
    "fig, ax = plt.subplots(figsize=(5, 5))\n",
    "ax.matshow(conf_matrix, cmap=plt.cm.Oranges, alpha=0.3)\n",
    "for i in range(conf_matrix.shape[0]):\n",
    "    for j in range(conf_matrix.shape[1]):\n",
    "        ax.text(x=j, y=i,s=conf_matrix[i, j], va='center', ha='center', size='xx-large')\n",
    " \n",
    "plt.xlabel('Predictions', fontsize=18)\n",
    "plt.ylabel('Actuals', fontsize=18)\n",
    "plt.title('Confusion Matrix', fontsize=18)\n",
    "plt.show()"
   ]
  },
  {
   "cell_type": "code",
<<<<<<< HEAD
   "execution_count": 88,
=======
   "execution_count": null,
>>>>>>> 1fb3322bb70f40d58c1afff17edd7b3996750721
   "metadata": {},
   "outputs": [
    {
     "data": {
      "text/html": [
       "<div>\n",
       "<style scoped>\n",
       "    .dataframe tbody tr th:only-of-type {\n",
       "        vertical-align: middle;\n",
       "    }\n",
       "\n",
       "    .dataframe tbody tr th {\n",
       "        vertical-align: top;\n",
       "    }\n",
       "\n",
       "    .dataframe thead th {\n",
       "        text-align: right;\n",
       "    }\n",
       "</style>\n",
       "<table border=\"1\" class=\"dataframe\">\n",
       "  <thead>\n",
       "    <tr style=\"text-align: right;\">\n",
       "      <th></th>\n",
       "      <th>Original Dataset</th>\n",
       "      <th>Threshold = 0.3</th>\n",
       "      <th>Upsampled Dataset</th>\n",
       "      <th>Downsampled Dataset</th>\n",
       "      <th>SMOTE upsampled</th>\n",
       "    </tr>\n",
       "  </thead>\n",
       "  <tbody>\n",
       "    <tr>\n",
       "      <th>Precision</th>\n",
       "      <td>0.5087</td>\n",
       "      <td>0.4668</td>\n",
       "      <td>0.4317</td>\n",
       "      <td>0.4224</td>\n",
       "      <td>0.4781</td>\n",
       "    </tr>\n",
       "    <tr>\n",
       "      <th>Recall</th>\n",
       "      <td>0.3914</td>\n",
       "      <td>0.7543</td>\n",
       "      <td>0.8989</td>\n",
       "      <td>0.9119</td>\n",
       "      <td>0.7455</td>\n",
       "    </tr>\n",
       "    <tr>\n",
       "      <th>F1_score</th>\n",
       "      <td>0.4424</td>\n",
       "      <td>0.5767</td>\n",
       "      <td>0.5833</td>\n",
       "      <td>0.5774</td>\n",
       "      <td>0.5826</td>\n",
       "    </tr>\n",
       "  </tbody>\n",
       "</table>\n",
       "</div>"
      ],
      "text/plain": [
       "           Original Dataset  Threshold = 0.3  Upsampled Dataset   \n",
       "Precision            0.5087           0.4668             0.4317  \\\n",
       "Recall               0.3914           0.7543             0.8989   \n",
       "F1_score             0.4424           0.5767             0.5833   \n",
       "\n",
       "           Downsampled Dataset  SMOTE upsampled  \n",
       "Precision               0.4224           0.4781  \n",
       "Recall                  0.9119           0.7455  \n",
       "F1_score                0.5774           0.5826  "
      ]
     },
     "execution_count": 88,
     "metadata": {},
     "output_type": "execute_result"
    }
   ],
   "source": [
    "precision_smote =  round(precision_score(y_test, y_pred_smote), 4)\n",
    "recall_smote = round(recall_score(y_test, y_pred_smote), 4)\n",
    "F1_smote =  round(f1_score(y_test, y_pred_smote), 4)\n",
    "metrics_smote = [precision_smote, recall_smote, F1_smote]\n",
    "\n",
    "results = pd.DataFrame(list(zip(metrics_original, metrics_changedthreshold,  metrics_upsampled, metrics_downsampled, metrics_smote)))\n",
    "results.index = ['Precision', 'Recall', 'F1_score']\n",
    "results.columns = ['Original Dataset', 'Threshold = 0.3', 'Upsampled Dataset', 'Downsampled Dataset', 'SMOTE upsampled']\n",
    "results"
   ]
  }
 ],
 "metadata": {
  "kernelspec": {
   "display_name": "cic1205",
   "language": "python",
   "name": "python3"
  },
  "language_info": {
   "codemirror_mode": {
    "name": "ipython",
    "version": 3
   },
   "file_extension": ".py",
   "mimetype": "text/x-python",
   "name": "python",
   "nbconvert_exporter": "python",
   "pygments_lexer": "ipython3",
   "version": "3.10.4"
  }
 },
 "nbformat": 4,
 "nbformat_minor": 2
}
