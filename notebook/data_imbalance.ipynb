{
 "cells": [
  {
   "cell_type": "markdown",
   "metadata": {},
   "source": [
    "# Credits\n",
    "\n",
    "This notebook is adapted from another one produced by Damini Dasgupta. See her presentation at https://www.youtube.com/watch?v=tm7PoOnQ5HU&t=2612s."
   ]
  },
  {
   "cell_type": "markdown",
   "metadata": {},
   "source": [
    "# Importing Necessary Packages"
   ]
  },
  {
   "cell_type": "code",
   "execution_count": 44,
   "metadata": {},
   "outputs": [],
   "source": [
    "# pip install xgboost"
   ]
  },
  {
   "cell_type": "code",
   "execution_count": 45,
   "metadata": {},
   "outputs": [],
   "source": [
    "import numpy as np #python library for working with arrays\n",
    "import pandas as pd # for working with datasets\n",
    "\n",
    "#Graphs\n",
    "import matplotlib.pyplot as plt #visualization\n",
    "from matplotlib import pyplot #visualization \n",
    "%matplotlib inline \n",
    "#static images of your plot embedded in the workbook\n",
    "\n",
    "#For splitting the train and test data\n",
    "from sklearn.model_selection import train_test_split\n",
    "\n",
    "#For Sampling\n",
    "from sklearn.utils import resample\n",
    "\n",
    "#XGBoost Algorithm\n",
    "import xgboost as xgb\n",
    "\n",
    "#Evaluation\n",
    "from sklearn import metrics\n",
    "from sklearn.metrics import confusion_matrix\n",
    "from sklearn.metrics import precision_score, recall_score, f1_score, accuracy_score\n",
    "\n",
    "import warnings\n",
    "warnings.filterwarnings(\"ignore\")"
   ]
  },
  {
   "cell_type": "code",
   "execution_count": 46,
   "metadata": {},
   "outputs": [],
   "source": [
    "pd.options.display.max_colwidth = 150 #to extend the maximum width of the output display"
   ]
  },
  {
   "cell_type": "markdown",
   "metadata": {},
   "source": [
    "# Reading the Dataset"
   ]
  },
  {
   "cell_type": "code",
   "execution_count": 47,
   "metadata": {},
   "outputs": [],
   "source": [
    "data = pd.read_csv('../data/aug_train.csv')"
   ]
  },
  {
   "cell_type": "code",
   "execution_count": 48,
   "metadata": {},
   "outputs": [
    {
     "data": {
      "text/html": [
       "<div>\n",
       "<style scoped>\n",
       "    .dataframe tbody tr th:only-of-type {\n",
       "        vertical-align: middle;\n",
       "    }\n",
       "\n",
       "    .dataframe tbody tr th {\n",
       "        vertical-align: top;\n",
       "    }\n",
       "\n",
       "    .dataframe thead th {\n",
       "        text-align: right;\n",
       "    }\n",
       "</style>\n",
       "<table border=\"1\" class=\"dataframe\">\n",
       "  <thead>\n",
       "    <tr style=\"text-align: right;\">\n",
       "      <th></th>\n",
       "      <th>id</th>\n",
       "      <th>Gender</th>\n",
       "      <th>Age</th>\n",
       "      <th>Driving_License</th>\n",
       "      <th>Region_Code</th>\n",
       "      <th>Previously_Insured</th>\n",
       "      <th>Vehicle_Age</th>\n",
       "      <th>Vehicle_Damage</th>\n",
       "      <th>Annual_Premium</th>\n",
       "      <th>Policy_Sales_Channel</th>\n",
       "      <th>Vintage</th>\n",
       "      <th>Response</th>\n",
       "    </tr>\n",
       "  </thead>\n",
       "  <tbody>\n",
       "    <tr>\n",
       "      <th>0</th>\n",
       "      <td>167647</td>\n",
       "      <td>Male</td>\n",
       "      <td>22</td>\n",
       "      <td>1</td>\n",
       "      <td>7.0</td>\n",
       "      <td>1</td>\n",
       "      <td>&lt; 1 Year</td>\n",
       "      <td>No</td>\n",
       "      <td>2630.0</td>\n",
       "      <td>152.0</td>\n",
       "      <td>16</td>\n",
       "      <td>0</td>\n",
       "    </tr>\n",
       "    <tr>\n",
       "      <th>1</th>\n",
       "      <td>17163</td>\n",
       "      <td>Male</td>\n",
       "      <td>42</td>\n",
       "      <td>1</td>\n",
       "      <td>28.0</td>\n",
       "      <td>0</td>\n",
       "      <td>1-2 Year</td>\n",
       "      <td>Yes</td>\n",
       "      <td>43327.0</td>\n",
       "      <td>26.0</td>\n",
       "      <td>135</td>\n",
       "      <td>0</td>\n",
       "    </tr>\n",
       "    <tr>\n",
       "      <th>2</th>\n",
       "      <td>32023</td>\n",
       "      <td>Female</td>\n",
       "      <td>66</td>\n",
       "      <td>1</td>\n",
       "      <td>33.0</td>\n",
       "      <td>0</td>\n",
       "      <td>1-2 Year</td>\n",
       "      <td>Yes</td>\n",
       "      <td>35841.0</td>\n",
       "      <td>124.0</td>\n",
       "      <td>253</td>\n",
       "      <td>0</td>\n",
       "    </tr>\n",
       "    <tr>\n",
       "      <th>3</th>\n",
       "      <td>87447</td>\n",
       "      <td>Female</td>\n",
       "      <td>22</td>\n",
       "      <td>1</td>\n",
       "      <td>33.0</td>\n",
       "      <td>0</td>\n",
       "      <td>&lt; 1 Year</td>\n",
       "      <td>No</td>\n",
       "      <td>27645.0</td>\n",
       "      <td>152.0</td>\n",
       "      <td>69</td>\n",
       "      <td>0</td>\n",
       "    </tr>\n",
       "    <tr>\n",
       "      <th>4</th>\n",
       "      <td>501933</td>\n",
       "      <td>Male</td>\n",
       "      <td>28</td>\n",
       "      <td>1</td>\n",
       "      <td>46.0</td>\n",
       "      <td>1</td>\n",
       "      <td>&lt; 1 Year</td>\n",
       "      <td>No</td>\n",
       "      <td>29023.0</td>\n",
       "      <td>152.0</td>\n",
       "      <td>211</td>\n",
       "      <td>0</td>\n",
       "    </tr>\n",
       "    <tr>\n",
       "      <th>5</th>\n",
       "      <td>295775</td>\n",
       "      <td>Female</td>\n",
       "      <td>25</td>\n",
       "      <td>1</td>\n",
       "      <td>25.0</td>\n",
       "      <td>1</td>\n",
       "      <td>&lt; 1 Year</td>\n",
       "      <td>No</td>\n",
       "      <td>27954.0</td>\n",
       "      <td>152.0</td>\n",
       "      <td>23</td>\n",
       "      <td>0</td>\n",
       "    </tr>\n",
       "    <tr>\n",
       "      <th>6</th>\n",
       "      <td>71711</td>\n",
       "      <td>Male</td>\n",
       "      <td>51</td>\n",
       "      <td>1</td>\n",
       "      <td>8.0</td>\n",
       "      <td>0</td>\n",
       "      <td>1-2 Year</td>\n",
       "      <td>Yes</td>\n",
       "      <td>2630.0</td>\n",
       "      <td>26.0</td>\n",
       "      <td>209</td>\n",
       "      <td>0</td>\n",
       "    </tr>\n",
       "    <tr>\n",
       "      <th>7</th>\n",
       "      <td>331781</td>\n",
       "      <td>Male</td>\n",
       "      <td>38</td>\n",
       "      <td>1</td>\n",
       "      <td>28.0</td>\n",
       "      <td>1</td>\n",
       "      <td>1-2 Year</td>\n",
       "      <td>No</td>\n",
       "      <td>2630.0</td>\n",
       "      <td>26.0</td>\n",
       "      <td>51</td>\n",
       "      <td>0</td>\n",
       "    </tr>\n",
       "    <tr>\n",
       "      <th>8</th>\n",
       "      <td>290704</td>\n",
       "      <td>Female</td>\n",
       "      <td>45</td>\n",
       "      <td>1</td>\n",
       "      <td>28.0</td>\n",
       "      <td>0</td>\n",
       "      <td>1-2 Year</td>\n",
       "      <td>Yes</td>\n",
       "      <td>55873.0</td>\n",
       "      <td>124.0</td>\n",
       "      <td>262</td>\n",
       "      <td>0</td>\n",
       "    </tr>\n",
       "    <tr>\n",
       "      <th>9</th>\n",
       "      <td>344792</td>\n",
       "      <td>Male</td>\n",
       "      <td>42</td>\n",
       "      <td>1</td>\n",
       "      <td>28.0</td>\n",
       "      <td>0</td>\n",
       "      <td>1-2 Year</td>\n",
       "      <td>Yes</td>\n",
       "      <td>27801.0</td>\n",
       "      <td>122.0</td>\n",
       "      <td>217</td>\n",
       "      <td>1</td>\n",
       "    </tr>\n",
       "  </tbody>\n",
       "</table>\n",
       "</div>"
      ],
      "text/plain": [
       "       id  Gender  Age  Driving_License  Region_Code  Previously_Insured   \n",
       "0  167647    Male   22                1          7.0                   1  \\\n",
       "1   17163    Male   42                1         28.0                   0   \n",
       "2   32023  Female   66                1         33.0                   0   \n",
       "3   87447  Female   22                1         33.0                   0   \n",
       "4  501933    Male   28                1         46.0                   1   \n",
       "5  295775  Female   25                1         25.0                   1   \n",
       "6   71711    Male   51                1          8.0                   0   \n",
       "7  331781    Male   38                1         28.0                   1   \n",
       "8  290704  Female   45                1         28.0                   0   \n",
       "9  344792    Male   42                1         28.0                   0   \n",
       "\n",
       "  Vehicle_Age Vehicle_Damage  Annual_Premium  Policy_Sales_Channel  Vintage   \n",
       "0    < 1 Year             No          2630.0                 152.0       16  \\\n",
       "1    1-2 Year            Yes         43327.0                  26.0      135   \n",
       "2    1-2 Year            Yes         35841.0                 124.0      253   \n",
       "3    < 1 Year             No         27645.0                 152.0       69   \n",
       "4    < 1 Year             No         29023.0                 152.0      211   \n",
       "5    < 1 Year             No         27954.0                 152.0       23   \n",
       "6    1-2 Year            Yes          2630.0                  26.0      209   \n",
       "7    1-2 Year             No          2630.0                  26.0       51   \n",
       "8    1-2 Year            Yes         55873.0                 124.0      262   \n",
       "9    1-2 Year            Yes         27801.0                 122.0      217   \n",
       "\n",
       "   Response  \n",
       "0         0  \n",
       "1         0  \n",
       "2         0  \n",
       "3         0  \n",
       "4         0  \n",
       "5         0  \n",
       "6         0  \n",
       "7         0  \n",
       "8         0  \n",
       "9         1  "
      ]
     },
     "execution_count": 48,
     "metadata": {},
     "output_type": "execute_result"
    }
   ],
   "source": [
    "data.head(10)"
   ]
  },
  {
   "cell_type": "markdown",
   "metadata": {},
   "source": [
    "Basic Data Preprocessing"
   ]
  },
  {
   "cell_type": "code",
   "execution_count": 49,
   "metadata": {},
   "outputs": [
    {
     "data": {
      "text/plain": [
       "0"
      ]
     },
     "execution_count": 49,
     "metadata": {},
     "output_type": "execute_result"
    }
   ],
   "source": [
    "data.isnull().sum().sum() #checking for null values"
   ]
  },
  {
   "cell_type": "code",
   "execution_count": 50,
   "metadata": {},
   "outputs": [
    {
     "data": {
      "text/plain": [
       "id                        int64\n",
       "Gender                   object\n",
       "Age                       int64\n",
       "Driving_License           int64\n",
       "Region_Code             float64\n",
       "Previously_Insured        int64\n",
       "Vehicle_Age              object\n",
       "Vehicle_Damage           object\n",
       "Annual_Premium          float64\n",
       "Policy_Sales_Channel    float64\n",
       "Vintage                   int64\n",
       "Response                  int64\n",
       "dtype: object"
      ]
     },
     "execution_count": 50,
     "metadata": {},
     "output_type": "execute_result"
    }
   ],
   "source": [
    "data.dtypes #checking the data types of the various columns"
   ]
  },
  {
   "cell_type": "code",
   "execution_count": 51,
   "metadata": {},
   "outputs": [
    {
     "data": {
      "text/html": [
       "<div>\n",
       "<style scoped>\n",
       "    .dataframe tbody tr th:only-of-type {\n",
       "        vertical-align: middle;\n",
       "    }\n",
       "\n",
       "    .dataframe tbody tr th {\n",
       "        vertical-align: top;\n",
       "    }\n",
       "\n",
       "    .dataframe thead th {\n",
       "        text-align: right;\n",
       "    }\n",
       "</style>\n",
       "<table border=\"1\" class=\"dataframe\">\n",
       "  <thead>\n",
       "    <tr style=\"text-align: right;\">\n",
       "      <th></th>\n",
       "      <th>id</th>\n",
       "      <th>Age</th>\n",
       "      <th>Driving_License</th>\n",
       "      <th>Region_Code</th>\n",
       "      <th>Previously_Insured</th>\n",
       "      <th>Annual_Premium</th>\n",
       "      <th>Policy_Sales_Channel</th>\n",
       "      <th>Vintage</th>\n",
       "      <th>Response</th>\n",
       "    </tr>\n",
       "  </thead>\n",
       "  <tbody>\n",
       "    <tr>\n",
       "      <th>count</th>\n",
       "      <td>382154.000000</td>\n",
       "      <td>382154.000000</td>\n",
       "      <td>382154.000000</td>\n",
       "      <td>382154.000000</td>\n",
       "      <td>382154.000000</td>\n",
       "      <td>382154.000000</td>\n",
       "      <td>382154.000000</td>\n",
       "      <td>382154.000000</td>\n",
       "      <td>382154.000000</td>\n",
       "    </tr>\n",
       "    <tr>\n",
       "      <th>mean</th>\n",
       "      <td>234392.953477</td>\n",
       "      <td>38.545691</td>\n",
       "      <td>0.998108</td>\n",
       "      <td>26.406867</td>\n",
       "      <td>0.489182</td>\n",
       "      <td>30711.271362</td>\n",
       "      <td>111.939812</td>\n",
       "      <td>154.189429</td>\n",
       "      <td>0.163811</td>\n",
       "    </tr>\n",
       "    <tr>\n",
       "      <th>std</th>\n",
       "      <td>139527.487326</td>\n",
       "      <td>15.226897</td>\n",
       "      <td>0.043455</td>\n",
       "      <td>13.181241</td>\n",
       "      <td>0.499884</td>\n",
       "      <td>17061.595532</td>\n",
       "      <td>54.286511</td>\n",
       "      <td>83.735107</td>\n",
       "      <td>0.370104</td>\n",
       "    </tr>\n",
       "    <tr>\n",
       "      <th>min</th>\n",
       "      <td>1.000000</td>\n",
       "      <td>20.000000</td>\n",
       "      <td>0.000000</td>\n",
       "      <td>0.000000</td>\n",
       "      <td>0.000000</td>\n",
       "      <td>2630.000000</td>\n",
       "      <td>1.000000</td>\n",
       "      <td>10.000000</td>\n",
       "      <td>0.000000</td>\n",
       "    </tr>\n",
       "    <tr>\n",
       "      <th>25%</th>\n",
       "      <td>115006.250000</td>\n",
       "      <td>25.000000</td>\n",
       "      <td>1.000000</td>\n",
       "      <td>15.000000</td>\n",
       "      <td>0.000000</td>\n",
       "      <td>24546.000000</td>\n",
       "      <td>26.000000</td>\n",
       "      <td>81.000000</td>\n",
       "      <td>0.000000</td>\n",
       "    </tr>\n",
       "    <tr>\n",
       "      <th>50%</th>\n",
       "      <td>230461.500000</td>\n",
       "      <td>36.000000</td>\n",
       "      <td>1.000000</td>\n",
       "      <td>28.000000</td>\n",
       "      <td>0.000000</td>\n",
       "      <td>31692.000000</td>\n",
       "      <td>145.000000</td>\n",
       "      <td>154.000000</td>\n",
       "      <td>0.000000</td>\n",
       "    </tr>\n",
       "    <tr>\n",
       "      <th>75%</th>\n",
       "      <td>345434.750000</td>\n",
       "      <td>49.000000</td>\n",
       "      <td>1.000000</td>\n",
       "      <td>35.000000</td>\n",
       "      <td>1.000000</td>\n",
       "      <td>39447.750000</td>\n",
       "      <td>152.000000</td>\n",
       "      <td>227.000000</td>\n",
       "      <td>0.000000</td>\n",
       "    </tr>\n",
       "    <tr>\n",
       "      <th>max</th>\n",
       "      <td>508145.000000</td>\n",
       "      <td>85.000000</td>\n",
       "      <td>1.000000</td>\n",
       "      <td>52.000000</td>\n",
       "      <td>1.000000</td>\n",
       "      <td>540165.000000</td>\n",
       "      <td>163.000000</td>\n",
       "      <td>299.000000</td>\n",
       "      <td>1.000000</td>\n",
       "    </tr>\n",
       "  </tbody>\n",
       "</table>\n",
       "</div>"
      ],
      "text/plain": [
       "                  id            Age  Driving_License    Region_Code   \n",
       "count  382154.000000  382154.000000    382154.000000  382154.000000  \\\n",
       "mean   234392.953477      38.545691         0.998108      26.406867   \n",
       "std    139527.487326      15.226897         0.043455      13.181241   \n",
       "min         1.000000      20.000000         0.000000       0.000000   \n",
       "25%    115006.250000      25.000000         1.000000      15.000000   \n",
       "50%    230461.500000      36.000000         1.000000      28.000000   \n",
       "75%    345434.750000      49.000000         1.000000      35.000000   \n",
       "max    508145.000000      85.000000         1.000000      52.000000   \n",
       "\n",
       "       Previously_Insured  Annual_Premium  Policy_Sales_Channel   \n",
       "count       382154.000000   382154.000000         382154.000000  \\\n",
       "mean             0.489182    30711.271362            111.939812   \n",
       "std              0.499884    17061.595532             54.286511   \n",
       "min              0.000000     2630.000000              1.000000   \n",
       "25%              0.000000    24546.000000             26.000000   \n",
       "50%              0.000000    31692.000000            145.000000   \n",
       "75%              1.000000    39447.750000            152.000000   \n",
       "max              1.000000   540165.000000            163.000000   \n",
       "\n",
       "             Vintage       Response  \n",
       "count  382154.000000  382154.000000  \n",
       "mean      154.189429       0.163811  \n",
       "std        83.735107       0.370104  \n",
       "min        10.000000       0.000000  \n",
       "25%        81.000000       0.000000  \n",
       "50%       154.000000       0.000000  \n",
       "75%       227.000000       0.000000  \n",
       "max       299.000000       1.000000  "
      ]
     },
     "execution_count": 51,
     "metadata": {},
     "output_type": "execute_result"
    }
   ],
   "source": [
    "data.describe()"
   ]
  },
  {
   "cell_type": "code",
   "execution_count": 52,
   "metadata": {},
   "outputs": [
    {
     "data": {
      "text/plain": [
       "array(['Male', 'Female'], dtype=object)"
      ]
     },
     "execution_count": 52,
     "metadata": {},
     "output_type": "execute_result"
    }
   ],
   "source": [
    "data.Gender.unique()"
   ]
  },
  {
   "cell_type": "code",
   "execution_count": 53,
   "metadata": {},
   "outputs": [
    {
     "data": {
      "text/plain": [
       "array(['< 1 Year', '1-2 Year', '> 2 Years'], dtype=object)"
      ]
     },
     "execution_count": 53,
     "metadata": {},
     "output_type": "execute_result"
    }
   ],
   "source": [
    "data.Vehicle_Age.unique()"
   ]
  },
  {
   "cell_type": "code",
   "execution_count": 54,
   "metadata": {},
   "outputs": [
    {
     "data": {
      "text/plain": [
       "array(['No', 'Yes'], dtype=object)"
      ]
     },
     "execution_count": 54,
     "metadata": {},
     "output_type": "execute_result"
    }
   ],
   "source": [
    "data.Vehicle_Damage.unique()"
   ]
  },
  {
   "cell_type": "code",
   "execution_count": 55,
   "metadata": {},
   "outputs": [],
   "source": [
    "data = pd.get_dummies(data, ['Gender', 'Vehicle_Age', 'Vehicle_Damage']) #one-hot-encoding for Categorical Columns"
   ]
  },
  {
   "cell_type": "code",
   "execution_count": 56,
   "metadata": {},
   "outputs": [
    {
     "data": {
      "image/png": "[encoded data removed]",
      "text/plain": [
       "<Figure size 640x480 with 1 Axes>"
      ]
     },
     "metadata": {},
     "output_type": "display_data"
    }
   ],
   "source": [
    "class_division = [ data[data['Response'] == 1 ].shape[0], data[data['Response'] == 0 ].shape[0] ]\n",
    "my_labels = ['Minority Class', 'Majority Class']\n",
    "\n",
    "plt.pie(class_division, labels = my_labels)\n",
    "plt.show()"
   ]
  },
  {
   "cell_type": "code",
   "execution_count": 57,
   "metadata": {},
   "outputs": [
    {
     "name": "stdout",
     "output_type": "stream",
     "text": [
      "Proportion of Minority Class: 16.38%\n"
     ]
    }
   ],
   "source": [
    "print(\"Proportion of Minority Class: \" + str(round(data[data['Response'] == 1 ].shape[0]/data.shape[0] * 100, 2)) + \"%\")"
   ]
  },
  {
   "cell_type": "code",
   "execution_count": 58,
   "metadata": {},
   "outputs": [],
   "source": [
    "from sklearn.model_selection import train_test_split #splitting the data into train and test\n",
    "\n",
    "X = data.drop(columns= ['id', 'Response']) #Columns to be excluded from training set\n",
    "y = data['Response'] #defining the Response as y\n",
    "\n",
    "X.columns = ['Age', 'Driving_License', 'Region_Code', 'Previously_Insured',\n",
    "       'Annual_Premium', 'Policy_Sales_Channel', 'Vintage', 'Gender_Female',\n",
    "       'Gender_Male', 'Vehicle_Age_1_2_Year', 'Vehicle_Age_lessthan_1_Year',\n",
    "       'Vehicle_Age_greaterthan_2_Years', 'Vehicle_Damage_No', 'Vehicle_Damage_Yes']\n",
    "\n",
    "X_train, X_test, y_train, y_test = train_test_split(X, y, test_size=0.3, random_state=42, stratify=y)\n",
    "\n",
    "# splitting the data into train and test. Note that here, we have used stratify = y, so that the class imbalances are properly \n",
    "# replicated in our train and test dataset. The data is split in a 70-30 ratio of train:test."
   ]
  },
  {
   "cell_type": "code",
   "execution_count": 59,
   "metadata": {},
   "outputs": [
    {
     "name": "stdout",
     "output_type": "stream",
     "text": [
      "Proportion of Minority Class in train set: 16.38%\n",
      "Proportion of Minority Class in test set: 16.38%\n"
     ]
    }
   ],
   "source": [
    "print(\"Proportion of Minority Class in train set: \" + str(round(y_train.sum()/len(y_train) * 100, 2)) + \"%\")\n",
    "print(\"Proportion of Minority Class in test set: \" + str(round(y_test.sum()/len(y_test) * 100, 2)) + \"%\")"
   ]
  },
  {
   "cell_type": "markdown",
   "metadata": {},
   "source": [
    "# Building a Basic XGBoost Model"
   ]
  },
  {
   "cell_type": "code",
   "execution_count": 60,
   "metadata": {},
   "outputs": [
    {
     "data": {
      "text/html": [
       "<style>#sk-container-id-2 {color: black;background-color: white;}#sk-container-id-2 pre{padding: 0;}#sk-container-id-2 div.sk-toggleable {background-color: white;}#sk-container-id-2 label.sk-toggleable__label {cursor: pointer;display: block;width: 100%;margin-bottom: 0;padding: 0.3em;box-sizing: border-box;text-align: center;}#sk-container-id-2 label.sk-toggleable__label-arrow:before {content: \"▸\";float: left;margin-right: 0.25em;color: #696969;}#sk-container-id-2 label.sk-toggleable__label-arrow:hover:before {color: black;}#sk-container-id-2 div.sk-estimator:hover label.sk-toggleable__label-arrow:before {color: black;}#sk-container-id-2 div.sk-toggleable__content {max-height: 0;max-width: 0;overflow: hidden;text-align: left;background-color: #f0f8ff;}#sk-container-id-2 div.sk-toggleable__content pre {margin: 0.2em;color: black;border-radius: 0.25em;background-color: #f0f8ff;}#sk-container-id-2 input.sk-toggleable__control:checked~div.sk-toggleable__content {max-height: 200px;max-width: 100%;overflow: auto;}#sk-container-id-2 input.sk-toggleable__control:checked~label.sk-toggleable__label-arrow:before {content: \"▾\";}#sk-container-id-2 div.sk-estimator input.sk-toggleable__control:checked~label.sk-toggleable__label {background-color: #d4ebff;}#sk-container-id-2 div.sk-label input.sk-toggleable__control:checked~label.sk-toggleable__label {background-color: #d4ebff;}#sk-container-id-2 input.sk-hidden--visually {border: 0;clip: rect(1px 1px 1px 1px);clip: rect(1px, 1px, 1px, 1px);height: 1px;margin: -1px;overflow: hidden;padding: 0;position: absolute;width: 1px;}#sk-container-id-2 div.sk-estimator {font-family: monospace;background-color: #f0f8ff;border: 1px dotted black;border-radius: 0.25em;box-sizing: border-box;margin-bottom: 0.5em;}#sk-container-id-2 div.sk-estimator:hover {background-color: #d4ebff;}#sk-container-id-2 div.sk-parallel-item::after {content: \"\";width: 100%;border-bottom: 1px solid gray;flex-grow: 1;}#sk-container-id-2 div.sk-label:hover label.sk-toggleable__label {background-color: #d4ebff;}#sk-container-id-2 div.sk-serial::before {content: \"\";position: absolute;border-left: 1px solid gray;box-sizing: border-box;top: 0;bottom: 0;left: 50%;z-index: 0;}#sk-container-id-2 div.sk-serial {display: flex;flex-direction: column;align-items: center;background-color: white;padding-right: 0.2em;padding-left: 0.2em;position: relative;}#sk-container-id-2 div.sk-item {position: relative;z-index: 1;}#sk-container-id-2 div.sk-parallel {display: flex;align-items: stretch;justify-content: center;background-color: white;position: relative;}#sk-container-id-2 div.sk-item::before, #sk-container-id-2 div.sk-parallel-item::before {content: \"\";position: absolute;border-left: 1px solid gray;box-sizing: border-box;top: 0;bottom: 0;left: 50%;z-index: -1;}#sk-container-id-2 div.sk-parallel-item {display: flex;flex-direction: column;z-index: 1;position: relative;background-color: white;}#sk-container-id-2 div.sk-parallel-item:first-child::after {align-self: flex-end;width: 50%;}#sk-container-id-2 div.sk-parallel-item:last-child::after {align-self: flex-start;width: 50%;}#sk-container-id-2 div.sk-parallel-item:only-child::after {width: 0;}#sk-container-id-2 div.sk-dashed-wrapped {border: 1px dashed gray;margin: 0 0.4em 0.5em 0.4em;box-sizing: border-box;padding-bottom: 0.4em;background-color: white;}#sk-container-id-2 div.sk-label label {font-family: monospace;font-weight: bold;display: inline-block;line-height: 1.2em;}#sk-container-id-2 div.sk-label-container {text-align: center;}#sk-container-id-2 div.sk-container {/* jupyter's `normalize.less` sets `[hidden] { display: none; }` but bootstrap.min.css set `[hidden] { display: none !important; }` so we also need the `!important` here to be able to override the default hidden behavior on the sphinx rendered scikit-learn.org. See: https://github.com/scikit-learn/scikit-learn/issues/21755 */display: inline-block !important;position: relative;}#sk-container-id-2 div.sk-text-repr-fallback {display: none;}</style><div id=\"sk-container-id-2\" class=\"sk-top-container\"><div class=\"sk-text-repr-fallback\"><pre>XGBClassifier(base_score=None, booster=None, callbacks=None,\n",
       "              colsample_bylevel=None, colsample_bynode=None,\n",
       "              colsample_bytree=None, device=None, early_stopping_rounds=None,\n",
       "              enable_categorical=False, eval_metric=None, feature_types=None,\n",
       "              gamma=None, grow_policy=None, importance_type=None,\n",
       "              interaction_constraints=None, learning_rate=None, max_bin=None,\n",
       "              max_cat_threshold=None, max_cat_to_onehot=None,\n",
       "              max_delta_step=None, max_depth=None, max_leaves=None,\n",
       "              min_child_weight=None, missing=nan, monotone_constraints=None,\n",
       "              multi_strategy=None, n_estimators=None, n_jobs=None,\n",
       "              num_parallel_tree=None, random_state=None, ...)</pre><b>In a Jupyter environment, please rerun this cell to show the HTML representation or trust the notebook. <br />On GitHub, the HTML representation is unable to render, please try loading this page with nbviewer.org.</b></div><div class=\"sk-container\" hidden><div class=\"sk-item\"><div class=\"sk-estimator sk-toggleable\"><input class=\"sk-toggleable__control sk-hidden--visually\" id=\"sk-estimator-id-2\" type=\"checkbox\" checked><label for=\"sk-estimator-id-2\" class=\"sk-toggleable__label sk-toggleable__label-arrow\">XGBClassifier</label><div class=\"sk-toggleable__content\"><pre>XGBClassifier(base_score=None, booster=None, callbacks=None,\n",
       "              colsample_bylevel=None, colsample_bynode=None,\n",
       "              colsample_bytree=None, device=None, early_stopping_rounds=None,\n",
       "              enable_categorical=False, eval_metric=None, feature_types=None,\n",
       "              gamma=None, grow_policy=None, importance_type=None,\n",
       "              interaction_constraints=None, learning_rate=None, max_bin=None,\n",
       "              max_cat_threshold=None, max_cat_to_onehot=None,\n",
       "              max_delta_step=None, max_depth=None, max_leaves=None,\n",
       "              min_child_weight=None, missing=nan, monotone_constraints=None,\n",
       "              multi_strategy=None, n_estimators=None, n_jobs=None,\n",
       "              num_parallel_tree=None, random_state=None, ...)</pre></div></div></div></div></div>"
      ],
      "text/plain": [
       "XGBClassifier(base_score=None, booster=None, callbacks=None,\n",
       "              colsample_bylevel=None, colsample_bynode=None,\n",
       "              colsample_bytree=None, device=None, early_stopping_rounds=None,\n",
       "              enable_categorical=False, eval_metric=None, feature_types=None,\n",
       "              gamma=None, grow_policy=None, importance_type=None,\n",
       "              interaction_constraints=None, learning_rate=None, max_bin=None,\n",
       "              max_cat_threshold=None, max_cat_to_onehot=None,\n",
       "              max_delta_step=None, max_depth=None, max_leaves=None,\n",
       "              min_child_weight=None, missing=nan, monotone_constraints=None,\n",
       "              multi_strategy=None, n_estimators=None, n_jobs=None,\n",
       "              num_parallel_tree=None, random_state=None, ...)"
      ]
     },
     "execution_count": 60,
     "metadata": {},
     "output_type": "execute_result"
    }
   ],
   "source": [
    "xgb_classifier = xgb.XGBClassifier()\n",
    "xgb_classifier.fit(X_train,y_train)"
   ]
  },
  {
   "cell_type": "code",
   "execution_count": 61,
   "metadata": {},
   "outputs": [],
   "source": [
    "test = xgb_classifier.predict(X_test)"
   ]
  },
  {
   "cell_type": "code",
   "execution_count": 62,
   "metadata": {},
   "outputs": [
    {
     "name": "stdout",
     "output_type": "stream",
     "text": [
      "Accuracy of Test Set: 84.53 %\n"
     ]
    }
   ],
   "source": [
    "print(\"Accuracy of Test Set:\", round(accuracy_score(y_test,test) * 100, 2 ), \"%\")"
   ]
  },
  {
   "cell_type": "code",
   "execution_count": 63,
   "metadata": {},
   "outputs": [
    {
     "data": {
      "image/png": "[encoded data removed]",
      "text/plain": [
       "<Figure size 700x700 with 1 Axes>"
      ]
     },
     "metadata": {},
     "output_type": "display_data"
    }
   ],
   "source": [
    "conf_matrix = confusion_matrix(y_true=y_test, y_pred=test)\n",
    "\n",
    "fig, ax = plt.subplots(figsize=(7, 7))\n",
    "ax.matshow(conf_matrix, cmap=plt.cm.Accent, alpha=0.4)\n",
    "for i in range(conf_matrix.shape[0]):\n",
    "    for j in range(conf_matrix.shape[1]):\n",
    "        ax.text(x=j, y=i,s=conf_matrix[i, j], va='center', ha='center', size='x-large')\n",
    " \n",
    "plt.xlabel('Predictions', fontsize=10)\n",
    "plt.ylabel('Actuals', fontsize=10)\n",
    "plt.title('Confusion Matrix', fontsize=15)\n",
    "plt.show()"
   ]
  },
  {
   "cell_type": "code",
   "execution_count": 64,
   "metadata": {},
   "outputs": [
    {
     "data": {
      "text/html": [
       "<div>\n",
       "<style scoped>\n",
       "    .dataframe tbody tr th:only-of-type {\n",
       "        vertical-align: middle;\n",
       "    }\n",
       "\n",
       "    .dataframe tbody tr th {\n",
       "        vertical-align: top;\n",
       "    }\n",
       "\n",
       "    .dataframe thead th {\n",
       "        text-align: right;\n",
       "    }\n",
       "</style>\n",
       "<table border=\"1\" class=\"dataframe\">\n",
       "  <thead>\n",
       "    <tr style=\"text-align: right;\">\n",
       "      <th></th>\n",
       "      <th>Original Dataset</th>\n",
       "      <th>Comments</th>\n",
       "    </tr>\n",
       "  </thead>\n",
       "  <tbody>\n",
       "    <tr>\n",
       "      <th>Precision</th>\n",
       "      <td>0.5361</td>\n",
       "      <td>Only 54% of the customers targetted are actually interested in renewing their insurance</td>\n",
       "    </tr>\n",
       "    <tr>\n",
       "      <th>Recall</th>\n",
       "      <td>0.4116</td>\n",
       "      <td>Only 41% of the potentially interested customers are being identified</td>\n",
       "    </tr>\n",
       "    <tr>\n",
       "      <th>F1_score</th>\n",
       "      <td>0.4657</td>\n",
       "      <td></td>\n",
       "    </tr>\n",
       "  </tbody>\n",
       "</table>\n",
       "</div>"
      ],
      "text/plain": [
       "           Original Dataset   \n",
       "Precision            0.5361  \\\n",
       "Recall               0.4116   \n",
       "F1_score             0.4657   \n",
       "\n",
       "                                                                                          Comments  \n",
       "Precision  Only 54% of the customers targetted are actually interested in renewing their insurance  \n",
       "Recall                       Only 41% of the potentially interested customers are being identified  \n",
       "F1_score                                                                                            "
      ]
     },
     "execution_count": 64,
     "metadata": {},
     "output_type": "execute_result"
    }
   ],
   "source": [
    "precision_original =  round(precision_score(y_test, test), 4)\n",
    "recall_original = round(recall_score(y_test, test), 4)\n",
    "F1_score_original =  round(f1_score(y_test, test), 4)\n",
    "metrics_original = [precision_original, recall_original, F1_score_original]\n",
    "\n",
    "original = pd.DataFrame(metrics_original)\n",
    "original.index = ['Precision', 'Recall', 'F1_score']\n",
    "original.columns = ['Original Dataset']\n",
    "original['Comments'] = ['Only 54% of the customers targetted are actually interested in renewing their insurance',\n",
    "                       'Only 41% of the potentially interested customers are being identified',\n",
    "                       '']\n",
    "original"
   ]
  },
  {
   "cell_type": "markdown",
   "metadata": {},
   "source": [
    "# Changing the threshold"
   ]
  },
  {
   "cell_type": "code",
   "execution_count": 65,
   "metadata": {},
   "outputs": [
    {
     "data": {
      "text/html": [
       "<div>\n",
       "<style scoped>\n",
       "    .dataframe tbody tr th:only-of-type {\n",
       "        vertical-align: middle;\n",
       "    }\n",
       "\n",
       "    .dataframe tbody tr th {\n",
       "        vertical-align: top;\n",
       "    }\n",
       "\n",
       "    .dataframe thead th {\n",
       "        text-align: right;\n",
       "    }\n",
       "</style>\n",
       "<table border=\"1\" class=\"dataframe\">\n",
       "  <thead>\n",
       "    <tr style=\"text-align: right;\">\n",
       "      <th>Metrics</th>\n",
       "      <th>Precision</th>\n",
       "      <th>Recall</th>\n",
       "      <th>F1_score</th>\n",
       "    </tr>\n",
       "  </thead>\n",
       "  <tbody>\n",
       "    <tr>\n",
       "      <th>Original</th>\n",
       "      <td>0.5361</td>\n",
       "      <td>0.4116</td>\n",
       "      <td>0.4657</td>\n",
       "    </tr>\n",
       "    <tr>\n",
       "      <th>Threshold: 0.05</th>\n",
       "      <td>0.3576</td>\n",
       "      <td>0.986</td>\n",
       "      <td>0.5249</td>\n",
       "    </tr>\n",
       "    <tr>\n",
       "      <th>Threshold: 0.1</th>\n",
       "      <td>0.3887</td>\n",
       "      <td>0.9612</td>\n",
       "      <td>0.5535</td>\n",
       "    </tr>\n",
       "    <tr>\n",
       "      <th>Threshold: 0.15</th>\n",
       "      <td>0.4172</td>\n",
       "      <td>0.926</td>\n",
       "      <td>0.5753</td>\n",
       "    </tr>\n",
       "    <tr>\n",
       "      <th>Threshold: 0.2</th>\n",
       "      <td>0.4435</td>\n",
       "      <td>0.8873</td>\n",
       "      <td>0.5914</td>\n",
       "    </tr>\n",
       "    <tr>\n",
       "      <th>Threshold: 0.25</th>\n",
       "      <td>0.4653</td>\n",
       "      <td>0.8509</td>\n",
       "      <td>0.6016</td>\n",
       "    </tr>\n",
       "    <tr>\n",
       "      <th>Threshold: 0.3</th>\n",
       "      <td>0.4835</td>\n",
       "      <td>0.8113</td>\n",
       "      <td>0.6059</td>\n",
       "    </tr>\n",
       "    <tr>\n",
       "      <th>Threshold: 0.35</th>\n",
       "      <td>0.4983</td>\n",
       "      <td>0.7674</td>\n",
       "      <td>0.6043</td>\n",
       "    </tr>\n",
       "    <tr>\n",
       "      <th>Threshold: 0.4</th>\n",
       "      <td>0.5102</td>\n",
       "      <td>0.7064</td>\n",
       "      <td>0.5925</td>\n",
       "    </tr>\n",
       "    <tr>\n",
       "      <th>Threshold: 0.45</th>\n",
       "      <td>0.5225</td>\n",
       "      <td>0.5911</td>\n",
       "      <td>0.5547</td>\n",
       "    </tr>\n",
       "    <tr>\n",
       "      <th>Threshold: 0.5</th>\n",
       "      <td>0.5361</td>\n",
       "      <td>0.4116</td>\n",
       "      <td>0.4657</td>\n",
       "    </tr>\n",
       "    <tr>\n",
       "      <th>Threshold: 0.55</th>\n",
       "      <td>0.563</td>\n",
       "      <td>0.2207</td>\n",
       "      <td>0.3171</td>\n",
       "    </tr>\n",
       "    <tr>\n",
       "      <th>Threshold: 0.6</th>\n",
       "      <td>0.5717</td>\n",
       "      <td>0.0868</td>\n",
       "      <td>0.1507</td>\n",
       "    </tr>\n",
       "    <tr>\n",
       "      <th>Threshold: 0.65</th>\n",
       "      <td>0.6049</td>\n",
       "      <td>0.0278</td>\n",
       "      <td>0.0531</td>\n",
       "    </tr>\n",
       "    <tr>\n",
       "      <th>Threshold: 0.7</th>\n",
       "      <td>0.5933</td>\n",
       "      <td>0.0066</td>\n",
       "      <td>0.0131</td>\n",
       "    </tr>\n",
       "    <tr>\n",
       "      <th>Threshold: 0.75</th>\n",
       "      <td>0.5741</td>\n",
       "      <td>0.0017</td>\n",
       "      <td>0.0033</td>\n",
       "    </tr>\n",
       "  </tbody>\n",
       "</table>\n",
       "</div>"
      ],
      "text/plain": [
       "Metrics         Precision  Recall F1_score\n",
       "Original           0.5361  0.4116   0.4657\n",
       "Threshold: 0.05    0.3576   0.986   0.5249\n",
       "Threshold: 0.1     0.3887  0.9612   0.5535\n",
       "Threshold: 0.15    0.4172   0.926   0.5753\n",
       "Threshold: 0.2     0.4435  0.8873   0.5914\n",
       "Threshold: 0.25    0.4653  0.8509   0.6016\n",
       "Threshold: 0.3     0.4835  0.8113   0.6059\n",
       "Threshold: 0.35    0.4983  0.7674   0.6043\n",
       "Threshold: 0.4     0.5102  0.7064   0.5925\n",
       "Threshold: 0.45    0.5225  0.5911   0.5547\n",
       "Threshold: 0.5     0.5361  0.4116   0.4657\n",
       "Threshold: 0.55     0.563  0.2207   0.3171\n",
       "Threshold: 0.6     0.5717  0.0868   0.1507\n",
       "Threshold: 0.65    0.6049  0.0278   0.0531\n",
       "Threshold: 0.7     0.5933  0.0066   0.0131\n",
       "Threshold: 0.75    0.5741  0.0017   0.0033"
      ]
     },
     "execution_count": 65,
     "metadata": {},
     "output_type": "execute_result"
    }
   ],
   "source": [
    "cols = ['Metrics', 'Original']\n",
    "adj_threshold = pd.DataFrame()\n",
    "adj_threshold['Original'] = metrics_original\n",
    "thresholds = [ j/20 for j in range(1,16)]\n",
    "\n",
    "for i in thresholds:\n",
    "    y_pred_new_threshold = (xgb_classifier.predict_proba(X_test)[:,1]>=i).astype(int) #calculating the threshold with respect to class 1\n",
    "\n",
    "    precision_adj_threshold =  round(precision_score(y_test, y_pred_new_threshold, average='binary'), 4)\n",
    "    recall_adj_threshold = round(recall_score(y_test, y_pred_new_threshold, average='binary'), 4)\n",
    "    F1_score_adj_threshold =  round((f1_score(y_test, y_pred_new_threshold, average='binary')), 4)\n",
    "    metrics_adj_threshold = [precision_adj_threshold, recall_adj_threshold, F1_score_adj_threshold]\n",
    "    name = 'Threshold: ' + str(i) \n",
    "    adj_threshold[name] = metrics_adj_threshold\n",
    "    cols.append(name)\n",
    "\n",
    "\n",
    "adj_threshold.index = ['Precision', 'Recall', 'F1_score']\n",
    "adj_threshold = adj_threshold.reset_index()\n",
    "adj_threshold.columns = cols\n",
    "adj_threshold.transpose()\n",
    "\n",
    "adj_threshold1 = adj_threshold.transpose().iloc[1:, :]\n",
    "adj_threshold1.columns = adj_threshold.iloc[:,0]\n",
    "adj_threshold1"
   ]
  },
  {
   "cell_type": "code",
   "execution_count": 66,
   "metadata": {},
   "outputs": [
    {
     "data": {
      "text/plain": [
       "<matplotlib.legend.Legend at 0x7f3ba0117520>"
      ]
     },
     "execution_count": 66,
     "metadata": {},
     "output_type": "execute_result"
    },
    {
     "data": {
      "image/png": "[encoded data removed]",
      "text/plain": [
       "<Figure size 1500x500 with 1 Axes>"
      ]
     },
     "metadata": {},
     "output_type": "display_data"
    }
   ],
   "source": [
    "adj_threshold.plot(x='Metrics',\n",
    "        kind='bar',\n",
    "        stacked=False,\n",
    "        title='Metrics across Varying Thresholds',\n",
    "        figsize=(15, 5),\n",
    "        cmap = 'twilight').legend(loc='center left',bbox_to_anchor=(1.0, 0.5))"
   ]
  },
  {
   "cell_type": "markdown",
   "metadata": {},
   "source": [
    "## New Classifier with Optimal Threshold"
   ]
  },
  {
   "cell_type": "code",
   "execution_count": 67,
   "metadata": {},
   "outputs": [
    {
     "data": {
      "image/png": "[encoded data removed]",
      "text/plain": [
       "<Figure size 700x700 with 1 Axes>"
      ]
     },
     "metadata": {},
     "output_type": "display_data"
    }
   ],
   "source": [
    "y_pred_new_threshold = (xgb_classifier.predict_proba(X_test)[:,1]>=0.3).astype(int)\n",
    "\n",
    "conf_matrix = confusion_matrix(y_true=y_test, y_pred=y_pred_new_threshold)\n",
    "\n",
    "fig, ax = plt.subplots(figsize=(7, 7))\n",
    "ax.matshow(conf_matrix, cmap=plt.cm.Accent, alpha=0.4)\n",
    "for i in range(conf_matrix.shape[0]):\n",
    "    for j in range(conf_matrix.shape[1]):\n",
    "        ax.text(x=j, y=i,s=conf_matrix[i, j], va='center', ha='center', size='x-large')\n",
    " \n",
    "plt.xlabel('Predictions', fontsize=10)\n",
    "plt.ylabel('Actuals', fontsize=10)\n",
    "plt.title('Confusion Matrix', fontsize=15)\n",
    "plt.show()"
   ]
  },
  {
   "cell_type": "code",
   "execution_count": 68,
   "metadata": {},
   "outputs": [
    {
     "data": {
      "text/html": [
       "<div>\n",
       "<style scoped>\n",
       "    .dataframe tbody tr th:only-of-type {\n",
       "        vertical-align: middle;\n",
       "    }\n",
       "\n",
       "    .dataframe tbody tr th {\n",
       "        vertical-align: top;\n",
       "    }\n",
       "\n",
       "    .dataframe thead th {\n",
       "        text-align: right;\n",
       "    }\n",
       "</style>\n",
       "<table border=\"1\" class=\"dataframe\">\n",
       "  <thead>\n",
       "    <tr style=\"text-align: right;\">\n",
       "      <th></th>\n",
       "      <th>Original Dataset</th>\n",
       "      <th>Threshold Changed Dataset</th>\n",
       "    </tr>\n",
       "  </thead>\n",
       "  <tbody>\n",
       "    <tr>\n",
       "      <th>Precision</th>\n",
       "      <td>0.5361</td>\n",
       "      <td>0.4835</td>\n",
       "    </tr>\n",
       "    <tr>\n",
       "      <th>Recall</th>\n",
       "      <td>0.4116</td>\n",
       "      <td>0.8113</td>\n",
       "    </tr>\n",
       "    <tr>\n",
       "      <th>F1_score</th>\n",
       "      <td>0.4657</td>\n",
       "      <td>0.6059</td>\n",
       "    </tr>\n",
       "  </tbody>\n",
       "</table>\n",
       "</div>"
      ],
      "text/plain": [
       "           Original Dataset  Threshold Changed Dataset\n",
       "Precision            0.5361                     0.4835\n",
       "Recall               0.4116                     0.8113\n",
       "F1_score             0.4657                     0.6059"
      ]
     },
     "execution_count": 68,
     "metadata": {},
     "output_type": "execute_result"
    }
   ],
   "source": [
    "precision_changedthreshold =  round(precision_score(y_test, y_pred_new_threshold), 4)\n",
    "recall_changedthreshold = round(recall_score(y_test, y_pred_new_threshold), 4)\n",
    "F1_changedthreshold =  round(f1_score(y_test, y_pred_new_threshold), 4)\n",
    "metrics_changedthreshold = [precision_changedthreshold, recall_changedthreshold, F1_changedthreshold]\n",
    "\n",
    "changedthreshold = pd.DataFrame(list(zip(metrics_original, metrics_changedthreshold)))\n",
    "changedthreshold.index = ['Precision', 'Recall', 'F1_score']\n",
    "changedthreshold.columns = ['Original Dataset', 'Threshold Changed Dataset']\n",
    "changedthreshold"
   ]
  },
  {
   "cell_type": "markdown",
   "metadata": {},
   "source": [
    "# Oversampling"
   ]
  },
  {
   "cell_type": "code",
   "execution_count": 69,
   "metadata": {},
   "outputs": [],
   "source": [
    "#Oversampling\n",
    "train_data=pd.concat([X_train,y_train],axis=1)\n",
    "\n",
    "Response_Zero=train_data[train_data.Response==0]\n",
    "Response_One=train_data[train_data.Response==1]\n",
    "\n",
    "upsampled_One = resample(Response_One,\n",
    "                          replace=True, # sample with replacement\n",
    "                          n_samples=len(Response_Zero), # match number in majority class\n",
    "                          random_state=27) # reproducible results\n",
    "\n",
    "# combine majority and upsampled minority\n",
    "upsampled = pd.concat([Response_Zero, upsampled_One])"
   ]
  },
  {
   "cell_type": "code",
   "execution_count": 70,
   "metadata": {},
   "outputs": [
    {
     "data": {
      "text/plain": [
       "Response\n",
       "0    223686\n",
       "1     43821\n",
       "Name: count, dtype: int64"
      ]
     },
     "execution_count": 70,
     "metadata": {},
     "output_type": "execute_result"
    }
   ],
   "source": [
    "#Distribution of data in the train set before over-sampling\n",
    "y_train.value_counts()"
   ]
  },
  {
   "cell_type": "code",
   "execution_count": 71,
   "metadata": {},
   "outputs": [
    {
     "data": {
      "text/plain": [
       "Response\n",
       "0    223686\n",
       "1    223686\n",
       "Name: count, dtype: int64"
      ]
     },
     "execution_count": 71,
     "metadata": {},
     "output_type": "execute_result"
    }
   ],
   "source": [
    "#Distribution of data in the train set after over-sampling\n",
    "upsampled['Response'].value_counts()"
   ]
  },
  {
   "cell_type": "code",
   "execution_count": 72,
   "metadata": {},
   "outputs": [],
   "source": [
    "#Training the model on up-sampled data\n",
    "X_train_upsampled = upsampled.drop(columns = ['Response'])\n",
    "y_train_upsampled = upsampled['Response']\n",
    "\n",
    "xgb_upsampled = xgb.XGBClassifier()\n",
    "\n",
    "xgb_upsampled.fit(X_train_upsampled,y_train_upsampled)\n",
    "\n",
    "train_upsampled = xgb_upsampled.predict(X_train_upsampled)\n",
    "test_upsampled = xgb_upsampled.predict(X_test)"
   ]
  },
  {
   "cell_type": "code",
   "execution_count": 73,
   "metadata": {},
   "outputs": [
    {
     "data": {
      "image/png": "[encoded data removed]",
      "text/plain": [
       "<Figure size 500x500 with 1 Axes>"
      ]
     },
     "metadata": {},
     "output_type": "display_data"
    }
   ],
   "source": [
    "#Confusion matrix on the test set\n",
    "conf_matrix = confusion_matrix(y_true=y_test, y_pred=test_upsampled)\n",
    "\n",
    "fig, ax = plt.subplots(figsize=(5, 5))\n",
    "ax.matshow(conf_matrix, cmap=plt.cm.Oranges, alpha=0.3)\n",
    "for i in range(conf_matrix.shape[0]):\n",
    "    for j in range(conf_matrix.shape[1]):\n",
    "        ax.text(x=j, y=i,s=conf_matrix[i, j], va='center', ha='center', size='xx-large')\n",
    " \n",
    "plt.xlabel('Predictions', fontsize=18)\n",
    "plt.ylabel('Actuals', fontsize=18)\n",
    "plt.title('Confusion Matrix', fontsize=18)\n",
    "plt.show()"
   ]
  },
  {
   "cell_type": "code",
   "execution_count": 74,
   "metadata": {},
   "outputs": [
    {
     "data": {
      "text/html": [
       "<div>\n",
       "<style scoped>\n",
       "    .dataframe tbody tr th:only-of-type {\n",
       "        vertical-align: middle;\n",
       "    }\n",
       "\n",
       "    .dataframe tbody tr th {\n",
       "        vertical-align: top;\n",
       "    }\n",
       "\n",
       "    .dataframe thead th {\n",
       "        text-align: right;\n",
       "    }\n",
       "</style>\n",
       "<table border=\"1\" class=\"dataframe\">\n",
       "  <thead>\n",
       "    <tr style=\"text-align: right;\">\n",
       "      <th></th>\n",
       "      <th>Original Dataset</th>\n",
       "      <th>Threshold = 0.3</th>\n",
       "      <th>Upsampled Dataset</th>\n",
       "    </tr>\n",
       "  </thead>\n",
       "  <tbody>\n",
       "    <tr>\n",
       "      <th>Precision</th>\n",
       "      <td>0.5361</td>\n",
       "      <td>0.4835</td>\n",
       "      <td>0.4303</td>\n",
       "    </tr>\n",
       "    <tr>\n",
       "      <th>Recall</th>\n",
       "      <td>0.4116</td>\n",
       "      <td>0.8113</td>\n",
       "      <td>0.9048</td>\n",
       "    </tr>\n",
       "    <tr>\n",
       "      <th>F1_score</th>\n",
       "      <td>0.4657</td>\n",
       "      <td>0.6059</td>\n",
       "      <td>0.5832</td>\n",
       "    </tr>\n",
       "  </tbody>\n",
       "</table>\n",
       "</div>"
      ],
      "text/plain": [
       "           Original Dataset  Threshold = 0.3  Upsampled Dataset\n",
       "Precision            0.5361           0.4835             0.4303\n",
       "Recall               0.4116           0.8113             0.9048\n",
       "F1_score             0.4657           0.6059             0.5832"
      ]
     },
     "execution_count": 74,
     "metadata": {},
     "output_type": "execute_result"
    }
   ],
   "source": [
    "#New efficacy metrics\n",
    "precision_upsampled =  round(precision_score(y_test, test_upsampled), 4)\n",
    "recall_upsampled = round(recall_score(y_test, test_upsampled), 4)\n",
    "F1_upsampled =  round(f1_score(y_test, test_upsampled), 4)\n",
    "metrics_upsampled = [precision_upsampled, recall_upsampled, F1_upsampled]\n",
    "\n",
    "upsampled = pd.DataFrame(list(zip(metrics_original, metrics_changedthreshold, metrics_upsampled)))\n",
    "upsampled.index = ['Precision', 'Recall', 'F1_score']\n",
    "upsampled.columns = ['Original Dataset', 'Threshold = 0.3', 'Upsampled Dataset']\n",
    "upsampled"
   ]
  },
  {
   "cell_type": "markdown",
   "metadata": {},
   "source": [
    "# Undersampling"
   ]
  },
  {
   "cell_type": "code",
   "execution_count": 75,
   "metadata": {},
   "outputs": [],
   "source": [
    "#down-sampling\n",
    "downsampled_Zero = resample(Response_Zero,\n",
    "                                replace = False, # sample without replacement\n",
    "                                n_samples = len(Response_One), # match minority n\n",
    "                                random_state = 27) # reproducible results\n",
    "\n",
    "#combine minority and downsampled majority\n",
    "downsampled = pd.concat([downsampled_Zero, Response_One])"
   ]
  },
  {
   "cell_type": "code",
   "execution_count": 76,
   "metadata": {},
   "outputs": [
    {
     "data": {
      "text/plain": [
       "Response\n",
       "0    223686\n",
       "1     43821\n",
       "Name: count, dtype: int64"
      ]
     },
     "execution_count": 76,
     "metadata": {},
     "output_type": "execute_result"
    }
   ],
   "source": [
    "#Distribution of majority and minority classes \n",
    "y_train.value_counts()"
   ]
  },
  {
   "cell_type": "code",
   "execution_count": 77,
   "metadata": {},
   "outputs": [
    {
     "data": {
      "text/plain": [
       "Response\n",
       "0    43821\n",
       "1    43821\n",
       "Name: count, dtype: int64"
      ]
     },
     "execution_count": 77,
     "metadata": {},
     "output_type": "execute_result"
    }
   ],
   "source": [
    "#Distribution of both the classes after down-sampling\n",
    "downsampled['Response'].value_counts()"
   ]
  },
  {
   "cell_type": "code",
   "execution_count": 78,
   "metadata": {},
   "outputs": [],
   "source": [
    "#Training the model on down-sampled data and testing on the original test dataset\n",
    "X_train_downsampled = downsampled.drop(columns = ['Response'])\n",
    "y_train_downsampled = downsampled['Response']\n",
    "\n",
    "xgb_downsampled = xgb.XGBClassifier()\n",
    "\n",
    "xgb_downsampled.fit(X_train_downsampled,y_train_downsampled)\n",
    "\n",
    "train_downsampled = xgb_downsampled.predict(X_train_downsampled)\n",
    "test_downsampled = xgb_downsampled.predict(X_test)"
   ]
  },
  {
   "cell_type": "code",
   "execution_count": 79,
   "metadata": {},
   "outputs": [
    {
     "data": {
      "image/png": "[encoded data removed]",
      "text/plain": [
       "<Figure size 500x500 with 1 Axes>"
      ]
     },
     "metadata": {},
     "output_type": "display_data"
    }
   ],
   "source": [
    "#Confusion metrics of the model built on down-sampled data\n",
    "conf_matrix = confusion_matrix(y_true=y_test, y_pred=test_downsampled)\n",
    "\n",
    "fig, ax = plt.subplots(figsize=(5, 5))\n",
    "ax.matshow(conf_matrix, cmap=plt.cm.Oranges, alpha=0.3)\n",
    "for i in range(conf_matrix.shape[0]):\n",
    "    for j in range(conf_matrix.shape[1]):\n",
    "        ax.text(x=j, y=i,s=conf_matrix[i, j], va='center', ha='center', size='xx-large')\n",
    " \n",
    "plt.xlabel('Predictions', fontsize=18)\n",
    "plt.ylabel('Actuals', fontsize=18)\n",
    "plt.title('Confusion Matrix', fontsize=18)\n",
    "plt.show()"
   ]
  },
  {
   "cell_type": "code",
   "execution_count": 80,
   "metadata": {},
   "outputs": [
    {
     "data": {
      "text/html": [
       "<div>\n",
       "<style scoped>\n",
       "    .dataframe tbody tr th:only-of-type {\n",
       "        vertical-align: middle;\n",
       "    }\n",
       "\n",
       "    .dataframe tbody tr th {\n",
       "        vertical-align: top;\n",
       "    }\n",
       "\n",
       "    .dataframe thead th {\n",
       "        text-align: right;\n",
       "    }\n",
       "</style>\n",
       "<table border=\"1\" class=\"dataframe\">\n",
       "  <thead>\n",
       "    <tr style=\"text-align: right;\">\n",
       "      <th></th>\n",
       "      <th>Original Dataset</th>\n",
       "      <th>Threshold = 0.3</th>\n",
       "      <th>Upsampled Dataset</th>\n",
       "      <th>Downsampled Dataset</th>\n",
       "    </tr>\n",
       "  </thead>\n",
       "  <tbody>\n",
       "    <tr>\n",
       "      <th>Precision</th>\n",
       "      <td>0.5361</td>\n",
       "      <td>0.4835</td>\n",
       "      <td>0.4303</td>\n",
       "      <td>0.4212</td>\n",
       "    </tr>\n",
       "    <tr>\n",
       "      <th>Recall</th>\n",
       "      <td>0.4116</td>\n",
       "      <td>0.8113</td>\n",
       "      <td>0.9048</td>\n",
       "      <td>0.9148</td>\n",
       "    </tr>\n",
       "    <tr>\n",
       "      <th>F1_score</th>\n",
       "      <td>0.4657</td>\n",
       "      <td>0.6059</td>\n",
       "      <td>0.5832</td>\n",
       "      <td>0.5768</td>\n",
       "    </tr>\n",
       "  </tbody>\n",
       "</table>\n",
       "</div>"
      ],
      "text/plain": [
       "           Original Dataset  Threshold = 0.3  Upsampled Dataset   \n",
       "Precision            0.5361           0.4835             0.4303  \\\n",
       "Recall               0.4116           0.8113             0.9048   \n",
       "F1_score             0.4657           0.6059             0.5832   \n",
       "\n",
       "           Downsampled Dataset  \n",
       "Precision               0.4212  \n",
       "Recall                  0.9148  \n",
       "F1_score                0.5768  "
      ]
     },
     "execution_count": 80,
     "metadata": {},
     "output_type": "execute_result"
    }
   ],
   "source": [
    "#Final Metrics\n",
    "\n",
    "precision_downsampled =  round(precision_score(y_test, test_downsampled), 4)\n",
    "recall_downsampled = round(recall_score(y_test, test_downsampled), 4)\n",
    "F1_downsampled =  round(f1_score(y_test, test_downsampled), 4)\n",
    "metrics_downsampled = [precision_downsampled, recall_downsampled, F1_downsampled]\n",
    "\n",
    "downsampled = pd.DataFrame(list(zip(metrics_original, metrics_changedthreshold,  metrics_upsampled, metrics_downsampled)))\n",
    "downsampled.index = ['Precision', 'Recall', 'F1_score']\n",
    "downsampled.columns = ['Original Dataset', 'Threshold = 0.3', 'Upsampled Dataset', 'Downsampled Dataset']\n",
    "downsampled"
   ]
  },
  {
   "cell_type": "markdown",
   "metadata": {},
   "source": [
    "# imblearn library\n",
    "\n",
    "The imbalanced-learn library (often abbreviated as imblearn) is a Python library designed to address the challenges posed by imbalanced datasets in machine learning. An imbalanced dataset occurs when the distribution of classes is not uniform, with one class having significantly fewer instances than another. This imbalance can lead to biased model performance, especially in binary classification problems.\n",
    "\n",
    "The imbalanced-learn library provides a variety of techniques for handling class imbalance, including:\n",
    "\n",
    "1. **Oversampling Methods:**. Generating synthetic examples of the minority class to balance class distribution. Examples include SMOTE (Synthetic Minority Over-sampling Technique) and ADASYN (Adaptive Synthetic Sampling).\n",
    "\n",
    "2. **Undersampling Methods:**. Reducing the number of examples from the majority class to balance the distribution. Examples include RandomUnderSampler and TomekLinks.\n",
    "\n",
    "3. **Combination Methods:**. Combining oversampling and undersampling strategies. Examples include SMOTEENN and SMOTETomek.\n",
    "\n",
    "4. **Weighting Methods:**. Assigning different weights to classes during training to give more importance to the minority class. Examples include the inverse class frequency approach and custom weight approach.\n",
    "\n",
    "imbalanced-learn is an extension of the scikit-learn library and can be easily integrated with other machine learning methods available in scikit-learn.\n",
    "\n",
    "To use imbalanced-learn, you can install it using the following command:\n",
    "\n",
    "```bash\n",
    "pip install -U imbalanced-learn\n",
    "```\n",
    "\n",
    "Once installed, you can import its functions and classes into your Python script to implement class balancing techniques on imbalanced datasets."
   ]
  },
  {
   "cell_type": "code",
   "execution_count": 81,
   "metadata": {},
   "outputs": [],
   "source": [
    "# pip install -U imbalanced-learn"
   ]
  },
  {
   "cell_type": "code",
   "execution_count": 82,
   "metadata": {},
   "outputs": [
    {
     "name": "stdout",
     "output_type": "stream",
     "text": [
      "0.11.0\n"
     ]
    }
   ],
   "source": [
    "# check version number\n",
    "import imblearn\n",
    "print(imblearn.__version__)"
   ]
  },
  {
   "cell_type": "markdown",
   "metadata": {},
   "source": [
    "## SMOTE\n",
    "\n",
    "SMOTE, which stands for Synthetic Minority Over-sampling Technique, is a technique used to address class imbalance in machine learning datasets. It works by generating synthetic examples of the minority class to balance the class distribution. SMOTE helps address the issue of imbalanced datasets by creating new synthetic instances rather than replicating existing ones. This helps prevent overfitting on the minority class and can improve the performance of machine learning models.\n",
    "\n",
    "Steps of the SMOTE technique:\n",
    "\n",
    "1. **Identify Minority Class Instances**. SMOTE focuses on the minority class, which is the class with fewer instances.\n",
    "\n",
    "2. **Select a Minority Instance**. For each instance in the minority class, SMOTE selects a data point.\n",
    "\n",
    "3. **Identify k Nearest Neighbors:**. SMOTE then identifies the k nearest neighbors of the selected instance. The value of k is a parameter specified by the user.\n",
    "\n",
    "4. **Generate Synthetic Examples**. For the selected instance, SMOTE generates synthetic examples by interpolating between the selected instance and its k nearest neighbors. The interpolation is done by taking the difference between feature values of the selected instance and each neighbor and multiplying it by a random number between 0 and 1. The result is added to the selected instance to create a synthetic example.\n",
    "\n",
    "5. **Repeat for Other Instances**. Steps 2-4 are repeated for all instances in the minority class.\n",
    "\n",
    "6. **Incorporate Synthetic Examples.**. The synthetic examples are incorporated into the dataset, increasing the representation of the minority class.\n",
    "\n",
    "\n",
    "Regarding step 4 above, the mathematical formulation is given by the following expression:\n",
    "\n",
    " $$\n",
    " x_{new} = x_i + \\lambda \\times (x_{zi} - x_i)\n",
    " $$\n",
    "\n",
    "In the above expression, $\\lambda$ is a random number in the range $[0,1]$. This interpolation will create a sample on the line between \n",
    "$x_i$ and $x_{zi}$. The following image gives an intuition about how SMOTE does such interpolation to generation synthetic examples.\n",
    "\n",
    "<p align=\"center\">\n",
    "<img src=\"https://imbalanced-learn.org/stable/_images/sphx_glr_plot_illustration_generation_sample_001.png\" alt=\"drawing\" width=\"400\"/>\n",
    "</p>"
   ]
  },
  {
   "cell_type": "code",
   "execution_count": 83,
   "metadata": {},
   "outputs": [],
   "source": [
    "from imblearn.over_sampling import SMOTE\n",
    "from imblearn.under_sampling import RandomUnderSampler\n",
    "\n",
    "smote_oversample = SMOTE()\n"
   ]
  },
  {
   "cell_type": "code",
   "execution_count": 84,
   "metadata": {},
   "outputs": [],
   "source": [
    "X_train_smote, y_train_smote = smote_oversample.fit_resample(X_train, y_train)"
   ]
  },
  {
   "cell_type": "code",
   "execution_count": 85,
   "metadata": {},
   "outputs": [
    {
     "name": "stdout",
     "output_type": "stream",
     "text": [
      "Counter({0: 223686, 1: 223686})\n"
     ]
    }
   ],
   "source": [
    "from collections import Counter\n",
    "\n",
    "# summarize the new class distribution\n",
    "counter = Counter(y_train_smote)\n",
    "print(counter)"
   ]
  },
  {
   "cell_type": "code",
   "execution_count": 86,
   "metadata": {},
   "outputs": [],
   "source": [
    "#Training the model on SMOTE p-sampled data and testing on the original test dataset\n",
    "\n",
    "xgb_smote = xgb.XGBClassifier()\n",
    "\n",
    "xgb_smote.fit(X_train_smote, y_train_smote)\n",
    "\n",
    "y_pred_smote = xgb_smote.predict(X_test)"
   ]
  },
  {
   "cell_type": "code",
   "execution_count": 87,
   "metadata": {},
   "outputs": [
    {
     "data": {
      "image/png": "[encoded data removed]",
      "text/plain": [
       "<Figure size 500x500 with 1 Axes>"
      ]
     },
     "metadata": {},
     "output_type": "display_data"
    }
   ],
   "source": [
    "#Confusion metrics of the model built on down-sampled data\n",
    "conf_matrix = confusion_matrix(y_true=y_test, y_pred=y_pred_smote)\n",
    "\n",
    "fig, ax = plt.subplots(figsize=(5, 5))\n",
    "ax.matshow(conf_matrix, cmap=plt.cm.Oranges, alpha=0.3)\n",
    "for i in range(conf_matrix.shape[0]):\n",
    "    for j in range(conf_matrix.shape[1]):\n",
    "        ax.text(x=j, y=i,s=conf_matrix[i, j], va='center', ha='center', size='xx-large')\n",
    " \n",
    "plt.xlabel('Predictions', fontsize=18)\n",
    "plt.ylabel('Actuals', fontsize=18)\n",
    "plt.title('Confusion Matrix', fontsize=18)\n",
    "plt.show()"
   ]
  },
  {
   "cell_type": "code",
   "execution_count": 88,
   "metadata": {},
   "outputs": [
    {
     "data": {
      "text/html": [
       "<div>\n",
       "<style scoped>\n",
       "    .dataframe tbody tr th:only-of-type {\n",
       "        vertical-align: middle;\n",
       "    }\n",
       "\n",
       "    .dataframe tbody tr th {\n",
       "        vertical-align: top;\n",
       "    }\n",
       "\n",
       "    .dataframe thead th {\n",
       "        text-align: right;\n",
       "    }\n",
       "</style>\n",
       "<table border=\"1\" class=\"dataframe\">\n",
       "  <thead>\n",
       "    <tr style=\"text-align: right;\">\n",
       "      <th></th>\n",
       "      <th>Original Dataset</th>\n",
       "      <th>Threshold = 0.3</th>\n",
       "      <th>Upsampled Dataset</th>\n",
       "      <th>Downsampled Dataset</th>\n",
       "      <th>SMOTE upsampled</th>\n",
       "    </tr>\n",
       "  </thead>\n",
       "  <tbody>\n",
       "    <tr>\n",
       "      <th>Precision</th>\n",
       "      <td>0.5361</td>\n",
       "      <td>0.4835</td>\n",
       "      <td>0.4303</td>\n",
       "      <td>0.4212</td>\n",
       "      <td>0.4951</td>\n",
       "    </tr>\n",
       "    <tr>\n",
       "      <th>Recall</th>\n",
       "      <td>0.4116</td>\n",
       "      <td>0.8113</td>\n",
       "      <td>0.9048</td>\n",
       "      <td>0.9148</td>\n",
       "      <td>0.7021</td>\n",
       "    </tr>\n",
       "    <tr>\n",
       "      <th>F1_score</th>\n",
       "      <td>0.4657</td>\n",
       "      <td>0.6059</td>\n",
       "      <td>0.5832</td>\n",
       "      <td>0.5768</td>\n",
       "      <td>0.5807</td>\n",
       "    </tr>\n",
       "  </tbody>\n",
       "</table>\n",
       "</div>"
      ],
      "text/plain": [
       "           Original Dataset  Threshold = 0.3  Upsampled Dataset   \n",
       "Precision            0.5361           0.4835             0.4303  \\\n",
       "Recall               0.4116           0.8113             0.9048   \n",
       "F1_score             0.4657           0.6059             0.5832   \n",
       "\n",
       "           Downsampled Dataset  SMOTE upsampled  \n",
       "Precision               0.4212           0.4951  \n",
       "Recall                  0.9148           0.7021  \n",
       "F1_score                0.5768           0.5807  "
      ]
     },
     "execution_count": 88,
     "metadata": {},
     "output_type": "execute_result"
    }
   ],
   "source": [
    "precision_smote =  round(precision_score(y_test, y_pred_smote), 4)\n",
    "recall_smote = round(recall_score(y_test, y_pred_smote), 4)\n",
    "F1_smote =  round(f1_score(y_test, y_pred_smote), 4)\n",
    "metrics_smote = [precision_smote, recall_smote, F1_smote]\n",
    "\n",
    "results = pd.DataFrame(list(zip(metrics_original, metrics_changedthreshold,  metrics_upsampled, metrics_downsampled, metrics_smote)))\n",
    "results.index = ['Precision', 'Recall', 'F1_score']\n",
    "results.columns = ['Original Dataset', 'Threshold = 0.3', 'Upsampled Dataset', 'Downsampled Dataset', 'SMOTE upsampled']\n",
    "results"
   ]
  }
 ],
 "metadata": {
  "kernelspec": {
   "display_name": "cic1205",
   "language": "python",
   "name": "python3"
  },
  "language_info": {
   "codemirror_mode": {
    "name": "ipython",
    "version": 3
   },
   "file_extension": ".py",
   "mimetype": "text/x-python",
   "name": "python",
   "nbconvert_exporter": "python",
   "pygments_lexer": "ipython3",
   "version": "3.10.9"
  }
 },
 "nbformat": 4,
 "nbformat_minor": 2
}
